{
  "nbformat": 4,
  "nbformat_minor": 0,
  "metadata": {
    "colab": {
      "provenance": [],
      "collapsed_sections": [
        "OOu0CdH_9GgR",
        "7DLETbVUvJp6",
        "CuoKYUPk-lK5",
        "dWMrpdvztcgo",
        "RLRLr3wztfW-",
        "eONmjp_yWUwT",
        "CZFG0L8Gv9N4",
        "rrrXBIVFhaeu",
        "2Nv0M8MCIAcu",
        "dWvZiNQQ9VOg",
        "EPEoOv7cD3cK"
      ],
      "gpuType": "V28",
      "include_colab_link": true
    },
    "kernelspec": {
      "name": "python3",
      "display_name": "Python 3"
    },
    "language_info": {
      "name": "python"
    },
    "accelerator": "TPU"
  },
  "cells": [
    {
      "cell_type": "markdown",
      "metadata": {
        "id": "view-in-github",
        "colab_type": "text"
      },
      "source": [
        "<a href=\"https://colab.research.google.com/github/Jkimoon/2025S/blob/main/IO2_HW3.ipynb\" target=\"_parent\"><img src=\"https://colab.research.google.com/assets/colab-badge.svg\" alt=\"Open In Colab\"/></a>"
      ]
    },
    {
      "cell_type": "code",
      "source": [
        "!pip install pyblp\n",
        "# !pip install knitro"
      ],
      "metadata": {
        "colab": {
          "base_uri": "https://localhost:8080/"
        },
        "id": "Mn_76AVAg-PS",
        "outputId": "6c327d36-95e5-4fff-8c16-cccd8fb658c8"
      },
      "execution_count": null,
      "outputs": [
        {
          "output_type": "stream",
          "name": "stdout",
          "text": [
            "Requirement already satisfied: pyblp in /usr/local/lib/python3.11/dist-packages (1.1.0)\n",
            "Requirement already satisfied: numpy>=1.17.0 in /usr/local/lib/python3.11/dist-packages (from pyblp) (1.26.4)\n",
            "Requirement already satisfied: patsy>=0.5.1 in /usr/local/lib/python3.11/dist-packages (from pyblp) (1.0.1)\n",
            "Requirement already satisfied: pyhdfe>=0.1.0 in /usr/local/lib/python3.11/dist-packages (from pyblp) (0.2.0)\n",
            "Requirement already satisfied: scipy>=1.2.0 in /usr/local/lib/python3.11/dist-packages (from pyblp) (1.13.1)\n",
            "Requirement already satisfied: sympy>=1.1.0 in /usr/local/lib/python3.11/dist-packages (from pyblp) (1.13.1)\n",
            "Requirement already satisfied: mpmath<1.4,>=1.1.0 in /usr/local/lib/python3.11/dist-packages (from sympy>=1.1.0->pyblp) (1.3.0)\n"
          ]
        }
      ]
    },
    {
      "cell_type": "code",
      "execution_count": null,
      "metadata": {
        "colab": {
          "base_uri": "https://localhost:8080/",
          "height": 35
        },
        "id": "B138HVBlgP6c",
        "outputId": "bf6a1272-9d4b-4ff6-a6dd-0d9072669109"
      },
      "outputs": [
        {
          "output_type": "execute_result",
          "data": {
            "text/plain": [
              "'1.1.0'"
            ],
            "application/vnd.google.colaboratory.intrinsic+json": {
              "type": "string"
            }
          },
          "metadata": {},
          "execution_count": 3
        }
      ],
      "source": [
        "import pyblp\n",
        "import numpy as np\n",
        "import pandas as pd\n",
        "import matplotlib.pyplot as plt\n",
        "import scipy.optimize\n",
        "from pyblp import Optimization # Import Optimization class\n",
        "\n",
        "pyblp.options.digits = 2\n",
        "pyblp.options.verbose = False\n",
        "pyblp.options.default_parallel = 3\n",
        "pyblp.__version__"
      ]
    },
    {
      "cell_type": "markdown",
      "source": [
        "#Load Data"
      ],
      "metadata": {
        "id": "IAFatHhRvDJy"
      }
    },
    {
      "cell_type": "code",
      "source": [
        "# load data\n",
        "product_data = pd.read_csv(\"airline_data_prepared.csv\")\n",
        "# Adjust 'simpleshare' based on the given conditions\n",
        "# product_data['simpleshare'] = -0.000001\n",
        "# If value is greater than or equal to 1, set it to 0.999999\n",
        "# product_data.loc[product_data['simpleshare'] >= 1, 'simpleshare'] = 0.999999\n",
        "# If value is 0, set it to 0.000001\n",
        "# product_data.loc[product_data['simpleshare'] <= 0, 'simpleshare'] = 0.000001\n",
        "# Rename variables\n",
        "# Rename variables"
      ],
      "metadata": {
        "id": "cUFF85_yg0VJ"
      },
      "execution_count": null,
      "outputs": []
    },
    {
      "cell_type": "markdown",
      "source": [
        "#1.2 (simple IV)"
      ],
      "metadata": {
        "id": "OOu0CdH_9GgR"
      }
    },
    {
      "cell_type": "code",
      "source": [
        "# Rename variables\n",
        "product_data = product_data.rename(columns={'averageprice': 'prices'})\n",
        "product_data = product_data.rename(columns={'market': 'market_ids'})\n",
        "product_data = product_data.rename(columns={'airline_market_share': 'shares'})\n",
        "product_data = product_data.rename(columns={'tkcarrier': 'firm_ids'})\n",
        "# Rename IV's\n",
        "product_data = product_data.rename(columns={'IV': 'demand_instruments0'})\n",
        "product_data.head()"
      ],
      "metadata": {
        "colab": {
          "base_uri": "https://localhost:8080/"
        },
        "id": "5ewCgc2emPm_",
        "outputId": "5018d745-4b3b-4e39-a437-145f7aedfb7b"
      },
      "execution_count": null,
      "outputs": [
        {
          "output_type": "execute_result",
          "data": {
            "text/plain": [
              "  market_ids firm_ids  marketdistanceticket  OAGnonstop origin dest  \\\n",
              "0     ACYATL       NK              0.677444    1.000000    ACY  ATL   \n",
              "1     ACYDFW       NK              1.326746    0.000000    ACY  DFW   \n",
              "2     ACYFLL       NK              0.978535    0.974646    ACY  FLL   \n",
              "3     ACYIAH       NK              1.342880    0.000000    ACY  IAH   \n",
              "4     ACYLAS       NK              2.208158    0.000000    ACY  LAS   \n",
              "\n",
              "   airportmarketsize    prices  totalpassengers market_nodirection  ...  \\\n",
              "0          6146834.5  0.773634             2200             ACYATL  ...   \n",
              "1          6883516.5  1.360923              140             ACYDFW  ...   \n",
              "2          6248623.5  0.757178            13410             ACYFLL  ...   \n",
              "3          6658437.5  1.381371              130             ACYIAH  ...   \n",
              "4          3761303.0  1.124277              190             ACYLAS  ...   \n",
              "\n",
              "   _est_iv_manual  _est_iv_dest  _est_iv_bres  _est_ols_fe  _est_iv_all  \\\n",
              "0               1             1             1            1            1   \n",
              "1               1             1             1            1            1   \n",
              "2               1             1             1            1            1   \n",
              "3               1             1             1            1            1   \n",
              "4               1             1             1            1            1   \n",
              "\n",
              "   own_elasticity_iv  markup_iv  marginal_cost_iv  lerner_index_iv  \\\n",
              "0          -5.573799   0.138798          0.634835         0.179411   \n",
              "1          -9.808352   0.138751          1.222171         0.101954   \n",
              "2          -5.445482   0.139047          0.618131         0.183638   \n",
              "3          -9.955731   0.138751          1.242619         0.100445   \n",
              "4          -8.102570   0.138756          0.985521         0.123418   \n",
              "\n",
              "   residuals_iv  \n",
              "0     -2.235825  \n",
              "1     -2.466400  \n",
              "2     -1.301249  \n",
              "3     -2.399526  \n",
              "4     -5.427683  \n",
              "\n",
              "[5 rows x 73 columns]"
            ],
            "text/html": [
              "\n",
              "  <div id=\"df-90054302-953f-4ae7-a0e4-67aa1004df4f\" class=\"colab-df-container\">\n",
              "    <div>\n",
              "<style scoped>\n",
              "    .dataframe tbody tr th:only-of-type {\n",
              "        vertical-align: middle;\n",
              "    }\n",
              "\n",
              "    .dataframe tbody tr th {\n",
              "        vertical-align: top;\n",
              "    }\n",
              "\n",
              "    .dataframe thead th {\n",
              "        text-align: right;\n",
              "    }\n",
              "</style>\n",
              "<table border=\"1\" class=\"dataframe\">\n",
              "  <thead>\n",
              "    <tr style=\"text-align: right;\">\n",
              "      <th></th>\n",
              "      <th>market_ids</th>\n",
              "      <th>firm_ids</th>\n",
              "      <th>marketdistanceticket</th>\n",
              "      <th>OAGnonstop</th>\n",
              "      <th>origin</th>\n",
              "      <th>dest</th>\n",
              "      <th>airportmarketsize</th>\n",
              "      <th>prices</th>\n",
              "      <th>totalpassengers</th>\n",
              "      <th>market_nodirection</th>\n",
              "      <th>...</th>\n",
              "      <th>_est_iv_manual</th>\n",
              "      <th>_est_iv_dest</th>\n",
              "      <th>_est_iv_bres</th>\n",
              "      <th>_est_ols_fe</th>\n",
              "      <th>_est_iv_all</th>\n",
              "      <th>own_elasticity_iv</th>\n",
              "      <th>markup_iv</th>\n",
              "      <th>marginal_cost_iv</th>\n",
              "      <th>lerner_index_iv</th>\n",
              "      <th>residuals_iv</th>\n",
              "    </tr>\n",
              "  </thead>\n",
              "  <tbody>\n",
              "    <tr>\n",
              "      <th>0</th>\n",
              "      <td>ACYATL</td>\n",
              "      <td>NK</td>\n",
              "      <td>0.677444</td>\n",
              "      <td>1.000000</td>\n",
              "      <td>ACY</td>\n",
              "      <td>ATL</td>\n",
              "      <td>6146834.5</td>\n",
              "      <td>0.773634</td>\n",
              "      <td>2200</td>\n",
              "      <td>ACYATL</td>\n",
              "      <td>...</td>\n",
              "      <td>1</td>\n",
              "      <td>1</td>\n",
              "      <td>1</td>\n",
              "      <td>1</td>\n",
              "      <td>1</td>\n",
              "      <td>-5.573799</td>\n",
              "      <td>0.138798</td>\n",
              "      <td>0.634835</td>\n",
              "      <td>0.179411</td>\n",
              "      <td>-2.235825</td>\n",
              "    </tr>\n",
              "    <tr>\n",
              "      <th>1</th>\n",
              "      <td>ACYDFW</td>\n",
              "      <td>NK</td>\n",
              "      <td>1.326746</td>\n",
              "      <td>0.000000</td>\n",
              "      <td>ACY</td>\n",
              "      <td>DFW</td>\n",
              "      <td>6883516.5</td>\n",
              "      <td>1.360923</td>\n",
              "      <td>140</td>\n",
              "      <td>ACYDFW</td>\n",
              "      <td>...</td>\n",
              "      <td>1</td>\n",
              "      <td>1</td>\n",
              "      <td>1</td>\n",
              "      <td>1</td>\n",
              "      <td>1</td>\n",
              "      <td>-9.808352</td>\n",
              "      <td>0.138751</td>\n",
              "      <td>1.222171</td>\n",
              "      <td>0.101954</td>\n",
              "      <td>-2.466400</td>\n",
              "    </tr>\n",
              "    <tr>\n",
              "      <th>2</th>\n",
              "      <td>ACYFLL</td>\n",
              "      <td>NK</td>\n",
              "      <td>0.978535</td>\n",
              "      <td>0.974646</td>\n",
              "      <td>ACY</td>\n",
              "      <td>FLL</td>\n",
              "      <td>6248623.5</td>\n",
              "      <td>0.757178</td>\n",
              "      <td>13410</td>\n",
              "      <td>ACYFLL</td>\n",
              "      <td>...</td>\n",
              "      <td>1</td>\n",
              "      <td>1</td>\n",
              "      <td>1</td>\n",
              "      <td>1</td>\n",
              "      <td>1</td>\n",
              "      <td>-5.445482</td>\n",
              "      <td>0.139047</td>\n",
              "      <td>0.618131</td>\n",
              "      <td>0.183638</td>\n",
              "      <td>-1.301249</td>\n",
              "    </tr>\n",
              "    <tr>\n",
              "      <th>3</th>\n",
              "      <td>ACYIAH</td>\n",
              "      <td>NK</td>\n",
              "      <td>1.342880</td>\n",
              "      <td>0.000000</td>\n",
              "      <td>ACY</td>\n",
              "      <td>IAH</td>\n",
              "      <td>6658437.5</td>\n",
              "      <td>1.381371</td>\n",
              "      <td>130</td>\n",
              "      <td>ACYIAH</td>\n",
              "      <td>...</td>\n",
              "      <td>1</td>\n",
              "      <td>1</td>\n",
              "      <td>1</td>\n",
              "      <td>1</td>\n",
              "      <td>1</td>\n",
              "      <td>-9.955731</td>\n",
              "      <td>0.138751</td>\n",
              "      <td>1.242619</td>\n",
              "      <td>0.100445</td>\n",
              "      <td>-2.399526</td>\n",
              "    </tr>\n",
              "    <tr>\n",
              "      <th>4</th>\n",
              "      <td>ACYLAS</td>\n",
              "      <td>NK</td>\n",
              "      <td>2.208158</td>\n",
              "      <td>0.000000</td>\n",
              "      <td>ACY</td>\n",
              "      <td>LAS</td>\n",
              "      <td>3761303.0</td>\n",
              "      <td>1.124277</td>\n",
              "      <td>190</td>\n",
              "      <td>ACYLAS</td>\n",
              "      <td>...</td>\n",
              "      <td>1</td>\n",
              "      <td>1</td>\n",
              "      <td>1</td>\n",
              "      <td>1</td>\n",
              "      <td>1</td>\n",
              "      <td>-8.102570</td>\n",
              "      <td>0.138756</td>\n",
              "      <td>0.985521</td>\n",
              "      <td>0.123418</td>\n",
              "      <td>-5.427683</td>\n",
              "    </tr>\n",
              "  </tbody>\n",
              "</table>\n",
              "<p>5 rows × 73 columns</p>\n",
              "</div>\n",
              "    <div class=\"colab-df-buttons\">\n",
              "\n",
              "  <div class=\"colab-df-container\">\n",
              "    <button class=\"colab-df-convert\" onclick=\"convertToInteractive('df-90054302-953f-4ae7-a0e4-67aa1004df4f')\"\n",
              "            title=\"Convert this dataframe to an interactive table.\"\n",
              "            style=\"display:none;\">\n",
              "\n",
              "  <svg xmlns=\"http://www.w3.org/2000/svg\" height=\"24px\" viewBox=\"0 -960 960 960\">\n",
              "    <path d=\"M120-120v-720h720v720H120Zm60-500h600v-160H180v160Zm220 220h160v-160H400v160Zm0 220h160v-160H400v160ZM180-400h160v-160H180v160Zm440 0h160v-160H620v160ZM180-180h160v-160H180v160Zm440 0h160v-160H620v160Z\"/>\n",
              "  </svg>\n",
              "    </button>\n",
              "\n",
              "  <style>\n",
              "    .colab-df-container {\n",
              "      display:flex;\n",
              "      gap: 12px;\n",
              "    }\n",
              "\n",
              "    .colab-df-convert {\n",
              "      background-color: #E8F0FE;\n",
              "      border: none;\n",
              "      border-radius: 50%;\n",
              "      cursor: pointer;\n",
              "      display: none;\n",
              "      fill: #1967D2;\n",
              "      height: 32px;\n",
              "      padding: 0 0 0 0;\n",
              "      width: 32px;\n",
              "    }\n",
              "\n",
              "    .colab-df-convert:hover {\n",
              "      background-color: #E2EBFA;\n",
              "      box-shadow: 0px 1px 2px rgba(60, 64, 67, 0.3), 0px 1px 3px 1px rgba(60, 64, 67, 0.15);\n",
              "      fill: #174EA6;\n",
              "    }\n",
              "\n",
              "    .colab-df-buttons div {\n",
              "      margin-bottom: 4px;\n",
              "    }\n",
              "\n",
              "    [theme=dark] .colab-df-convert {\n",
              "      background-color: #3B4455;\n",
              "      fill: #D2E3FC;\n",
              "    }\n",
              "\n",
              "    [theme=dark] .colab-df-convert:hover {\n",
              "      background-color: #434B5C;\n",
              "      box-shadow: 0px 1px 3px 1px rgba(0, 0, 0, 0.15);\n",
              "      filter: drop-shadow(0px 1px 2px rgba(0, 0, 0, 0.3));\n",
              "      fill: #FFFFFF;\n",
              "    }\n",
              "  </style>\n",
              "\n",
              "    <script>\n",
              "      const buttonEl =\n",
              "        document.querySelector('#df-90054302-953f-4ae7-a0e4-67aa1004df4f button.colab-df-convert');\n",
              "      buttonEl.style.display =\n",
              "        google.colab.kernel.accessAllowed ? 'block' : 'none';\n",
              "\n",
              "      async function convertToInteractive(key) {\n",
              "        const element = document.querySelector('#df-90054302-953f-4ae7-a0e4-67aa1004df4f');\n",
              "        const dataTable =\n",
              "          await google.colab.kernel.invokeFunction('convertToInteractive',\n",
              "                                                    [key], {});\n",
              "        if (!dataTable) return;\n",
              "\n",
              "        const docLinkHtml = 'Like what you see? Visit the ' +\n",
              "          '<a target=\"_blank\" href=https://colab.research.google.com/notebooks/data_table.ipynb>data table notebook</a>'\n",
              "          + ' to learn more about interactive tables.';\n",
              "        element.innerHTML = '';\n",
              "        dataTable['output_type'] = 'display_data';\n",
              "        await google.colab.output.renderOutput(dataTable, element);\n",
              "        const docLink = document.createElement('div');\n",
              "        docLink.innerHTML = docLinkHtml;\n",
              "        element.appendChild(docLink);\n",
              "      }\n",
              "    </script>\n",
              "  </div>\n",
              "\n",
              "\n",
              "<div id=\"df-9465b24e-a20e-414a-bdf9-d08ea03b3ebe\">\n",
              "  <button class=\"colab-df-quickchart\" onclick=\"quickchart('df-9465b24e-a20e-414a-bdf9-d08ea03b3ebe')\"\n",
              "            title=\"Suggest charts\"\n",
              "            style=\"display:none;\">\n",
              "\n",
              "<svg xmlns=\"http://www.w3.org/2000/svg\" height=\"24px\"viewBox=\"0 0 24 24\"\n",
              "     width=\"24px\">\n",
              "    <g>\n",
              "        <path d=\"M19 3H5c-1.1 0-2 .9-2 2v14c0 1.1.9 2 2 2h14c1.1 0 2-.9 2-2V5c0-1.1-.9-2-2-2zM9 17H7v-7h2v7zm4 0h-2V7h2v10zm4 0h-2v-4h2v4z\"/>\n",
              "    </g>\n",
              "</svg>\n",
              "  </button>\n",
              "\n",
              "<style>\n",
              "  .colab-df-quickchart {\n",
              "      --bg-color: #E8F0FE;\n",
              "      --fill-color: #1967D2;\n",
              "      --hover-bg-color: #E2EBFA;\n",
              "      --hover-fill-color: #174EA6;\n",
              "      --disabled-fill-color: #AAA;\n",
              "      --disabled-bg-color: #DDD;\n",
              "  }\n",
              "\n",
              "  [theme=dark] .colab-df-quickchart {\n",
              "      --bg-color: #3B4455;\n",
              "      --fill-color: #D2E3FC;\n",
              "      --hover-bg-color: #434B5C;\n",
              "      --hover-fill-color: #FFFFFF;\n",
              "      --disabled-bg-color: #3B4455;\n",
              "      --disabled-fill-color: #666;\n",
              "  }\n",
              "\n",
              "  .colab-df-quickchart {\n",
              "    background-color: var(--bg-color);\n",
              "    border: none;\n",
              "    border-radius: 50%;\n",
              "    cursor: pointer;\n",
              "    display: none;\n",
              "    fill: var(--fill-color);\n",
              "    height: 32px;\n",
              "    padding: 0;\n",
              "    width: 32px;\n",
              "  }\n",
              "\n",
              "  .colab-df-quickchart:hover {\n",
              "    background-color: var(--hover-bg-color);\n",
              "    box-shadow: 0 1px 2px rgba(60, 64, 67, 0.3), 0 1px 3px 1px rgba(60, 64, 67, 0.15);\n",
              "    fill: var(--button-hover-fill-color);\n",
              "  }\n",
              "\n",
              "  .colab-df-quickchart-complete:disabled,\n",
              "  .colab-df-quickchart-complete:disabled:hover {\n",
              "    background-color: var(--disabled-bg-color);\n",
              "    fill: var(--disabled-fill-color);\n",
              "    box-shadow: none;\n",
              "  }\n",
              "\n",
              "  .colab-df-spinner {\n",
              "    border: 2px solid var(--fill-color);\n",
              "    border-color: transparent;\n",
              "    border-bottom-color: var(--fill-color);\n",
              "    animation:\n",
              "      spin 1s steps(1) infinite;\n",
              "  }\n",
              "\n",
              "  @keyframes spin {\n",
              "    0% {\n",
              "      border-color: transparent;\n",
              "      border-bottom-color: var(--fill-color);\n",
              "      border-left-color: var(--fill-color);\n",
              "    }\n",
              "    20% {\n",
              "      border-color: transparent;\n",
              "      border-left-color: var(--fill-color);\n",
              "      border-top-color: var(--fill-color);\n",
              "    }\n",
              "    30% {\n",
              "      border-color: transparent;\n",
              "      border-left-color: var(--fill-color);\n",
              "      border-top-color: var(--fill-color);\n",
              "      border-right-color: var(--fill-color);\n",
              "    }\n",
              "    40% {\n",
              "      border-color: transparent;\n",
              "      border-right-color: var(--fill-color);\n",
              "      border-top-color: var(--fill-color);\n",
              "    }\n",
              "    60% {\n",
              "      border-color: transparent;\n",
              "      border-right-color: var(--fill-color);\n",
              "    }\n",
              "    80% {\n",
              "      border-color: transparent;\n",
              "      border-right-color: var(--fill-color);\n",
              "      border-bottom-color: var(--fill-color);\n",
              "    }\n",
              "    90% {\n",
              "      border-color: transparent;\n",
              "      border-bottom-color: var(--fill-color);\n",
              "    }\n",
              "  }\n",
              "</style>\n",
              "\n",
              "  <script>\n",
              "    async function quickchart(key) {\n",
              "      const quickchartButtonEl =\n",
              "        document.querySelector('#' + key + ' button');\n",
              "      quickchartButtonEl.disabled = true;  // To prevent multiple clicks.\n",
              "      quickchartButtonEl.classList.add('colab-df-spinner');\n",
              "      try {\n",
              "        const charts = await google.colab.kernel.invokeFunction(\n",
              "            'suggestCharts', [key], {});\n",
              "      } catch (error) {\n",
              "        console.error('Error during call to suggestCharts:', error);\n",
              "      }\n",
              "      quickchartButtonEl.classList.remove('colab-df-spinner');\n",
              "      quickchartButtonEl.classList.add('colab-df-quickchart-complete');\n",
              "    }\n",
              "    (() => {\n",
              "      let quickchartButtonEl =\n",
              "        document.querySelector('#df-9465b24e-a20e-414a-bdf9-d08ea03b3ebe button');\n",
              "      quickchartButtonEl.style.display =\n",
              "        google.colab.kernel.accessAllowed ? 'block' : 'none';\n",
              "    })();\n",
              "  </script>\n",
              "</div>\n",
              "\n",
              "    </div>\n",
              "  </div>\n"
            ],
            "application/vnd.google.colaboratory.intrinsic+json": {
              "type": "dataframe",
              "variable_name": "product_data"
            }
          },
          "metadata": {},
          "execution_count": 58
        }
      ]
    },
    {
      "cell_type": "code",
      "source": [
        "# set up problem\n",
        "logit_formulation = pyblp.Formulation('prices + marketdistanceticket + AirlineOriginPresence', absorb='C(firm_ids)')\n",
        "logit_formulation"
      ],
      "metadata": {
        "colab": {
          "base_uri": "https://localhost:8080/"
        },
        "id": "JTGDwPLRhdIk",
        "outputId": "61a0e1f3-7e5a-4409-ad4e-ee3b793dff47"
      },
      "execution_count": null,
      "outputs": [
        {
          "output_type": "execute_result",
          "data": {
            "text/plain": [
              "prices + marketdistanceticket + AirlineOriginPresence + Absorb[C(firm_ids)]"
            ]
          },
          "metadata": {},
          "execution_count": 59
        }
      ]
    },
    {
      "cell_type": "code",
      "source": [
        "# display problem\n",
        "problem = pyblp.Problem(logit_formulation, product_data)\n",
        "problem"
      ],
      "metadata": {
        "colab": {
          "base_uri": "https://localhost:8080/"
        },
        "id": "8u3LpeyBjAUP",
        "outputId": "038ebd2a-3dad-4973-d052-7c81177e997d"
      },
      "execution_count": null,
      "outputs": [
        {
          "output_type": "execute_result",
          "data": {
            "text/plain": [
              "Dimensions:\n",
              "==================================\n",
              " T      N     F    K1    MD    ED \n",
              "----  -----  ---  ----  ----  ----\n",
              "4019  14315   8    3     3     1  \n",
              "==================================\n",
              "\n",
              "Formulations:\n",
              "===============================================================================\n",
              "     Column Indices:          0              1                      2          \n",
              "--------------------------  ------  --------------------  ---------------------\n",
              "X1: Linear Characteristics  prices  marketdistanceticket  AirlineOriginPresence\n",
              "==============================================================================="
            ]
          },
          "metadata": {},
          "execution_count": 60
        }
      ]
    },
    {
      "cell_type": "code",
      "source": [
        "#solve problem\n",
        "logit_results = problem.solve()\n",
        "logit_results"
      ],
      "metadata": {
        "colab": {
          "base_uri": "https://localhost:8080/"
        },
        "id": "Nzq54ceqjOtn",
        "outputId": "4406a171-b5de-4ab9-ff7d-a5697fb9f287"
      },
      "execution_count": null,
      "outputs": [
        {
          "output_type": "execute_result",
          "data": {
            "text/plain": [
              "Problem Results Summary:\n",
              "=============================================================\n",
              "GMM   Objective  Clipped  Weighting Matrix  Covariance Matrix\n",
              "Step    Value    Shares   Condition Number  Condition Number \n",
              "----  ---------  -------  ----------------  -----------------\n",
              " 2    +7.0E-25      0         +5.0E+01          +7.3E+02     \n",
              "=============================================================\n",
              "\n",
              "Cumulative Statistics:\n",
              "========================\n",
              "Computation   Objective \n",
              "   Time      Evaluations\n",
              "-----------  -----------\n",
              " 00:00:00         2     \n",
              "========================\n",
              "\n",
              "Beta Estimates (Robust SEs in Parentheses):\n",
              "=======================================================\n",
              "  prices    marketdistanceticket  AirlineOriginPresence\n",
              "----------  --------------------  ---------------------\n",
              " -2.4E+01         +8.6E+00              +1.3E+00       \n",
              "(+2.4E+00)       (+9.1E-01)            (+7.4E-01)      \n",
              "======================================================="
            ]
          },
          "metadata": {},
          "execution_count": 61
        }
      ]
    },
    {
      "cell_type": "code",
      "source": [
        "#elasticities\n",
        "elasticities = logit_results.compute_elasticities()\n",
        "means = logit_results.extract_diagonal_means(elasticities)\n",
        "\n",
        "plt.hist(\n",
        "    [means.flatten()],\n",
        "    color=['red'],\n",
        "    bins=50\n",
        ");\n",
        "plt.legend(['Mean Own Elasticities']);"
      ],
      "metadata": {
        "colab": {
          "base_uri": "https://localhost:8080/",
          "height": 430
        },
        "id": "m3liajtMmv_n",
        "outputId": "e62bd1df-746f-4bc8-b44a-0f7e288900d2"
      },
      "execution_count": null,
      "outputs": [
        {
          "output_type": "display_data",
          "data": {
            "text/plain": [
              "<Figure size 640x480 with 1 Axes>"
            ],
            "image/png": "[encoded data removed]"
          },
          "metadata": {}
        }
      ]
    },
    {
      "cell_type": "code",
      "source": [
        "# MC\n",
        "costs = logit_results.compute_costs()\n",
        "plt.hist(costs, bins=50);\n",
        "plt.legend([\"Marginal Costs\"]);"
      ],
      "metadata": {
        "colab": {
          "base_uri": "https://localhost:8080/",
          "height": 430
        },
        "id": "hkUAfLrSrevC",
        "outputId": "b4e7c27f-2da4-43d6-b656-9bec47130560"
      },
      "execution_count": null,
      "outputs": [
        {
          "output_type": "display_data",
          "data": {
            "text/plain": [
              "<Figure size 640x480 with 1 Axes>"
            ],
            "image/png": "[encoded data removed]"
          },
          "metadata": {}
        }
      ]
    },
    {
      "cell_type": "code",
      "source": [
        "markups = logit_results.compute_markups(costs=costs)\n",
        "plt.hist(markups, bins=50);\n",
        "plt.legend([\"Markups\"]);"
      ],
      "metadata": {
        "colab": {
          "base_uri": "https://localhost:8080/",
          "height": 430
        },
        "id": "SoDmftlBtqSe",
        "outputId": "7b34e119-bbce-468e-8cca-03be876d2fdf"
      },
      "execution_count": null,
      "outputs": [
        {
          "output_type": "display_data",
          "data": {
            "text/plain": [
              "<Figure size 640x480 with 1 Axes>"
            ],
            "image/png": "[encoded data removed]"
          },
          "metadata": {}
        }
      ]
    },
    {
      "cell_type": "markdown",
      "source": [
        "# 1.2 (BR IV)"
      ],
      "metadata": {
        "id": "7DLETbVUvJp6"
      }
    },
    {
      "cell_type": "code",
      "source": [
        "# Rename variables\n",
        "product_data = product_data.rename(columns={'averageprice': 'prices'})\n",
        "product_data = product_data.rename(columns={'market': 'market_ids'})\n",
        "product_data = product_data.rename(columns={'airline_market_share': 'shares'})\n",
        "product_data = product_data.rename(columns={'tkcarrier': 'firm_ids'})\n",
        "# Rename IV's\n",
        "product_data = product_data.rename(columns={'IV_BR1': 'demand_instruments0'})\n",
        "product_data = product_data.rename(columns={'IV_BR2': 'demand_instruments1'})\n",
        "product_data.head()"
      ],
      "metadata": {
        "id": "PuvL72UkvPE7",
        "colab": {
          "base_uri": "https://localhost:8080/",
          "height": 255
        },
        "outputId": "799e2ace-bc71-47a6-d99a-3f8085c0ba6e"
      },
      "execution_count": null,
      "outputs": [
        {
          "output_type": "execute_result",
          "data": {
            "text/plain": [
              "  market_ids firm_ids  marketdistanceticket  OAGnonstop origin dest  \\\n",
              "0     ACYATL       NK              0.677444    1.000000    ACY  ATL   \n",
              "1     ACYDFW       NK              1.326746    0.000000    ACY  DFW   \n",
              "2     ACYFLL       NK              0.978535    0.974646    ACY  FLL   \n",
              "3     ACYIAH       NK              1.342880    0.000000    ACY  IAH   \n",
              "4     ACYLAS       NK              2.208158    0.000000    ACY  LAS   \n",
              "\n",
              "   airportmarketsize    prices  totalpassengers market_nodirection  ...  \\\n",
              "0          6146834.5  0.773634             2200             ACYATL  ...   \n",
              "1          6883516.5  1.360923              140             ACYDFW  ...   \n",
              "2          6248623.5  0.757178            13410             ACYFLL  ...   \n",
              "3          6658437.5  1.381371              130             ACYIAH  ...   \n",
              "4          3761303.0  1.124277              190             ACYLAS  ...   \n",
              "\n",
              "   _est_iv_manual  _est_iv_dest  _est_iv_bres  _est_ols_fe  _est_iv_all  \\\n",
              "0               1             1             1            1            1   \n",
              "1               1             1             1            1            1   \n",
              "2               1             1             1            1            1   \n",
              "3               1             1             1            1            1   \n",
              "4               1             1             1            1            1   \n",
              "\n",
              "   own_elasticity_iv  markup_iv  marginal_cost_iv  lerner_index_iv  \\\n",
              "0          -5.573799   0.138798          0.634835         0.179411   \n",
              "1          -9.808352   0.138751          1.222171         0.101954   \n",
              "2          -5.445482   0.139047          0.618131         0.183638   \n",
              "3          -9.955731   0.138751          1.242619         0.100445   \n",
              "4          -8.102570   0.138756          0.985521         0.123418   \n",
              "\n",
              "   residuals_iv  \n",
              "0     -2.235825  \n",
              "1     -2.466400  \n",
              "2     -1.301249  \n",
              "3     -2.399526  \n",
              "4     -5.427683  \n",
              "\n",
              "[5 rows x 73 columns]"
            ],
            "text/html": [
              "\n",
              "  <div id=\"df-2ec19b02-2c3a-447f-985a-5daef48b736b\" class=\"colab-df-container\">\n",
              "    <div>\n",
              "<style scoped>\n",
              "    .dataframe tbody tr th:only-of-type {\n",
              "        vertical-align: middle;\n",
              "    }\n",
              "\n",
              "    .dataframe tbody tr th {\n",
              "        vertical-align: top;\n",
              "    }\n",
              "\n",
              "    .dataframe thead th {\n",
              "        text-align: right;\n",
              "    }\n",
              "</style>\n",
              "<table border=\"1\" class=\"dataframe\">\n",
              "  <thead>\n",
              "    <tr style=\"text-align: right;\">\n",
              "      <th></th>\n",
              "      <th>market_ids</th>\n",
              "      <th>firm_ids</th>\n",
              "      <th>marketdistanceticket</th>\n",
              "      <th>OAGnonstop</th>\n",
              "      <th>origin</th>\n",
              "      <th>dest</th>\n",
              "      <th>airportmarketsize</th>\n",
              "      <th>prices</th>\n",
              "      <th>totalpassengers</th>\n",
              "      <th>market_nodirection</th>\n",
              "      <th>...</th>\n",
              "      <th>_est_iv_manual</th>\n",
              "      <th>_est_iv_dest</th>\n",
              "      <th>_est_iv_bres</th>\n",
              "      <th>_est_ols_fe</th>\n",
              "      <th>_est_iv_all</th>\n",
              "      <th>own_elasticity_iv</th>\n",
              "      <th>markup_iv</th>\n",
              "      <th>marginal_cost_iv</th>\n",
              "      <th>lerner_index_iv</th>\n",
              "      <th>residuals_iv</th>\n",
              "    </tr>\n",
              "  </thead>\n",
              "  <tbody>\n",
              "    <tr>\n",
              "      <th>0</th>\n",
              "      <td>ACYATL</td>\n",
              "      <td>NK</td>\n",
              "      <td>0.677444</td>\n",
              "      <td>1.000000</td>\n",
              "      <td>ACY</td>\n",
              "      <td>ATL</td>\n",
              "      <td>6146834.5</td>\n",
              "      <td>0.773634</td>\n",
              "      <td>2200</td>\n",
              "      <td>ACYATL</td>\n",
              "      <td>...</td>\n",
              "      <td>1</td>\n",
              "      <td>1</td>\n",
              "      <td>1</td>\n",
              "      <td>1</td>\n",
              "      <td>1</td>\n",
              "      <td>-5.573799</td>\n",
              "      <td>0.138798</td>\n",
              "      <td>0.634835</td>\n",
              "      <td>0.179411</td>\n",
              "      <td>-2.235825</td>\n",
              "    </tr>\n",
              "    <tr>\n",
              "      <th>1</th>\n",
              "      <td>ACYDFW</td>\n",
              "      <td>NK</td>\n",
              "      <td>1.326746</td>\n",
              "      <td>0.000000</td>\n",
              "      <td>ACY</td>\n",
              "      <td>DFW</td>\n",
              "      <td>6883516.5</td>\n",
              "      <td>1.360923</td>\n",
              "      <td>140</td>\n",
              "      <td>ACYDFW</td>\n",
              "      <td>...</td>\n",
              "      <td>1</td>\n",
              "      <td>1</td>\n",
              "      <td>1</td>\n",
              "      <td>1</td>\n",
              "      <td>1</td>\n",
              "      <td>-9.808352</td>\n",
              "      <td>0.138751</td>\n",
              "      <td>1.222171</td>\n",
              "      <td>0.101954</td>\n",
              "      <td>-2.466400</td>\n",
              "    </tr>\n",
              "    <tr>\n",
              "      <th>2</th>\n",
              "      <td>ACYFLL</td>\n",
              "      <td>NK</td>\n",
              "      <td>0.978535</td>\n",
              "      <td>0.974646</td>\n",
              "      <td>ACY</td>\n",
              "      <td>FLL</td>\n",
              "      <td>6248623.5</td>\n",
              "      <td>0.757178</td>\n",
              "      <td>13410</td>\n",
              "      <td>ACYFLL</td>\n",
              "      <td>...</td>\n",
              "      <td>1</td>\n",
              "      <td>1</td>\n",
              "      <td>1</td>\n",
              "      <td>1</td>\n",
              "      <td>1</td>\n",
              "      <td>-5.445482</td>\n",
              "      <td>0.139047</td>\n",
              "      <td>0.618131</td>\n",
              "      <td>0.183638</td>\n",
              "      <td>-1.301249</td>\n",
              "    </tr>\n",
              "    <tr>\n",
              "      <th>3</th>\n",
              "      <td>ACYIAH</td>\n",
              "      <td>NK</td>\n",
              "      <td>1.342880</td>\n",
              "      <td>0.000000</td>\n",
              "      <td>ACY</td>\n",
              "      <td>IAH</td>\n",
              "      <td>6658437.5</td>\n",
              "      <td>1.381371</td>\n",
              "      <td>130</td>\n",
              "      <td>ACYIAH</td>\n",
              "      <td>...</td>\n",
              "      <td>1</td>\n",
              "      <td>1</td>\n",
              "      <td>1</td>\n",
              "      <td>1</td>\n",
              "      <td>1</td>\n",
              "      <td>-9.955731</td>\n",
              "      <td>0.138751</td>\n",
              "      <td>1.242619</td>\n",
              "      <td>0.100445</td>\n",
              "      <td>-2.399526</td>\n",
              "    </tr>\n",
              "    <tr>\n",
              "      <th>4</th>\n",
              "      <td>ACYLAS</td>\n",
              "      <td>NK</td>\n",
              "      <td>2.208158</td>\n",
              "      <td>0.000000</td>\n",
              "      <td>ACY</td>\n",
              "      <td>LAS</td>\n",
              "      <td>3761303.0</td>\n",
              "      <td>1.124277</td>\n",
              "      <td>190</td>\n",
              "      <td>ACYLAS</td>\n",
              "      <td>...</td>\n",
              "      <td>1</td>\n",
              "      <td>1</td>\n",
              "      <td>1</td>\n",
              "      <td>1</td>\n",
              "      <td>1</td>\n",
              "      <td>-8.102570</td>\n",
              "      <td>0.138756</td>\n",
              "      <td>0.985521</td>\n",
              "      <td>0.123418</td>\n",
              "      <td>-5.427683</td>\n",
              "    </tr>\n",
              "  </tbody>\n",
              "</table>\n",
              "<p>5 rows × 73 columns</p>\n",
              "</div>\n",
              "    <div class=\"colab-df-buttons\">\n",
              "\n",
              "  <div class=\"colab-df-container\">\n",
              "    <button class=\"colab-df-convert\" onclick=\"convertToInteractive('df-2ec19b02-2c3a-447f-985a-5daef48b736b')\"\n",
              "            title=\"Convert this dataframe to an interactive table.\"\n",
              "            style=\"display:none;\">\n",
              "\n",
              "  <svg xmlns=\"http://www.w3.org/2000/svg\" height=\"24px\" viewBox=\"0 -960 960 960\">\n",
              "    <path d=\"M120-120v-720h720v720H120Zm60-500h600v-160H180v160Zm220 220h160v-160H400v160Zm0 220h160v-160H400v160ZM180-400h160v-160H180v160Zm440 0h160v-160H620v160ZM180-180h160v-160H180v160Zm440 0h160v-160H620v160Z\"/>\n",
              "  </svg>\n",
              "    </button>\n",
              "\n",
              "  <style>\n",
              "    .colab-df-container {\n",
              "      display:flex;\n",
              "      gap: 12px;\n",
              "    }\n",
              "\n",
              "    .colab-df-convert {\n",
              "      background-color: #E8F0FE;\n",
              "      border: none;\n",
              "      border-radius: 50%;\n",
              "      cursor: pointer;\n",
              "      display: none;\n",
              "      fill: #1967D2;\n",
              "      height: 32px;\n",
              "      padding: 0 0 0 0;\n",
              "      width: 32px;\n",
              "    }\n",
              "\n",
              "    .colab-df-convert:hover {\n",
              "      background-color: #E2EBFA;\n",
              "      box-shadow: 0px 1px 2px rgba(60, 64, 67, 0.3), 0px 1px 3px 1px rgba(60, 64, 67, 0.15);\n",
              "      fill: #174EA6;\n",
              "    }\n",
              "\n",
              "    .colab-df-buttons div {\n",
              "      margin-bottom: 4px;\n",
              "    }\n",
              "\n",
              "    [theme=dark] .colab-df-convert {\n",
              "      background-color: #3B4455;\n",
              "      fill: #D2E3FC;\n",
              "    }\n",
              "\n",
              "    [theme=dark] .colab-df-convert:hover {\n",
              "      background-color: #434B5C;\n",
              "      box-shadow: 0px 1px 3px 1px rgba(0, 0, 0, 0.15);\n",
              "      filter: drop-shadow(0px 1px 2px rgba(0, 0, 0, 0.3));\n",
              "      fill: #FFFFFF;\n",
              "    }\n",
              "  </style>\n",
              "\n",
              "    <script>\n",
              "      const buttonEl =\n",
              "        document.querySelector('#df-2ec19b02-2c3a-447f-985a-5daef48b736b button.colab-df-convert');\n",
              "      buttonEl.style.display =\n",
              "        google.colab.kernel.accessAllowed ? 'block' : 'none';\n",
              "\n",
              "      async function convertToInteractive(key) {\n",
              "        const element = document.querySelector('#df-2ec19b02-2c3a-447f-985a-5daef48b736b');\n",
              "        const dataTable =\n",
              "          await google.colab.kernel.invokeFunction('convertToInteractive',\n",
              "                                                    [key], {});\n",
              "        if (!dataTable) return;\n",
              "\n",
              "        const docLinkHtml = 'Like what you see? Visit the ' +\n",
              "          '<a target=\"_blank\" href=https://colab.research.google.com/notebooks/data_table.ipynb>data table notebook</a>'\n",
              "          + ' to learn more about interactive tables.';\n",
              "        element.innerHTML = '';\n",
              "        dataTable['output_type'] = 'display_data';\n",
              "        await google.colab.output.renderOutput(dataTable, element);\n",
              "        const docLink = document.createElement('div');\n",
              "        docLink.innerHTML = docLinkHtml;\n",
              "        element.appendChild(docLink);\n",
              "      }\n",
              "    </script>\n",
              "  </div>\n",
              "\n",
              "\n",
              "<div id=\"df-1704da18-bbf3-4f0d-9f72-39a72459ecdd\">\n",
              "  <button class=\"colab-df-quickchart\" onclick=\"quickchart('df-1704da18-bbf3-4f0d-9f72-39a72459ecdd')\"\n",
              "            title=\"Suggest charts\"\n",
              "            style=\"display:none;\">\n",
              "\n",
              "<svg xmlns=\"http://www.w3.org/2000/svg\" height=\"24px\"viewBox=\"0 0 24 24\"\n",
              "     width=\"24px\">\n",
              "    <g>\n",
              "        <path d=\"M19 3H5c-1.1 0-2 .9-2 2v14c0 1.1.9 2 2 2h14c1.1 0 2-.9 2-2V5c0-1.1-.9-2-2-2zM9 17H7v-7h2v7zm4 0h-2V7h2v10zm4 0h-2v-4h2v4z\"/>\n",
              "    </g>\n",
              "</svg>\n",
              "  </button>\n",
              "\n",
              "<style>\n",
              "  .colab-df-quickchart {\n",
              "      --bg-color: #E8F0FE;\n",
              "      --fill-color: #1967D2;\n",
              "      --hover-bg-color: #E2EBFA;\n",
              "      --hover-fill-color: #174EA6;\n",
              "      --disabled-fill-color: #AAA;\n",
              "      --disabled-bg-color: #DDD;\n",
              "  }\n",
              "\n",
              "  [theme=dark] .colab-df-quickchart {\n",
              "      --bg-color: #3B4455;\n",
              "      --fill-color: #D2E3FC;\n",
              "      --hover-bg-color: #434B5C;\n",
              "      --hover-fill-color: #FFFFFF;\n",
              "      --disabled-bg-color: #3B4455;\n",
              "      --disabled-fill-color: #666;\n",
              "  }\n",
              "\n",
              "  .colab-df-quickchart {\n",
              "    background-color: var(--bg-color);\n",
              "    border: none;\n",
              "    border-radius: 50%;\n",
              "    cursor: pointer;\n",
              "    display: none;\n",
              "    fill: var(--fill-color);\n",
              "    height: 32px;\n",
              "    padding: 0;\n",
              "    width: 32px;\n",
              "  }\n",
              "\n",
              "  .colab-df-quickchart:hover {\n",
              "    background-color: var(--hover-bg-color);\n",
              "    box-shadow: 0 1px 2px rgba(60, 64, 67, 0.3), 0 1px 3px 1px rgba(60, 64, 67, 0.15);\n",
              "    fill: var(--button-hover-fill-color);\n",
              "  }\n",
              "\n",
              "  .colab-df-quickchart-complete:disabled,\n",
              "  .colab-df-quickchart-complete:disabled:hover {\n",
              "    background-color: var(--disabled-bg-color);\n",
              "    fill: var(--disabled-fill-color);\n",
              "    box-shadow: none;\n",
              "  }\n",
              "\n",
              "  .colab-df-spinner {\n",
              "    border: 2px solid var(--fill-color);\n",
              "    border-color: transparent;\n",
              "    border-bottom-color: var(--fill-color);\n",
              "    animation:\n",
              "      spin 1s steps(1) infinite;\n",
              "  }\n",
              "\n",
              "  @keyframes spin {\n",
              "    0% {\n",
              "      border-color: transparent;\n",
              "      border-bottom-color: var(--fill-color);\n",
              "      border-left-color: var(--fill-color);\n",
              "    }\n",
              "    20% {\n",
              "      border-color: transparent;\n",
              "      border-left-color: var(--fill-color);\n",
              "      border-top-color: var(--fill-color);\n",
              "    }\n",
              "    30% {\n",
              "      border-color: transparent;\n",
              "      border-left-color: var(--fill-color);\n",
              "      border-top-color: var(--fill-color);\n",
              "      border-right-color: var(--fill-color);\n",
              "    }\n",
              "    40% {\n",
              "      border-color: transparent;\n",
              "      border-right-color: var(--fill-color);\n",
              "      border-top-color: var(--fill-color);\n",
              "    }\n",
              "    60% {\n",
              "      border-color: transparent;\n",
              "      border-right-color: var(--fill-color);\n",
              "    }\n",
              "    80% {\n",
              "      border-color: transparent;\n",
              "      border-right-color: var(--fill-color);\n",
              "      border-bottom-color: var(--fill-color);\n",
              "    }\n",
              "    90% {\n",
              "      border-color: transparent;\n",
              "      border-bottom-color: var(--fill-color);\n",
              "    }\n",
              "  }\n",
              "</style>\n",
              "\n",
              "  <script>\n",
              "    async function quickchart(key) {\n",
              "      const quickchartButtonEl =\n",
              "        document.querySelector('#' + key + ' button');\n",
              "      quickchartButtonEl.disabled = true;  // To prevent multiple clicks.\n",
              "      quickchartButtonEl.classList.add('colab-df-spinner');\n",
              "      try {\n",
              "        const charts = await google.colab.kernel.invokeFunction(\n",
              "            'suggestCharts', [key], {});\n",
              "      } catch (error) {\n",
              "        console.error('Error during call to suggestCharts:', error);\n",
              "      }\n",
              "      quickchartButtonEl.classList.remove('colab-df-spinner');\n",
              "      quickchartButtonEl.classList.add('colab-df-quickchart-complete');\n",
              "    }\n",
              "    (() => {\n",
              "      let quickchartButtonEl =\n",
              "        document.querySelector('#df-1704da18-bbf3-4f0d-9f72-39a72459ecdd button');\n",
              "      quickchartButtonEl.style.display =\n",
              "        google.colab.kernel.accessAllowed ? 'block' : 'none';\n",
              "    })();\n",
              "  </script>\n",
              "</div>\n",
              "\n",
              "    </div>\n",
              "  </div>\n"
            ],
            "application/vnd.google.colaboratory.intrinsic+json": {
              "type": "dataframe",
              "variable_name": "product_data"
            }
          },
          "metadata": {},
          "execution_count": 16
        }
      ]
    },
    {
      "cell_type": "code",
      "source": [
        "# set up problem\n",
        "logit_formulation = pyblp.Formulation('prices + marketdistanceticket + AirlineOriginPresence', absorb='C(firm_ids)')\n",
        "logit_formulation"
      ],
      "metadata": {
        "colab": {
          "base_uri": "https://localhost:8080/"
        },
        "outputId": "fb37ffb5-c9a3-40b7-d559-3b856049009f",
        "id": "lBkgnECW9op9"
      },
      "execution_count": null,
      "outputs": [
        {
          "output_type": "execute_result",
          "data": {
            "text/plain": [
              "prices + marketdistanceticket + AirlineOriginPresence + Absorb[C(firm_ids)]"
            ]
          },
          "metadata": {},
          "execution_count": 36
        }
      ]
    },
    {
      "cell_type": "code",
      "source": [
        "# display problem\n",
        "problem = pyblp.Problem(logit_formulation, product_data)\n",
        "problem"
      ],
      "metadata": {
        "colab": {
          "base_uri": "https://localhost:8080/"
        },
        "outputId": "643d5547-b0ea-4d03-8645-c736a48460f2",
        "id": "XDx1tKyw9op-"
      },
      "execution_count": null,
      "outputs": [
        {
          "output_type": "stream",
          "name": "stdout",
          "text": [
            "Initializing the problem ...\n",
            "Absorbing demand-side fixed effects ...\n",
            "Initialized the problem after 00:00:00.\n",
            "\n",
            "Dimensions:\n",
            "==================================\n",
            " T      N     F    K1    MD    ED \n",
            "----  -----  ---  ----  ----  ----\n",
            "4019  14315   8    3     5     1  \n",
            "==================================\n",
            "\n",
            "Formulations:\n",
            "===============================================================================\n",
            "     Column Indices:          0              1                      2          \n",
            "--------------------------  ------  --------------------  ---------------------\n",
            "X1: Linear Characteristics  prices  marketdistanceticket  AirlineOriginPresence\n",
            "===============================================================================\n"
          ]
        },
        {
          "output_type": "execute_result",
          "data": {
            "text/plain": [
              "Dimensions:\n",
              "==================================\n",
              " T      N     F    K1    MD    ED \n",
              "----  -----  ---  ----  ----  ----\n",
              "4019  14315   8    3     5     1  \n",
              "==================================\n",
              "\n",
              "Formulations:\n",
              "===============================================================================\n",
              "     Column Indices:          0              1                      2          \n",
              "--------------------------  ------  --------------------  ---------------------\n",
              "X1: Linear Characteristics  prices  marketdistanceticket  AirlineOriginPresence\n",
              "==============================================================================="
            ]
          },
          "metadata": {},
          "execution_count": 37
        }
      ]
    },
    {
      "cell_type": "code",
      "source": [
        "#solve problem\n",
        "logit_results = problem.solve()\n",
        "logit_results"
      ],
      "metadata": {
        "colab": {
          "base_uri": "https://localhost:8080/"
        },
        "outputId": "11d311fb-6563-4771-a865-5361c0f66972",
        "id": "APuuO5mv9op_"
      },
      "execution_count": null,
      "outputs": [
        {
          "output_type": "stream",
          "name": "stdout",
          "text": [
            "Solving the problem ...\n",
            "Updating the weighting matrix ...\n",
            "Computed results after 00:00:00.\n",
            "\n",
            "Problem Results Summary:\n",
            "==========================================\n",
            "GMM   Objective  Clipped  Weighting Matrix\n",
            "Step    Value    Shares   Condition Number\n",
            "----  ---------  -------  ----------------\n",
            " 1    +4.4E+03      0         +3.0E+02    \n",
            "==========================================\n",
            "\n",
            "Estimating standard errors ...\n",
            "Computed results after 00:00:00.\n",
            "\n",
            "Problem Results Summary:\n",
            "=============================================================\n",
            "GMM   Objective  Clipped  Weighting Matrix  Covariance Matrix\n",
            "Step    Value    Shares   Condition Number  Condition Number \n",
            "----  ---------  -------  ----------------  -----------------\n",
            " 2    +5.8E+02      0         +2.6E+02          +1.1E+02     \n",
            "=============================================================\n",
            "\n",
            "Cumulative Statistics:\n",
            "========================\n",
            "Computation   Objective \n",
            "   Time      Evaluations\n",
            "-----------  -----------\n",
            " 00:00:00         2     \n",
            "========================\n",
            "\n",
            "Beta Estimates (Robust SEs in Parentheses):\n",
            "=======================================================\n",
            "  prices    marketdistanceticket  AirlineOriginPresence\n",
            "----------  --------------------  ---------------------\n",
            " -6.4E+00         +2.2E+00              +4.0E+00       \n",
            "(+2.6E-01)       (+1.0E-01)            (+1.9E-01)      \n",
            "=======================================================\n"
          ]
        },
        {
          "output_type": "execute_result",
          "data": {
            "text/plain": [
              "Problem Results Summary:\n",
              "=============================================================\n",
              "GMM   Objective  Clipped  Weighting Matrix  Covariance Matrix\n",
              "Step    Value    Shares   Condition Number  Condition Number \n",
              "----  ---------  -------  ----------------  -----------------\n",
              " 2    +5.8E+02      0         +2.6E+02          +1.1E+02     \n",
              "=============================================================\n",
              "\n",
              "Cumulative Statistics:\n",
              "========================\n",
              "Computation   Objective \n",
              "   Time      Evaluations\n",
              "-----------  -----------\n",
              " 00:00:00         2     \n",
              "========================\n",
              "\n",
              "Beta Estimates (Robust SEs in Parentheses):\n",
              "=======================================================\n",
              "  prices    marketdistanceticket  AirlineOriginPresence\n",
              "----------  --------------------  ---------------------\n",
              " -6.4E+00         +2.2E+00              +4.0E+00       \n",
              "(+2.6E-01)       (+1.0E-01)            (+1.9E-01)      \n",
              "======================================================="
            ]
          },
          "metadata": {},
          "execution_count": 38
        }
      ]
    },
    {
      "cell_type": "markdown",
      "source": [
        "# 1.3"
      ],
      "metadata": {
        "id": "CuoKYUPk-lK5"
      }
    },
    {
      "cell_type": "code",
      "source": [
        "# prompt: construct a variable = 1/(1-shares) call it supply_x\n",
        "\n",
        "# supply_x = 1 / (1 - product_data['shares'])\n"
      ],
      "metadata": {
        "id": "94JU_DzZ-m5k"
      },
      "execution_count": null,
      "outputs": []
    },
    {
      "cell_type": "code",
      "source": [
        "product_data['supply_instruments0']\t = product_data['demand_instruments0']\n",
        "product_data['supply_instruments1']\t = product_data['demand_instruments1']"
      ],
      "metadata": {
        "id": "PW9u-MuQDgH2"
      },
      "execution_count": null,
      "outputs": []
    },
    {
      "cell_type": "code",
      "source": [
        "product_data[['demand_instruments0', 'demand_instruments1', 'supply_instruments0', 'supply_instruments1','totalpassengers']]"
      ],
      "metadata": {
        "colab": {
          "base_uri": "https://localhost:8080/",
          "height": 424
        },
        "id": "6p5wPXwci4qd",
        "outputId": "82be21c0-3a7c-4a5c-cc59-c1b046e4c3cc"
      },
      "execution_count": null,
      "outputs": [
        {
          "output_type": "execute_result",
          "data": {
            "text/plain": [
              "       demand_instruments0  demand_instruments1  supply_instruments0  \\\n",
              "0                 0.000000                    1             0.000000   \n",
              "1                 0.000000                    1             0.000000   \n",
              "2                 0.000000                    1             0.000000   \n",
              "3                 0.000000                    1             0.000000   \n",
              "4                 0.000000                    1             0.000000   \n",
              "...                    ...                  ...                  ...   \n",
              "14310             2.666666                    4             2.666666   \n",
              "14311             2.460317                    4             2.460317   \n",
              "14312             2.492063                    4             2.492063   \n",
              "14313             2.571429                    4             2.571429   \n",
              "14314             2.666666                    4             2.666666   \n",
              "\n",
              "       supply_instruments1  totalpassengers  \n",
              "0                        1             2200  \n",
              "1                        1              140  \n",
              "2                        1            13410  \n",
              "3                        1              130  \n",
              "4                        1              190  \n",
              "...                    ...              ...  \n",
              "14310                    4             1420  \n",
              "14311                    4             1700  \n",
              "14312                    4             1700  \n",
              "14313                    4            17140  \n",
              "14314                    4              570  \n",
              "\n",
              "[14315 rows x 5 columns]"
            ],
            "text/html": [
              "\n",
              "  <div id=\"df-67d0d6c9-7859-4d43-a31f-707f9b7dcbb2\" class=\"colab-df-container\">\n",
              "    <div>\n",
              "<style scoped>\n",
              "    .dataframe tbody tr th:only-of-type {\n",
              "        vertical-align: middle;\n",
              "    }\n",
              "\n",
              "    .dataframe tbody tr th {\n",
              "        vertical-align: top;\n",
              "    }\n",
              "\n",
              "    .dataframe thead th {\n",
              "        text-align: right;\n",
              "    }\n",
              "</style>\n",
              "<table border=\"1\" class=\"dataframe\">\n",
              "  <thead>\n",
              "    <tr style=\"text-align: right;\">\n",
              "      <th></th>\n",
              "      <th>demand_instruments0</th>\n",
              "      <th>demand_instruments1</th>\n",
              "      <th>supply_instruments0</th>\n",
              "      <th>supply_instruments1</th>\n",
              "      <th>totalpassengers</th>\n",
              "    </tr>\n",
              "  </thead>\n",
              "  <tbody>\n",
              "    <tr>\n",
              "      <th>0</th>\n",
              "      <td>0.000000</td>\n",
              "      <td>1</td>\n",
              "      <td>0.000000</td>\n",
              "      <td>1</td>\n",
              "      <td>2200</td>\n",
              "    </tr>\n",
              "    <tr>\n",
              "      <th>1</th>\n",
              "      <td>0.000000</td>\n",
              "      <td>1</td>\n",
              "      <td>0.000000</td>\n",
              "      <td>1</td>\n",
              "      <td>140</td>\n",
              "    </tr>\n",
              "    <tr>\n",
              "      <th>2</th>\n",
              "      <td>0.000000</td>\n",
              "      <td>1</td>\n",
              "      <td>0.000000</td>\n",
              "      <td>1</td>\n",
              "      <td>13410</td>\n",
              "    </tr>\n",
              "    <tr>\n",
              "      <th>3</th>\n",
              "      <td>0.000000</td>\n",
              "      <td>1</td>\n",
              "      <td>0.000000</td>\n",
              "      <td>1</td>\n",
              "      <td>130</td>\n",
              "    </tr>\n",
              "    <tr>\n",
              "      <th>4</th>\n",
              "      <td>0.000000</td>\n",
              "      <td>1</td>\n",
              "      <td>0.000000</td>\n",
              "      <td>1</td>\n",
              "      <td>190</td>\n",
              "    </tr>\n",
              "    <tr>\n",
              "      <th>...</th>\n",
              "      <td>...</td>\n",
              "      <td>...</td>\n",
              "      <td>...</td>\n",
              "      <td>...</td>\n",
              "      <td>...</td>\n",
              "    </tr>\n",
              "    <tr>\n",
              "      <th>14310</th>\n",
              "      <td>2.666666</td>\n",
              "      <td>4</td>\n",
              "      <td>2.666666</td>\n",
              "      <td>4</td>\n",
              "      <td>1420</td>\n",
              "    </tr>\n",
              "    <tr>\n",
              "      <th>14311</th>\n",
              "      <td>2.460317</td>\n",
              "      <td>4</td>\n",
              "      <td>2.460317</td>\n",
              "      <td>4</td>\n",
              "      <td>1700</td>\n",
              "    </tr>\n",
              "    <tr>\n",
              "      <th>14312</th>\n",
              "      <td>2.492063</td>\n",
              "      <td>4</td>\n",
              "      <td>2.492063</td>\n",
              "      <td>4</td>\n",
              "      <td>1700</td>\n",
              "    </tr>\n",
              "    <tr>\n",
              "      <th>14313</th>\n",
              "      <td>2.571429</td>\n",
              "      <td>4</td>\n",
              "      <td>2.571429</td>\n",
              "      <td>4</td>\n",
              "      <td>17140</td>\n",
              "    </tr>\n",
              "    <tr>\n",
              "      <th>14314</th>\n",
              "      <td>2.666666</td>\n",
              "      <td>4</td>\n",
              "      <td>2.666666</td>\n",
              "      <td>4</td>\n",
              "      <td>570</td>\n",
              "    </tr>\n",
              "  </tbody>\n",
              "</table>\n",
              "<p>14315 rows × 5 columns</p>\n",
              "</div>\n",
              "    <div class=\"colab-df-buttons\">\n",
              "\n",
              "  <div class=\"colab-df-container\">\n",
              "    <button class=\"colab-df-convert\" onclick=\"convertToInteractive('df-67d0d6c9-7859-4d43-a31f-707f9b7dcbb2')\"\n",
              "            title=\"Convert this dataframe to an interactive table.\"\n",
              "            style=\"display:none;\">\n",
              "\n",
              "  <svg xmlns=\"http://www.w3.org/2000/svg\" height=\"24px\" viewBox=\"0 -960 960 960\">\n",
              "    <path d=\"M120-120v-720h720v720H120Zm60-500h600v-160H180v160Zm220 220h160v-160H400v160Zm0 220h160v-160H400v160ZM180-400h160v-160H180v160Zm440 0h160v-160H620v160ZM180-180h160v-160H180v160Zm440 0h160v-160H620v160Z\"/>\n",
              "  </svg>\n",
              "    </button>\n",
              "\n",
              "  <style>\n",
              "    .colab-df-container {\n",
              "      display:flex;\n",
              "      gap: 12px;\n",
              "    }\n",
              "\n",
              "    .colab-df-convert {\n",
              "      background-color: #E8F0FE;\n",
              "      border: none;\n",
              "      border-radius: 50%;\n",
              "      cursor: pointer;\n",
              "      display: none;\n",
              "      fill: #1967D2;\n",
              "      height: 32px;\n",
              "      padding: 0 0 0 0;\n",
              "      width: 32px;\n",
              "    }\n",
              "\n",
              "    .colab-df-convert:hover {\n",
              "      background-color: #E2EBFA;\n",
              "      box-shadow: 0px 1px 2px rgba(60, 64, 67, 0.3), 0px 1px 3px 1px rgba(60, 64, 67, 0.15);\n",
              "      fill: #174EA6;\n",
              "    }\n",
              "\n",
              "    .colab-df-buttons div {\n",
              "      margin-bottom: 4px;\n",
              "    }\n",
              "\n",
              "    [theme=dark] .colab-df-convert {\n",
              "      background-color: #3B4455;\n",
              "      fill: #D2E3FC;\n",
              "    }\n",
              "\n",
              "    [theme=dark] .colab-df-convert:hover {\n",
              "      background-color: #434B5C;\n",
              "      box-shadow: 0px 1px 3px 1px rgba(0, 0, 0, 0.15);\n",
              "      filter: drop-shadow(0px 1px 2px rgba(0, 0, 0, 0.3));\n",
              "      fill: #FFFFFF;\n",
              "    }\n",
              "  </style>\n",
              "\n",
              "    <script>\n",
              "      const buttonEl =\n",
              "        document.querySelector('#df-67d0d6c9-7859-4d43-a31f-707f9b7dcbb2 button.colab-df-convert');\n",
              "      buttonEl.style.display =\n",
              "        google.colab.kernel.accessAllowed ? 'block' : 'none';\n",
              "\n",
              "      async function convertToInteractive(key) {\n",
              "        const element = document.querySelector('#df-67d0d6c9-7859-4d43-a31f-707f9b7dcbb2');\n",
              "        const dataTable =\n",
              "          await google.colab.kernel.invokeFunction('convertToInteractive',\n",
              "                                                    [key], {});\n",
              "        if (!dataTable) return;\n",
              "\n",
              "        const docLinkHtml = 'Like what you see? Visit the ' +\n",
              "          '<a target=\"_blank\" href=https://colab.research.google.com/notebooks/data_table.ipynb>data table notebook</a>'\n",
              "          + ' to learn more about interactive tables.';\n",
              "        element.innerHTML = '';\n",
              "        dataTable['output_type'] = 'display_data';\n",
              "        await google.colab.output.renderOutput(dataTable, element);\n",
              "        const docLink = document.createElement('div');\n",
              "        docLink.innerHTML = docLinkHtml;\n",
              "        element.appendChild(docLink);\n",
              "      }\n",
              "    </script>\n",
              "  </div>\n",
              "\n",
              "\n",
              "<div id=\"df-59933c2b-ad3d-4552-981f-ae7e0cf9e11d\">\n",
              "  <button class=\"colab-df-quickchart\" onclick=\"quickchart('df-59933c2b-ad3d-4552-981f-ae7e0cf9e11d')\"\n",
              "            title=\"Suggest charts\"\n",
              "            style=\"display:none;\">\n",
              "\n",
              "<svg xmlns=\"http://www.w3.org/2000/svg\" height=\"24px\"viewBox=\"0 0 24 24\"\n",
              "     width=\"24px\">\n",
              "    <g>\n",
              "        <path d=\"M19 3H5c-1.1 0-2 .9-2 2v14c0 1.1.9 2 2 2h14c1.1 0 2-.9 2-2V5c0-1.1-.9-2-2-2zM9 17H7v-7h2v7zm4 0h-2V7h2v10zm4 0h-2v-4h2v4z\"/>\n",
              "    </g>\n",
              "</svg>\n",
              "  </button>\n",
              "\n",
              "<style>\n",
              "  .colab-df-quickchart {\n",
              "      --bg-color: #E8F0FE;\n",
              "      --fill-color: #1967D2;\n",
              "      --hover-bg-color: #E2EBFA;\n",
              "      --hover-fill-color: #174EA6;\n",
              "      --disabled-fill-color: #AAA;\n",
              "      --disabled-bg-color: #DDD;\n",
              "  }\n",
              "\n",
              "  [theme=dark] .colab-df-quickchart {\n",
              "      --bg-color: #3B4455;\n",
              "      --fill-color: #D2E3FC;\n",
              "      --hover-bg-color: #434B5C;\n",
              "      --hover-fill-color: #FFFFFF;\n",
              "      --disabled-bg-color: #3B4455;\n",
              "      --disabled-fill-color: #666;\n",
              "  }\n",
              "\n",
              "  .colab-df-quickchart {\n",
              "    background-color: var(--bg-color);\n",
              "    border: none;\n",
              "    border-radius: 50%;\n",
              "    cursor: pointer;\n",
              "    display: none;\n",
              "    fill: var(--fill-color);\n",
              "    height: 32px;\n",
              "    padding: 0;\n",
              "    width: 32px;\n",
              "  }\n",
              "\n",
              "  .colab-df-quickchart:hover {\n",
              "    background-color: var(--hover-bg-color);\n",
              "    box-shadow: 0 1px 2px rgba(60, 64, 67, 0.3), 0 1px 3px 1px rgba(60, 64, 67, 0.15);\n",
              "    fill: var(--button-hover-fill-color);\n",
              "  }\n",
              "\n",
              "  .colab-df-quickchart-complete:disabled,\n",
              "  .colab-df-quickchart-complete:disabled:hover {\n",
              "    background-color: var(--disabled-bg-color);\n",
              "    fill: var(--disabled-fill-color);\n",
              "    box-shadow: none;\n",
              "  }\n",
              "\n",
              "  .colab-df-spinner {\n",
              "    border: 2px solid var(--fill-color);\n",
              "    border-color: transparent;\n",
              "    border-bottom-color: var(--fill-color);\n",
              "    animation:\n",
              "      spin 1s steps(1) infinite;\n",
              "  }\n",
              "\n",
              "  @keyframes spin {\n",
              "    0% {\n",
              "      border-color: transparent;\n",
              "      border-bottom-color: var(--fill-color);\n",
              "      border-left-color: var(--fill-color);\n",
              "    }\n",
              "    20% {\n",
              "      border-color: transparent;\n",
              "      border-left-color: var(--fill-color);\n",
              "      border-top-color: var(--fill-color);\n",
              "    }\n",
              "    30% {\n",
              "      border-color: transparent;\n",
              "      border-left-color: var(--fill-color);\n",
              "      border-top-color: var(--fill-color);\n",
              "      border-right-color: var(--fill-color);\n",
              "    }\n",
              "    40% {\n",
              "      border-color: transparent;\n",
              "      border-right-color: var(--fill-color);\n",
              "      border-top-color: var(--fill-color);\n",
              "    }\n",
              "    60% {\n",
              "      border-color: transparent;\n",
              "      border-right-color: var(--fill-color);\n",
              "    }\n",
              "    80% {\n",
              "      border-color: transparent;\n",
              "      border-right-color: var(--fill-color);\n",
              "      border-bottom-color: var(--fill-color);\n",
              "    }\n",
              "    90% {\n",
              "      border-color: transparent;\n",
              "      border-bottom-color: var(--fill-color);\n",
              "    }\n",
              "  }\n",
              "</style>\n",
              "\n",
              "  <script>\n",
              "    async function quickchart(key) {\n",
              "      const quickchartButtonEl =\n",
              "        document.querySelector('#' + key + ' button');\n",
              "      quickchartButtonEl.disabled = true;  // To prevent multiple clicks.\n",
              "      quickchartButtonEl.classList.add('colab-df-spinner');\n",
              "      try {\n",
              "        const charts = await google.colab.kernel.invokeFunction(\n",
              "            'suggestCharts', [key], {});\n",
              "      } catch (error) {\n",
              "        console.error('Error during call to suggestCharts:', error);\n",
              "      }\n",
              "      quickchartButtonEl.classList.remove('colab-df-spinner');\n",
              "      quickchartButtonEl.classList.add('colab-df-quickchart-complete');\n",
              "    }\n",
              "    (() => {\n",
              "      let quickchartButtonEl =\n",
              "        document.querySelector('#df-59933c2b-ad3d-4552-981f-ae7e0cf9e11d button');\n",
              "      quickchartButtonEl.style.display =\n",
              "        google.colab.kernel.accessAllowed ? 'block' : 'none';\n",
              "    })();\n",
              "  </script>\n",
              "</div>\n",
              "\n",
              "    </div>\n",
              "  </div>\n"
            ],
            "application/vnd.google.colaboratory.intrinsic+json": {
              "type": "dataframe",
              "summary": "{\n  \"name\": \"product_data[['demand_instruments0', 'demand_instruments1', 'supply_instruments0', 'supply_instruments1','totalpassengers']]\",\n  \"rows\": 14315,\n  \"fields\": [\n    {\n      \"column\": \"demand_instruments0\",\n      \"properties\": {\n        \"dtype\": \"number\",\n        \"std\": 0.9469943479877623,\n        \"min\": 0.0,\n        \"max\": 4.953846,\n        \"num_unique_values\": 1805,\n        \"samples\": [\n          3.2950819,\n          1.2272726,\n          2.9666667\n        ],\n        \"semantic_type\": \"\",\n        \"description\": \"\"\n      }\n    },\n    {\n      \"column\": \"demand_instruments1\",\n      \"properties\": {\n        \"dtype\": \"number\",\n        \"std\": 1,\n        \"min\": 1,\n        \"max\": 8,\n        \"num_unique_values\": 8,\n        \"samples\": [\n          2,\n          3,\n          1\n        ],\n        \"semantic_type\": \"\",\n        \"description\": \"\"\n      }\n    },\n    {\n      \"column\": \"supply_instruments0\",\n      \"properties\": {\n        \"dtype\": \"number\",\n        \"std\": 0.9469943479877623,\n        \"min\": 0.0,\n        \"max\": 4.953846,\n        \"num_unique_values\": 1805,\n        \"samples\": [\n          3.2950819,\n          1.2272726,\n          2.9666667\n        ],\n        \"semantic_type\": \"\",\n        \"description\": \"\"\n      }\n    },\n    {\n      \"column\": \"supply_instruments1\",\n      \"properties\": {\n        \"dtype\": \"number\",\n        \"std\": 1,\n        \"min\": 1,\n        \"max\": 8,\n        \"num_unique_values\": 8,\n        \"samples\": [\n          2,\n          3,\n          1\n        ],\n        \"semantic_type\": \"\",\n        \"description\": \"\"\n      }\n    },\n    {\n      \"column\": \"totalpassengers\",\n      \"properties\": {\n        \"dtype\": \"number\",\n        \"std\": 11346,\n        \"min\": 90,\n        \"max\": 132170,\n        \"num_unique_values\": 2630,\n        \"samples\": [\n          1730,\n          24970,\n          3350\n        ],\n        \"semantic_type\": \"\",\n        \"description\": \"\"\n      }\n    }\n  ]\n}"
            }
          },
          "metadata": {},
          "execution_count": 45
        }
      ]
    },
    {
      "cell_type": "markdown",
      "source": [
        "## long MC (no CRS)"
      ],
      "metadata": {
        "id": "dWMrpdvztcgo"
      }
    },
    {
      "cell_type": "code",
      "source": [
        "# long MC\n",
        "product_data['sales'] = product_data['totalpassengers'] * product_data['prices']\n",
        "product_formulations = (\n",
        "   pyblp.Formulation('prices + marketdistanceticket + AirlineOriginPresence', absorb='C(firm_ids)'),\n",
        "   None,\n",
        "   pyblp.Formulation('marketdistanceticket + AirlineOriginPresence + AirlineDestinationPresence + log(sales)', absorb='C(firm_ids)')\n",
        ")\n",
        "product_formulations"
      ],
      "metadata": {
        "colab": {
          "base_uri": "https://localhost:8080/"
        },
        "id": "jNxqjjuRA8Y_",
        "outputId": "547e169f-7ca2-40ac-d8b9-26f807c2d16e"
      },
      "execution_count": null,
      "outputs": [
        {
          "output_type": "execute_result",
          "data": {
            "text/plain": [
              "(prices + marketdistanceticket + AirlineOriginPresence + Absorb[C(firm_ids)],\n",
              " None,\n",
              " marketdistanceticket + AirlineOriginPresence + AirlineDestinationPresence + log(sales) + Absorb[C(firm_ids)])"
            ]
          },
          "metadata": {},
          "execution_count": 89
        }
      ]
    },
    {
      "cell_type": "code",
      "source": [
        "problem_l = pyblp.Problem(product_formulations, product_data, costs_type='log')\n",
        "problem_l"
      ],
      "metadata": {
        "colab": {
          "base_uri": "https://localhost:8080/"
        },
        "id": "9iJOqnDKB-7M",
        "outputId": "5f2fba23-bafa-42e9-cea1-248e0a147d76"
      },
      "execution_count": null,
      "outputs": [
        {
          "output_type": "stream",
          "name": "stdout",
          "text": [
            "Initializing the problem ...\n",
            "Absorbing demand-side fixed effects ...\n",
            "Absorbing supply-side fixed effects ...\n",
            "Initialized the problem after 00:00:00.\n",
            "\n",
            "Dimensions:\n",
            "====================================================\n",
            " T      N     F    K1    K3    MD    MS    ED    ES \n",
            "----  -----  ---  ----  ----  ----  ----  ----  ----\n",
            "4019  14315   8    3     4     4     6     1     1  \n",
            "====================================================\n",
            "\n",
            "Formulations:\n",
            "=================================================================================================================\n",
            "      Column Indices:                  0                      1                        2                   3     \n",
            "----------------------------  --------------------  ---------------------  --------------------------  ----------\n",
            " X1: Linear Characteristics          prices         marketdistanceticket     AirlineOriginPresence               \n",
            "X3: Log Cost Characteristics  marketdistanceticket  AirlineOriginPresence  AirlineDestinationPresence  log(sales)\n",
            "=================================================================================================================\n"
          ]
        },
        {
          "output_type": "execute_result",
          "data": {
            "text/plain": [
              "Dimensions:\n",
              "====================================================\n",
              " T      N     F    K1    K3    MD    MS    ED    ES \n",
              "----  -----  ---  ----  ----  ----  ----  ----  ----\n",
              "4019  14315   8    3     4     4     6     1     1  \n",
              "====================================================\n",
              "\n",
              "Formulations:\n",
              "=================================================================================================================\n",
              "      Column Indices:                  0                      1                        2                   3     \n",
              "----------------------------  --------------------  ---------------------  --------------------------  ----------\n",
              " X1: Linear Characteristics          prices         marketdistanceticket     AirlineOriginPresence               \n",
              "X3: Log Cost Characteristics  marketdistanceticket  AirlineOriginPresence  AirlineDestinationPresence  log(sales)\n",
              "================================================================================================================="
            ]
          },
          "metadata": {},
          "execution_count": 90
        }
      ]
    },
    {
      "cell_type": "code",
      "source": [
        "beta_init = np.array([-4, 1.6, 4.3])\n",
        "pyblp.options.verbose = True\n",
        "# with pyblp.parallel(3):\n",
        "# beta_bounds = ((-10, 0,0), (0, 5,5)),\n",
        "results_l = problem_l.solve(beta=beta_init, optimization = Optimization('l-bfgs-b', {'ftol': 0, 'gtol': 1e-4}), method='2s')"
      ],
      "metadata": {
        "colab": {
          "base_uri": "https://localhost:8080/"
        },
        "id": "uo8MioRLDZn3",
        "outputId": "03453536-7d6c-4b74-caa0-ea333ac246f6"
      },
      "execution_count": null,
      "outputs": [
        {
          "output_type": "stream",
          "name": "stdout",
          "text": [
            "Solving the problem ...\n",
            "\n",
            "Beta Initial Values:\n",
            "=====================================================\n",
            " prices   marketdistanceticket  AirlineOriginPresence\n",
            "--------  --------------------  ---------------------\n",
            "-4.0E+00        +1.6E+00              +4.3E+00       \n",
            "=====================================================\n",
            "\n",
            "Beta Lower Bounds:\n",
            "=====================================================\n",
            " prices   marketdistanceticket  AirlineOriginPresence\n",
            "--------  --------------------  ---------------------\n",
            "  -INF            -INF                  -INF         \n",
            "=====================================================\n",
            "\n",
            "Beta Upper Bounds:\n",
            "=====================================================\n",
            " prices   marketdistanceticket  AirlineOriginPresence\n",
            "--------  --------------------  ---------------------\n",
            "  +INF            +INF                  +INF         \n",
            "=====================================================\n",
            "\n",
            "Starting optimization ...\n",
            "\n",
            "GMM   Computation  Optimization   Objective   Fixed Point  Contraction  Clipped  Objective   Objective   Gradient                              \n",
            "Step     Time       Iterations   Evaluations  Iterations   Evaluations  Shares     Value    Improvement    Norm               Theta            \n",
            "----  -----------  ------------  -----------  -----------  -----------  -------  ---------  -----------  --------  ----------------------------\n",
            " 1     00:00:12         0             1            0            0          0     +9.5E+02                +4.5E+03  -4.0E+00, +1.6E+00, +4.3E+00\n",
            " 1     00:00:12         0             2            0            0          0     +3.6E+03                +9.5E+03  -4.4E+00, +6.7E-01, +4.3E+00\n",
            " 1     00:00:13         0             3            0            0          0     +1.6E+02    +7.9E+02    +1.1E+02  -4.1E+00, +1.3E+00, +4.3E+00\n",
            " 1     00:00:13         1             4            0            0          0     +1.6E+02    +9.5E-01    +1.1E+02  -4.1E+00, +1.3E+00, +4.3E+00\n",
            " 1     00:00:12         1             5            0            0          0     +1.5E+02    +3.7E+00    +1.0E+02  -4.2E+00, +1.3E+00, +4.3E+00\n",
            " 1     00:00:12         1             6            0            0          0     +1.4E+02    +1.3E+01    +8.7E+01  -4.3E+00, +1.4E+00, +4.3E+00\n",
            " 1     00:00:12         2             7            0            0          0     +1.1E+02    +3.1E+01    +2.8E+01  -5.0E+00, +1.6E+00, +4.1E+00\n",
            " 1     00:00:12         3             8            0            0          0     +1.1E+02    +6.8E-01    +2.1E+01  -4.9E+00, +1.6E+00, +4.3E+00\n",
            " 1     00:00:12         4             9            0            0          0     +1.1E+02    +6.7E-01    +4.0E-02  -4.9E+00, +1.6E+00, +4.2E+00\n",
            " 1     00:00:12         5            10            0            0          0     +1.1E+02    +6.5E-06    +4.1E-04  -4.9E+00, +1.6E+00, +4.2E+00\n",
            " 1     00:00:10         6            11            0            0          0     +1.1E+02    +8.0E-10    +1.7E-06  -4.9E+00, +1.6E+00, +4.2E+00\n",
            "\n",
            "Optimization completed after 00:02:14.\n",
            "Computing the Hessian and and updating the weighting matrix ...\n",
            "Computed results after 00:01:26.\n",
            "\n",
            "Problem Results Summary:\n",
            "====================================================================================\n",
            "GMM   Objective  Gradient      Hessian         Hessian     Clipped  Weighting Matrix\n",
            "Step    Value      Norm    Min Eigenvalue  Max Eigenvalue  Shares   Condition Number\n",
            "----  ---------  --------  --------------  --------------  -------  ----------------\n",
            " 1    +1.1E+02   +1.7E-06     +1.3E+02        +1.5E+04        0         +5.0E+02    \n",
            "====================================================================================\n",
            "\n",
            "Starting optimization ...\n",
            "\n",
            "GMM   Computation  Optimization   Objective   Fixed Point  Contraction  Clipped  Objective   Objective   Gradient                              \n",
            "Step     Time       Iterations   Evaluations  Iterations   Evaluations  Shares     Value    Improvement    Norm               Theta            \n",
            "----  -----------  ------------  -----------  -----------  -----------  -------  ---------  -----------  --------  ----------------------------\n",
            " 2     00:00:12         0             1            0            0          0     +6.3E+02                +2.5E+02  -4.9E+00, +1.6E+00, +4.2E+00\n",
            " 2     00:00:12         0             2            0            0          0     +5.6E+02    +6.6E+01    +1.0E+03  -5.9E+00, +1.7E+00, +4.3E+00\n",
            " 2     00:00:12         1             3            0            0          0     +4.2E+02    +1.5E+02    +4.6E+02  -6.2E+00, +1.9E+00, +4.3E+00\n",
            " 2     00:00:12         2             4            0            0          0     +3.1E+02    +1.0E+02    +5.6E+01  -7.1E+00, +2.4E+00, +4.3E+00\n",
            " 2     00:00:10         3             5            0            0          0     +3.1E+02    +6.8E+00    +3.3E+01  -7.4E+00, +2.5E+00, +4.3E+00\n",
            " 2     00:00:12         4             6            0            0          0     +3.0E+02    +3.5E+00    +2.4E+01  -7.5E+00, +2.6E+00, +4.2E+00\n",
            " 2     00:00:12         5             7            0            0          0     +3.0E+02    +3.4E+00    +4.1E+00  -7.5E+00, +2.6E+00, +3.9E+00\n",
            " 2     00:00:12         6             8            0            0          0     +3.0E+02    +5.3E-02    +8.2E-01  -7.5E+00, +2.6E+00, +3.9E+00\n",
            " 2     00:00:12         7             9            0            0          0     +3.0E+02    +1.4E-04    +1.2E-01  -7.5E+00, +2.6E+00, +3.9E+00\n",
            " 2     00:00:12         8            10            0            0          0     +3.0E+02    +2.4E-06    +4.7E-04  -7.5E+00, +2.6E+00, +3.9E+00\n",
            " 2     00:00:12         9            11            0            0          0     +3.0E+02    +1.8E-10    +1.3E-05  -7.5E+00, +2.6E+00, +3.9E+00\n",
            "\n",
            "Optimization completed after 00:02:12.\n",
            "Computing the Hessian and estimating standard errors ...\n",
            "Computed results after 00:01:23.\n",
            "\n",
            "Problem Results Summary:\n",
            "=======================================================================================================\n",
            "GMM   Objective  Gradient      Hessian         Hessian     Clipped  Weighting Matrix  Covariance Matrix\n",
            "Step    Value      Norm    Min Eigenvalue  Max Eigenvalue  Shares   Condition Number  Condition Number \n",
            "----  ---------  --------  --------------  --------------  -------  ----------------  -----------------\n",
            " 2    +3.0E+02   +1.3E-05     +7.2E+01        +4.1E+03        0         +4.7E+04          +6.1E+04     \n",
            "=======================================================================================================\n",
            "\n",
            "Cumulative Statistics:\n",
            "=================================================\n",
            "Computation  Optimizer  Optimization   Objective \n",
            "   Time      Converged   Iterations   Evaluations\n",
            "-----------  ---------  ------------  -----------\n",
            " 00:07:16       Yes          17           24     \n",
            "=================================================\n",
            "\n",
            "Beta Estimates (Robust SEs in Parentheses):\n",
            "=======================================================\n",
            "  prices    marketdistanceticket  AirlineOriginPresence\n",
            "----------  --------------------  ---------------------\n",
            " -7.5E+00         +2.6E+00              +3.9E+00       \n",
            "(+1.8E-01)       (+7.5E-02)            (+2.1E-01)      \n",
            "=======================================================\n",
            "\n",
            "Gamma Estimates (Robust SEs in Parentheses):\n",
            "===================================================================================\n",
            "marketdistanceticket  AirlineOriginPresence  AirlineDestinationPresence  log(sales)\n",
            "--------------------  ---------------------  --------------------------  ----------\n",
            "      +2.1E-01              +1.5E-01                  +1.4E-01            -4.2E-02 \n",
            "     (+2.4E-03)            (+1.8E-02)                (+1.9E-02)          (+1.4E-03)\n",
            "===================================================================================\n"
          ]
        }
      ]
    },
    {
      "cell_type": "markdown",
      "source": [
        "## Short MC"
      ],
      "metadata": {
        "id": "RLRLr3wztfW-"
      }
    },
    {
      "cell_type": "code",
      "source": [
        "# long MC\n",
        "product_formulations = (\n",
        "   pyblp.Formulation('prices + marketdistanceticket + AirlineOriginPresence', absorb='C(firm_ids)'),\n",
        "   None,\n",
        "   pyblp.Formulation('marketdistanceticket + AirlineOriginPresence + AirlineDestinationPresence', absorb='C(firm_ids)')\n",
        ")\n",
        "product_formulations"
      ],
      "metadata": {
        "colab": {
          "base_uri": "https://localhost:8080/"
        },
        "outputId": "ef399680-0b7f-4b10-eccc-adaa24e9fbfe",
        "id": "KU5qJ1Tuthtt"
      },
      "execution_count": null,
      "outputs": [
        {
          "output_type": "execute_result",
          "data": {
            "text/plain": [
              "(prices + marketdistanceticket + AirlineOriginPresence + Absorb[C(firm_ids)],\n",
              " None,\n",
              " marketdistanceticket + AirlineOriginPresence + AirlineDestinationPresence + Absorb[C(firm_ids)])"
            ]
          },
          "metadata": {},
          "execution_count": 49
        }
      ]
    },
    {
      "cell_type": "code",
      "source": [
        "problem_s = pyblp.Problem(product_formulations, product_data, costs_type='log')\n",
        "problem_s"
      ],
      "metadata": {
        "colab": {
          "base_uri": "https://localhost:8080/"
        },
        "outputId": "30b15866-de1b-40a3-f454-6dd66871f502",
        "id": "lENPeUp-thtu"
      },
      "execution_count": null,
      "outputs": [
        {
          "output_type": "stream",
          "name": "stdout",
          "text": [
            "Initializing the problem ...\n",
            "Absorbing demand-side fixed effects ...\n",
            "Absorbing supply-side fixed effects ...\n",
            "Initialized the problem after 00:00:00.\n",
            "\n",
            "Dimensions:\n",
            "====================================================\n",
            " T      N     F    K1    K3    MD    MS    ED    ES \n",
            "----  -----  ---  ----  ----  ----  ----  ----  ----\n",
            "4019  14315   8    3     3     4     5     1     1  \n",
            "====================================================\n",
            "\n",
            "Formulations:\n",
            "=====================================================================================================\n",
            "      Column Indices:                  0                      1                        2             \n",
            "----------------------------  --------------------  ---------------------  --------------------------\n",
            " X1: Linear Characteristics          prices         marketdistanceticket     AirlineOriginPresence   \n",
            "X3: Log Cost Characteristics  marketdistanceticket  AirlineOriginPresence  AirlineDestinationPresence\n",
            "=====================================================================================================\n"
          ]
        },
        {
          "output_type": "execute_result",
          "data": {
            "text/plain": [
              "Dimensions:\n",
              "====================================================\n",
              " T      N     F    K1    K3    MD    MS    ED    ES \n",
              "----  -----  ---  ----  ----  ----  ----  ----  ----\n",
              "4019  14315   8    3     3     4     5     1     1  \n",
              "====================================================\n",
              "\n",
              "Formulations:\n",
              "=====================================================================================================\n",
              "      Column Indices:                  0                      1                        2             \n",
              "----------------------------  --------------------  ---------------------  --------------------------\n",
              " X1: Linear Characteristics          prices         marketdistanceticket     AirlineOriginPresence   \n",
              "X3: Log Cost Characteristics  marketdistanceticket  AirlineOriginPresence  AirlineDestinationPresence\n",
              "====================================================================================================="
            ]
          },
          "metadata": {},
          "execution_count": 50
        }
      ]
    },
    {
      "cell_type": "code",
      "source": [
        "beta_init = np.array([-4, 1.6, 4.3])\n",
        "pyblp.options.verbose = True\n",
        "# with pyblp.parallel(3):\n",
        "# beta_bounds = ((-10, 0,0), (0, 5,5)),\n",
        "results_s = problem_s.solve(beta=beta_init, beta_bounds = ((-10, 0,0), (0, 5,5)), optimization = Optimization('l-bfgs-b', {'ftol': 0, 'gtol': 1e-4}), method='2s')"
      ],
      "metadata": {
        "colab": {
          "base_uri": "https://localhost:8080/"
        },
        "outputId": "72b555d9-8aae-4618-adfb-d58cd6cf3af5",
        "id": "vHP_v1p8thtu"
      },
      "execution_count": null,
      "outputs": [
        {
          "output_type": "stream",
          "name": "stdout",
          "text": [
            "Solving the problem ...\n",
            "\n",
            "Beta Initial Values:\n",
            "=====================================================\n",
            " prices   marketdistanceticket  AirlineOriginPresence\n",
            "--------  --------------------  ---------------------\n",
            "-4.0E+00        +1.6E+00              +4.3E+00       \n",
            "=====================================================\n",
            "\n",
            "Beta Lower Bounds:\n",
            "=====================================================\n",
            " prices   marketdistanceticket  AirlineOriginPresence\n",
            "--------  --------------------  ---------------------\n",
            "-1.0E+01        +0.0E+00              +0.0E+00       \n",
            "=====================================================\n",
            "\n",
            "Beta Upper Bounds:\n",
            "=====================================================\n",
            " prices   marketdistanceticket  AirlineOriginPresence\n",
            "--------  --------------------  ---------------------\n",
            "+0.0E+00        +5.0E+00              +5.0E+00       \n",
            "=====================================================\n",
            "\n",
            "Starting optimization ...\n",
            "\n",
            "GMM   Computation  Optimization   Objective   Fixed Point  Contraction  Clipped  Objective   Objective     Projected                                \n",
            "Step     Time       Iterations   Evaluations  Iterations   Evaluations  Shares     Value    Improvement  Gradient Norm             Theta            \n",
            "----  -----------  ------------  -----------  -----------  -----------  -------  ---------  -----------  -------------  ----------------------------\n",
            " 1     00:00:12         0             1            0            0          0     +9.6E+02                  +4.5E+03     -4.0E+00, +1.6E+00, +4.3E+00\n",
            " 1     00:00:12         0             2            0            0          0     +8.3E+04                  +4.6E+04     -1.0E+01, +0.0E+00, +5.0E+00\n",
            " 1     00:00:13         0             3            0            0          0     +1.3E+02    +8.3E+02      +8.1E+01     -4.5E+00, +1.5E+00, +4.4E+00\n",
            " 1     00:00:13         1             4            0            0          0     +1.3E+02    +5.3E-01      +7.9E+01     -4.6E+00, +1.5E+00, +4.4E+00\n",
            " 1     00:00:13         1             5            0            0          0     +1.3E+02    +2.0E+00      +6.9E+01     -4.6E+00, +1.5E+00, +4.4E+00\n",
            " 1     00:00:12         2             6            0            0          0     +1.2E+02    +1.0E+01      +6.4E+00     -4.9E+00, +1.6E+00, +4.2E+00\n",
            " 1     00:00:12         3             7            0            0          0     +1.2E+02    +6.0E-02      +8.4E-01     -4.9E+00, +1.6E+00, +4.2E+00\n",
            " 1     00:00:13         4             8            0            0          0     +1.2E+02    +1.1E-03      +3.2E-03     -4.9E+00, +1.6E+00, +4.2E+00\n",
            " 1     00:00:12         5             9            0            0          0     +1.2E+02    +4.2E-09      +1.5E-05     -4.9E+00, +1.6E+00, +4.2E+00\n",
            "\n",
            "Optimization completed after 00:01:54.\n",
            "Computing the Hessian and and updating the weighting matrix ...\n",
            "Computed results after 00:01:26.\n",
            "\n",
            "Problem Results Summary:\n",
            "===========================================================================================\n",
            "GMM   Objective    Projected    Reduced Hessian  Reduced Hessian  Clipped  Weighting Matrix\n",
            "Step    Value    Gradient Norm  Min Eigenvalue   Max Eigenvalue   Shares   Condition Number\n",
            "----  ---------  -------------  ---------------  ---------------  -------  ----------------\n",
            " 1    +1.2E+02     +1.5E-05        +1.3E+02         +1.5E+04         0         +3.0E+02    \n",
            "===========================================================================================\n",
            "\n",
            "Starting optimization ...\n",
            "\n",
            "GMM   Computation  Optimization   Objective   Fixed Point  Contraction  Clipped  Objective   Objective     Projected                                \n",
            "Step     Time       Iterations   Evaluations  Iterations   Evaluations  Shares     Value    Improvement  Gradient Norm             Theta            \n",
            "----  -----------  ------------  -----------  -----------  -----------  -------  ---------  -----------  -------------  ----------------------------\n",
            " 2     00:00:12         0             1            0            0          0     +7.6E+02                  +2.2E+02     -4.9E+00, +1.6E+00, +4.2E+00\n",
            " 2     00:00:13         0             2            0            0          0     +2.3E+04                  +1.3E+04     -1.0E+01, +0.0E+00, +5.0E+00\n",
            " 2     00:00:12         0             3            0            0          0     +7.4E+02    +1.4E+01      +3.0E+02     -5.1E+00, +1.6E+00, +4.2E+00\n",
            " 2     00:00:13         1             4            0            0          0     +7.2E+02    +2.5E+01      +2.9E+02     -5.2E+00, +1.6E+00, +4.3E+00\n",
            " 2     00:00:13         1             5            0            0          0     +6.3E+02    +8.6E+01      +2.2E+02     -5.6E+00, +1.8E+00, +4.3E+00\n",
            " 2     00:00:12         2             6            0            0          0     +4.7E+02    +1.6E+02      +3.4E+01     -7.4E+00, +2.5E+00, +4.4E+00\n",
            " 2     00:00:13         3             7            0            0          0     +4.6E+02    +8.6E+00      +2.3E+01     -7.7E+00, +2.7E+00, +4.2E+00\n",
            " 2     00:00:12         4             8            0            0          0     +4.6E+02    +3.4E+00      +3.8E+00     -7.8E+00, +2.7E+00, +3.9E+00\n",
            " 2     00:00:13         5             9            0            0          0     +4.6E+02    +1.0E-01      +7.6E-02     -7.8E+00, +2.7E+00, +3.9E+00\n",
            " 2     00:00:13         6            10            0            0          0     +4.6E+02    +3.1E-05      +2.4E-03     -7.8E+00, +2.7E+00, +3.9E+00\n",
            " 2     00:00:12         7            11            0            0          0     +4.6E+02    +2.6E-08      +2.2E-05     -7.8E+00, +2.7E+00, +3.9E+00\n",
            "\n",
            "Optimization completed after 00:02:19.\n",
            "Computing the Hessian and estimating standard errors ...\n",
            "Computed results after 00:01:32.\n",
            "\n",
            "Problem Results Summary:\n",
            "==============================================================================================================\n",
            "GMM   Objective    Projected    Reduced Hessian  Reduced Hessian  Clipped  Weighting Matrix  Covariance Matrix\n",
            "Step    Value    Gradient Norm  Min Eigenvalue   Max Eigenvalue   Shares   Condition Number  Condition Number \n",
            "----  ---------  -------------  ---------------  ---------------  -------  ----------------  -----------------\n",
            " 2    +4.6E+02     +2.2E-05        +5.5E+01         +4.1E+03         0         +2.8E+04          +2.9E+04     \n",
            "==============================================================================================================\n",
            "\n",
            "Cumulative Statistics:\n",
            "=================================================\n",
            "Computation  Optimizer  Optimization   Objective \n",
            "   Time      Converged   Iterations   Evaluations\n",
            "-----------  ---------  ------------  -----------\n",
            " 00:07:10       Yes          14           22     \n",
            "=================================================\n",
            "\n",
            "Beta Estimates (Robust SEs in Parentheses):\n",
            "=======================================================\n",
            "  prices    marketdistanceticket  AirlineOriginPresence\n",
            "----------  --------------------  ---------------------\n",
            " -7.8E+00         +2.7E+00              +3.9E+00       \n",
            "(+2.2E-01)       (+8.9E-02)            (+2.2E-01)      \n",
            "=======================================================\n",
            "\n",
            "Gamma Estimates (Robust SEs in Parentheses):\n",
            "=======================================================================\n",
            "marketdistanceticket  AirlineOriginPresence  AirlineDestinationPresence\n",
            "--------------------  ---------------------  --------------------------\n",
            "      +2.0E-01              -1.3E-01                  -1.5E-01         \n",
            "     (+2.4E-03)            (+1.7E-02)                (+1.7E-02)        \n",
            "=======================================================================\n"
          ]
        }
      ]
    },
    {
      "cell_type": "markdown",
      "source": [
        "# 1.4"
      ],
      "metadata": {
        "id": "eONmjp_yWUwT"
      }
    },
    {
      "cell_type": "code",
      "source": [
        "# results = results_l\n",
        "# Rename variables\n",
        "product_data = product_data.rename(columns={'averageprice': 'prices'})\n",
        "product_data = product_data.rename(columns={'market': 'market_ids'})\n",
        "product_data = product_data.rename(columns={'airline_market_share': 'shares'})\n",
        "product_data = product_data.rename(columns={'tkcarrier': 'firm_ids'})\n",
        "# Rename IV's\n",
        "product_data = product_data.rename(columns={'IV_BR1': 'demand_instruments0'})\n",
        "product_data = product_data.rename(columns={'IV_BR2': 'demand_instruments1'})\n",
        "product_data.head()"
      ],
      "metadata": {
        "id": "MqOmUztayK17"
      },
      "execution_count": null,
      "outputs": []
    },
    {
      "cell_type": "code",
      "source": [
        "#elasticities\n",
        "elasticities = results.compute_elasticities()\n",
        "means = results.extract_diagonal_means(elasticities)\n",
        "\n",
        "plt.hist(\n",
        "    [means.flatten()],\n",
        "    color=['red'],\n",
        "    bins=50\n",
        ");\n",
        "plt.legend(['Mean Own Elasticities']);"
      ],
      "metadata": {
        "colab": {
          "base_uri": "https://localhost:8080/",
          "height": 534
        },
        "outputId": "a1bb1215-8edb-4ee0-feb1-897c95b5600d",
        "id": "EXrGfC8T1OVq"
      },
      "execution_count": null,
      "outputs": [
        {
          "output_type": "stream",
          "name": "stdout",
          "text": [
            "Computing elasticities with respect to prices ...\n",
            "Finished after 00:00:02.\n",
            "\n",
            "Extracting diagonal means ...\n",
            "Finished after 00:00:01.\n",
            "\n"
          ]
        },
        {
          "output_type": "display_data",
          "data": {
            "text/plain": [
              "<Figure size 640x480 with 1 Axes>"
            ],
            "image/png": "[encoded data removed]"
          },
          "metadata": {}
        }
      ]
    },
    {
      "cell_type": "code",
      "source": [
        "# MC\n",
        "# costs = results.compute_costs()\n",
        "plt.hist(costs, bins=50);\n",
        "plt.legend([\"Marginal Costs\"]);"
      ],
      "metadata": {
        "colab": {
          "base_uri": "https://localhost:8080/",
          "height": 430
        },
        "outputId": "5f0ad3d6-ed67-4008-bac6-76ad5debd8a3",
        "id": "FxEQ_eaa1OVr"
      },
      "execution_count": null,
      "outputs": [
        {
          "output_type": "display_data",
          "data": {
            "text/plain": [
              "<Figure size 640x480 with 1 Axes>"
            ],
            "image/png": "[encoded data removed]"
          },
          "metadata": {}
        }
      ]
    },
    {
      "cell_type": "code",
      "source": [
        "markups = results.compute_markups(costs=costs)\n",
        "plt.hist(markups, bins=50);\n",
        "plt.legend([\"Markups\"]);"
      ],
      "metadata": {
        "colab": {
          "base_uri": "https://localhost:8080/",
          "height": 482
        },
        "outputId": "485c05f5-2d51-43e6-8c98-1312f684f2c3",
        "id": "doZeziU71OVr"
      },
      "execution_count": null,
      "outputs": [
        {
          "output_type": "stream",
          "name": "stdout",
          "text": [
            "Computing markups ...\n",
            "Finished after 00:00:01.\n",
            "\n"
          ]
        },
        {
          "output_type": "display_data",
          "data": {
            "text/plain": [
              "<Figure size 640x480 with 1 Axes>"
            ],
            "image/png": "[encoded data removed]"
          },
          "metadata": {}
        }
      ]
    },
    {
      "cell_type": "code",
      "source": [
        "hhi = results.compute_hhi()\n",
        "costs = results.compute_costs()\n",
        "profits = results.compute_profits(costs=costs)\n",
        "cs = results.compute_consumer_surpluses()"
      ],
      "metadata": {
        "colab": {
          "base_uri": "https://localhost:8080/"
        },
        "id": "-EIRJMVWWVny",
        "outputId": "16483868-48ef-4bc7-a3c9-9a597a49e3db"
      },
      "execution_count": null,
      "outputs": [
        {
          "output_type": "stream",
          "name": "stdout",
          "text": [
            "Computing HHI ...\n",
            "Finished after 00:00:02.\n",
            "\n",
            "Computing marginal costs ...\n",
            "Finished after 00:00:02.\n",
            "\n",
            "Computing profits ...\n",
            "Finished after 00:00:01.\n",
            "\n",
            "Computing consumer surpluses with the equation that assumes away nonlinear income effects ...\n",
            "Finished after 00:00:03.\n",
            "\n"
          ]
        }
      ]
    },
    {
      "cell_type": "code",
      "source": [
        "# merge between B6, NK\n",
        "product_data['merger_ids'] = product_data['firm_ids'].replace('AA', 'DL')"
      ],
      "metadata": {
        "id": "qeKk582KWvF_"
      },
      "execution_count": null,
      "outputs": []
    },
    {
      "cell_type": "code",
      "source": [
        "product_data['merger_ids'].describe()"
      ],
      "metadata": {
        "colab": {
          "base_uri": "https://localhost:8080/",
          "height": 210
        },
        "id": "8thDyjHD2TYx",
        "outputId": "32151d74-e355-4819-a5eb-aee310cd49f1"
      },
      "execution_count": null,
      "outputs": [
        {
          "output_type": "execute_result",
          "data": {
            "text/plain": [
              "count     14315\n",
              "unique        7\n",
              "top          DL\n",
              "freq       6838\n",
              "Name: merger_ids, dtype: object"
            ],
            "text/html": [
              "<div>\n",
              "<style scoped>\n",
              "    .dataframe tbody tr th:only-of-type {\n",
              "        vertical-align: middle;\n",
              "    }\n",
              "\n",
              "    .dataframe tbody tr th {\n",
              "        vertical-align: top;\n",
              "    }\n",
              "\n",
              "    .dataframe thead th {\n",
              "        text-align: right;\n",
              "    }\n",
              "</style>\n",
              "<table border=\"1\" class=\"dataframe\">\n",
              "  <thead>\n",
              "    <tr style=\"text-align: right;\">\n",
              "      <th></th>\n",
              "      <th>merger_ids</th>\n",
              "    </tr>\n",
              "  </thead>\n",
              "  <tbody>\n",
              "    <tr>\n",
              "      <th>count</th>\n",
              "      <td>14315</td>\n",
              "    </tr>\n",
              "    <tr>\n",
              "      <th>unique</th>\n",
              "      <td>7</td>\n",
              "    </tr>\n",
              "    <tr>\n",
              "      <th>top</th>\n",
              "      <td>DL</td>\n",
              "    </tr>\n",
              "    <tr>\n",
              "      <th>freq</th>\n",
              "      <td>6838</td>\n",
              "    </tr>\n",
              "  </tbody>\n",
              "</table>\n",
              "</div><br><label><b>dtype:</b> object</label>"
            ]
          },
          "metadata": {},
          "execution_count": 120
        }
      ]
    },
    {
      "cell_type": "code",
      "source": [
        "changed_prices = results.compute_prices(\n",
        "    firm_ids=product_data['merger_ids'],\n",
        "    costs=costs\n",
        ")"
      ],
      "metadata": {
        "colab": {
          "base_uri": "https://localhost:8080/"
        },
        "id": "vnStwWtkW_3f",
        "outputId": "157ed8c3-ff3f-48fa-9495-52bec6652257"
      },
      "execution_count": null,
      "outputs": [
        {
          "output_type": "stream",
          "name": "stdout",
          "text": [
            "Solving for equilibrium prices ...\n",
            "Finished after 00:00:04.\n",
            "\n"
          ]
        }
      ]
    },
    {
      "cell_type": "code",
      "source": [
        "changed_shares =  results.compute_shares(changed_prices)"
      ],
      "metadata": {
        "colab": {
          "base_uri": "https://localhost:8080/"
        },
        "id": "DyTrH7w8XM2A",
        "outputId": "a5ce5f02-e5ed-440a-8db6-2373e322637f"
      },
      "execution_count": null,
      "outputs": [
        {
          "output_type": "stream",
          "name": "stdout",
          "text": [
            "Computing shares ...\n",
            "Finished after 00:00:02.\n",
            "\n"
          ]
        }
      ]
    },
    {
      "cell_type": "code",
      "source": [
        "changed_hhi = results.compute_hhi(\n",
        "    firm_ids=product_data['merger_ids'],\n",
        "    shares=changed_shares\n",
        ")\n",
        "plt.hist(changed_hhi - hhi, bins=5, density = True);\n",
        "plt.legend([\"HHI Changes\"]);"
      ],
      "metadata": {
        "colab": {
          "base_uri": "https://localhost:8080/",
          "height": 482
        },
        "id": "RyvTxKFcXOkb",
        "outputId": "2541f7f3-234b-4b0f-ce6b-762b7b636811"
      },
      "execution_count": null,
      "outputs": [
        {
          "output_type": "stream",
          "name": "stdout",
          "text": [
            "Computing HHI ...\n",
            "Finished after 00:00:03.\n",
            "\n"
          ]
        },
        {
          "output_type": "display_data",
          "data": {
            "text/plain": [
              "<Figure size 640x480 with 1 Axes>"
            ],
            "image/png": "[encoded data removed]"
          },
          "metadata": {}
        }
      ]
    },
    {
      "cell_type": "code",
      "source": [
        "changed_markups = results.compute_markups(changed_prices, costs)\n",
        "markups = results.compute_markups(costs=costs)\n",
        "plt.hist(changed_markups - markups, bins=5);\n",
        "plt.legend([\"Markup Changes\"]);"
      ],
      "metadata": {
        "colab": {
          "base_uri": "https://localhost:8080/",
          "height": 534
        },
        "id": "OyS_7RlwXXct",
        "outputId": "9f28d51d-765c-431d-a8a3-ec8b895d3918"
      },
      "execution_count": null,
      "outputs": [
        {
          "output_type": "stream",
          "name": "stdout",
          "text": [
            "Computing markups ...\n",
            "Finished after 00:00:01.\n",
            "\n",
            "Computing markups ...\n",
            "Finished after 00:00:02.\n",
            "\n"
          ]
        },
        {
          "output_type": "display_data",
          "data": {
            "text/plain": [
              "<Figure size 640x480 with 1 Axes>"
            ],
            "image/png": "[encoded data removed]"
          },
          "metadata": {}
        }
      ]
    },
    {
      "cell_type": "code",
      "source": [
        "changed_cs = results.compute_consumer_surpluses(changed_prices)\n",
        "plt.hist(changed_cs - cs, bins=5);\n",
        "plt.legend([\"Consumer Surplus Changes\"]);"
      ],
      "metadata": {
        "colab": {
          "base_uri": "https://localhost:8080/",
          "height": 500
        },
        "id": "2Ipio81r36-L",
        "outputId": "ae183f9b-29d4-4935-a180-4f517ba4d5bb"
      },
      "execution_count": null,
      "outputs": [
        {
          "output_type": "stream",
          "name": "stdout",
          "text": [
            "Computing consumer surpluses with the equation that assumes away nonlinear income effects ...\n",
            "Finished after 00:00:03.\n",
            "\n"
          ]
        },
        {
          "output_type": "display_data",
          "data": {
            "text/plain": [
              "<Figure size 640x480 with 1 Axes>"
            ],
            "image/png": "[encoded data removed]"
          },
          "metadata": {}
        }
      ]
    },
    {
      "cell_type": "code",
      "source": [],
      "metadata": {
        "id": "SCTQYcwyXhii"
      },
      "execution_count": null,
      "outputs": []
    },
    {
      "cell_type": "markdown",
      "source": [
        "#1.5"
      ],
      "metadata": {
        "id": "Ij0vGVqxU9uX"
      }
    },
    {
      "cell_type": "markdown",
      "source": [
        "## Nevo with supply"
      ],
      "metadata": {
        "id": "CZFG0L8Gv9N4"
      }
    },
    {
      "cell_type": "code",
      "source": [
        "# RC long MC\n",
        "product_data['sales'] = product_data['totalpassengers'] * product_data['prices']\n",
        "product_formulations = (\n",
        "   pyblp.Formulation('prices + marketdistanceticket + AirlineOriginPresence', absorb='C(firm_ids)'),\n",
        "   pyblp.Formulation('1 + prices'),\n",
        "   pyblp.Formulation('marketdistanceticket + AirlineOriginPresence + AirlineDestinationPresence', absorb='C(firm_ids)')\n",
        ")\n",
        "product_formulations"
      ],
      "metadata": {
        "colab": {
          "base_uri": "https://localhost:8080/"
        },
        "outputId": "4988b434-4dd3-49e7-fe68-a348d448ef9d",
        "id": "EwNb5cGOVAXF"
      },
      "execution_count": null,
      "outputs": [
        {
          "output_type": "execute_result",
          "data": {
            "text/plain": [
              "(prices + marketdistanceticket + AirlineOriginPresence + Absorb[C(firm_ids)],\n",
              " 1 + prices,\n",
              " marketdistanceticket + AirlineOriginPresence + AirlineDestinationPresence + Absorb[C(firm_ids)])"
            ]
          },
          "metadata": {},
          "execution_count": 18
        }
      ]
    },
    {
      "cell_type": "code",
      "source": [
        "problem_rc_l = pyblp.Problem(product_formulations, product_data, integration=pyblp.Integration('halton', size=50))\n",
        "problem_rc_l"
      ],
      "metadata": {
        "colab": {
          "base_uri": "https://localhost:8080/"
        },
        "outputId": "96b93b1a-8859-4df8-ace2-93de249a16e9",
        "id": "JbPEtLRLVAXG"
      },
      "execution_count": null,
      "outputs": [
        {
          "output_type": "stream",
          "name": "stdout",
          "text": [
            "Initializing the problem ...\n",
            "Absorbing demand-side fixed effects ...\n",
            "Absorbing supply-side fixed effects ...\n",
            "Initialized the problem after 00:00:07.\n",
            "\n",
            "Dimensions:\n",
            "==================================================================\n",
            " T      N     F     I      K1    K2    K3    MD    MS    ED    ES \n",
            "----  -----  ---  ------  ----  ----  ----  ----  ----  ----  ----\n",
            "4019  14315   8   200950   3     2     3     4     5     1     1  \n",
            "==================================================================\n",
            "\n",
            "Formulations:\n",
            "========================================================================================================\n",
            "        Column Indices:                   0                      1                        2             \n",
            "-------------------------------  --------------------  ---------------------  --------------------------\n",
            "  X1: Linear Characteristics            prices         marketdistanceticket     AirlineOriginPresence   \n",
            " X2: Nonlinear Characteristics            1                   prices                                    \n",
            "X3: Linear Cost Characteristics  marketdistanceticket  AirlineOriginPresence  AirlineDestinationPresence\n",
            "========================================================================================================\n"
          ]
        },
        {
          "output_type": "execute_result",
          "data": {
            "text/plain": [
              "Dimensions:\n",
              "==================================================================\n",
              " T      N     F     I      K1    K2    K3    MD    MS    ED    ES \n",
              "----  -----  ---  ------  ----  ----  ----  ----  ----  ----  ----\n",
              "4019  14315   8   200950   3     2     3     4     5     1     1  \n",
              "==================================================================\n",
              "\n",
              "Formulations:\n",
              "========================================================================================================\n",
              "        Column Indices:                   0                      1                        2             \n",
              "-------------------------------  --------------------  ---------------------  --------------------------\n",
              "  X1: Linear Characteristics            prices         marketdistanceticket     AirlineOriginPresence   \n",
              " X2: Nonlinear Characteristics            1                   prices                                    \n",
              "X3: Linear Cost Characteristics  marketdistanceticket  AirlineOriginPresence  AirlineDestinationPresence\n",
              "========================================================================================================"
            ]
          },
          "metadata": {},
          "execution_count": 19
        }
      ]
    },
    {
      "cell_type": "code",
      "source": [
        "beta_init = np.array([-7, 2, 3])\n",
        "sigma_init =np.array([[0.1, 0.0],  # Random coefficient on constant\n",
        "                [0.0, 0.2]])  # Random coefficient on price\n",
        "pyblp.options.verbose = True\n",
        "bfgs = pyblp.Optimization('bfgs', {'gtol': 1e-4})\n",
        "# with pyblp.parallel(3):\n",
        "# beta_bounds = ((-10, 0,0), (0, 5,5)),\n",
        "results_rc_l = problem_rc_l.solve(beta=beta_init, sigma=sigma_init, optimization = bfgs)"
      ],
      "metadata": {
        "colab": {
          "base_uri": "https://localhost:8080/"
        },
        "outputId": "f1623541-8e1f-43d6-9b78-7369771c4344",
        "id": "uyCFMFEDVAXG"
      },
      "execution_count": null,
      "outputs": [
        {
          "output_type": "stream",
          "name": "stdout",
          "text": [
            "Solving the problem ...\n",
            "\n",
            "Nonlinear Coefficient Initial Values:\n",
            "==========================\n",
            "Sigma:     1       prices \n",
            "------  --------  --------\n",
            "  1     +1.0E-01          \n",
            "prices  +0.0E+00  +2.0E-01\n",
            "==========================\n",
            "\n",
            "Beta Initial Values:\n",
            "=====================================================\n",
            " prices   marketdistanceticket  AirlineOriginPresence\n",
            "--------  --------------------  ---------------------\n",
            "-7.0E+00        +2.0E+00              +3.0E+00       \n",
            "=====================================================\n",
            "\n",
            "Nonlinear Coefficient Lower Bounds:\n",
            "==========================\n",
            "Sigma:     1       prices \n",
            "------  --------  --------\n",
            "  1       -INF            \n",
            "prices  +0.0E+00    -INF  \n",
            "==========================\n",
            "\n",
            "Beta Lower Bounds:\n",
            "=====================================================\n",
            " prices   marketdistanceticket  AirlineOriginPresence\n",
            "--------  --------------------  ---------------------\n",
            "  -INF            -INF                  -INF         \n",
            "=====================================================\n",
            "\n",
            "Nonlinear Coefficient Upper Bounds:\n",
            "==========================\n",
            "Sigma:     1       prices \n",
            "------  --------  --------\n",
            "  1       +INF            \n",
            "prices  +0.0E+00    +INF  \n",
            "==========================\n",
            "\n",
            "Beta Upper Bounds:\n",
            "=====================================================\n",
            " prices   marketdistanceticket  AirlineOriginPresence\n",
            "--------  --------------------  ---------------------\n",
            "  +INF            +INF                  +INF         \n",
            "=====================================================\n",
            "\n",
            "Starting optimization ...\n",
            "\n",
            "GMM   Computation  Optimization   Objective   Fixed Point  Contraction  Clipped  Objective   Objective   Gradient                                                  \n",
            "Step     Time       Iterations   Evaluations  Iterations   Evaluations  Shares     Value    Improvement    Norm                         Theta                      \n",
            "----  -----------  ------------  -----------  -----------  -----------  -------  ---------  -----------  --------  ------------------------------------------------\n",
            " 1     00:00:13         0             1          7346         23371        0     +1.4E+03                +4.5E+03  +1.0E-01, +2.0E-01, -7.0E+00, +2.0E+00, +3.0E+00\n",
            " 1     00:00:13         0             2          7972         25181        0     +5.3E+03                +1.1E+04  +1.0E-01, +5.3E-01, -6.6E+00, +2.9E+00, +3.1E+00\n",
            " 1     00:00:13         0             3          7513         23648        0     +5.5E+02    +8.3E+02    +3.4E+02  +1.0E-01, +3.0E-01, -6.9E+00, +2.3E+00, +3.0E+00\n",
            " 1     00:00:15         1             4          14533        46236        0     +3.0E+04                +2.6E+09  +1.8E-01, +2.4E+00, -5.7E+00, +1.2E+00, +5.3E+00\n",
            " 1     00:00:14         1             5          9961         31901        0     +1.2E+03                +5.6E+03  +1.3E-01, +1.0E+00, -6.5E+00, +1.9E+00, +3.8E+00\n",
            " 1     00:00:13         1             6          7925         24972        0     +4.2E+02    +1.4E+02    +8.9E+02  +1.1E-01, +5.1E-01, -6.8E+00, +2.2E+00, +3.2E+00\n",
            " 1     00:00:13         2             7          7550         23727        0     +2.8E+02    +1.4E+02    +2.9E+02  +1.3E-01, +3.2E-01, -6.3E+00, +2.0E+00, +4.1E+00\n",
            " 1     00:00:13         3             8          7116         23064        0     +2.5E+02    +3.2E+01    +1.6E+02  +2.6E-01, -2.6E-02, -4.3E+00, +1.4E+00, +3.8E+00\n",
            " 1     00:00:13         3             9          7293         23307        0     +1.9E+02    +5.2E+01    +2.8E+02  +1.9E-01, +1.5E-01, -5.4E+00, +1.7E+00, +4.0E+00\n",
            " 1     00:00:13         4            10          7489         23679        0     +2.7E+02                +1.3E+03  +5.8E-01, -1.3E-01, -4.4E+00, +1.5E+00, +4.2E+00\n",
            " 1     00:00:13         4            11          7216         23208        0     +1.8E+02    +1.5E+01    +6.0E+01  +3.2E-01, +6.3E-02, -5.0E+00, +1.6E+00, +4.0E+00\n",
            " 1     00:00:13         5            12          7032         22935        0     +1.7E+02    +5.1E+00    +7.6E+01  +8.4E-02, +8.2E-02, -4.9E+00, +1.6E+00, +4.3E+00\n",
            " 1     00:00:13         6            13          6862         22693        0     +1.7E+02    +9.3E-01    +3.9E+01  +5.7E-02, +5.5E-02, -4.9E+00, +1.6E+00, +4.2E+00\n",
            " 1     00:00:13         7            14          7368         23436        0     +1.7E+02                +1.3E+01  +4.6E-01, +6.9E-02, -5.0E+00, +1.6E+00, +4.2E+00\n",
            " 1     00:00:13         7            15          7099         23036        0     +1.7E+02    +8.1E-02    +1.8E+01  +2.1E-01, +6.0E-02, -4.9E+00, +1.6E+00, +4.2E+00\n",
            " 1     00:00:13         8            16          6944         22806        0     +1.7E+02                +2.6E+01  +3.8E-02, +7.1E-02, -4.9E+00, +1.6E+00, +4.2E+00\n",
            " 1     00:00:13         8            17          7026         22927        0     +1.7E+02    +3.0E-02    +9.5E-01  +1.4E-01, +6.4E-02, -4.9E+00, +1.6E+00, +4.2E+00\n",
            " 1     00:00:13         9            18          7028         22933        0     +1.7E+02    +1.7E-03    +1.4E+00  +1.4E-01, +6.5E-02, -4.9E+00, +1.6E+00, +4.2E+00\n",
            " 1     00:00:13         10           19          7028         22931        0     +1.7E+02    +1.2E-04    +1.3E+00  +1.4E-01, +6.5E-02, -4.9E+00, +1.6E+00, +4.2E+00\n",
            " 1     00:00:13         11           20          7027         22931        0     +1.7E+02    +2.1E-04    +1.2E+00  +1.4E-01, +6.5E-02, -4.9E+00, +1.6E+00, +4.2E+00\n",
            " 1     00:00:13         12           21          7028         22932        0     +1.7E+02    +3.8E-04    +1.0E+00  +1.4E-01, +6.6E-02, -4.9E+00, +1.6E+00, +4.2E+00\n",
            " 1     00:00:13         13           22          7036         22943        0     +1.7E+02    +7.1E-04    +8.2E-01  +1.4E-01, +6.7E-02, -4.9E+00, +1.6E+00, +4.2E+00\n",
            " 1     00:00:13         14           23          7044         22957        0     +1.7E+02    +1.3E-03    +7.2E-01  +1.4E-01, +7.0E-02, -4.9E+00, +1.6E+00, +4.2E+00\n",
            " 1     00:00:14         15           24          7061         22978        0     +1.7E+02    +2.5E-03    +1.1E+00  +1.4E-01, +7.6E-02, -4.9E+00, +1.6E+00, +4.2E+00\n",
            " 1     00:00:14         16           25          7090         23021        0     +1.7E+02    +4.3E-03    +3.3E+00  +1.5E-01, +8.7E-02, -4.9E+00, +1.6E+00, +4.2E+00\n",
            " 1     00:00:13         17           26          7151         23109        0     +1.7E+02    +3.3E-03    +1.3E+01  +1.5E-01, +1.1E-01, -5.0E+00, +1.6E+00, +4.2E+00\n",
            " 1     00:00:13         18           27          7136         23088        0     +1.7E+02    +5.3E-03    +7.9E+00  +1.5E-01, +1.1E-01, -5.0E+00, +1.6E+00, +4.2E+00\n",
            " 1     00:00:13         19           28          7162         23125        0     +1.7E+02    +9.8E-03    +4.4E+00  +1.6E-01, +1.1E-01, -5.0E+00, +1.6E+00, +4.2E+00\n",
            " 1     00:00:14         20           29          7222         23213        0     +1.7E+02    +2.0E-02    +6.3E+00  +1.6E-01, +1.3E-01, -5.0E+00, +1.6E+00, +4.2E+00\n",
            " 1     00:00:13         20           30          7390         23435        0     +1.7E+02                +9.4E+01  +2.0E-01, +2.1E-01, -5.0E+00, +1.6E+00, +4.2E+00\n",
            " 1     00:00:13         20           31          7268         23273        0     +1.7E+02    +1.4E-02    +1.5E+01  +1.7E-01, +1.5E-01, -5.0E+00, +1.6E+00, +4.2E+00\n",
            " 1     00:00:13         21           32          7374         23407        0     +1.7E+02                +5.3E+01  +2.0E-01, +2.0E-01, -5.0E+00, +1.6E+00, +4.2E+00\n",
            " 1     00:00:13         21           33          7313         23329        0     +1.7E+02    +1.0E-02    +2.3E+01  +1.8E-01, +1.7E-01, -5.0E+00, +1.6E+00, +4.2E+00\n",
            " 1     00:00:13         22           34          7326         23345        0     +1.7E+02    +1.8E-02    +1.9E+01  +1.9E-01, +1.7E-01, -5.0E+00, +1.6E+00, +4.2E+00\n",
            " 1     00:00:13         23           35          7356         23389        0     +1.7E+02    +2.7E-02    +1.5E+01  +1.9E-01, +1.9E-01, -5.0E+00, +1.6E+00, +4.2E+00\n",
            " 1     00:00:13         24           36          7401         23451        0     +1.7E+02    +3.2E-02    +1.9E+01  +2.0E-01, +2.2E-01, -5.0E+00, +1.6E+00, +4.2E+00\n",
            " 1     00:00:13         25           37          7445         23520        0     +1.7E+02    +5.2E-02    +9.7E+00  +1.9E-01, +2.4E-01, -5.1E+00, +1.6E+00, +4.2E+00\n",
            " 1     00:00:13         26           38          7539         23706        0     +1.7E+02                +7.6E+01  +1.9E-01, +3.1E-01, -5.1E+00, +1.6E+00, +4.2E+00\n",
            " 1     00:00:13         26           39          7471         23567        0     +1.7E+02    +2.7E-02    +2.5E+01  +1.9E-01, +2.7E-01, -5.1E+00, +1.6E+00, +4.2E+00\n",
            " 1     00:00:13         27           40          7503         23626        0     +1.7E+02    +4.7E-02    +3.2E+01  +1.9E-01, +2.9E-01, -5.1E+00, +1.6E+00, +4.2E+00\n",
            " 1     00:00:13         28           41          7545         23726        0     +1.7E+02    +8.4E-02    +3.8E+01  +1.8E-01, +3.1E-01, -5.1E+00, +1.6E+00, +4.2E+00\n",
            " 1     00:00:13         29           42          7601         23842        0     +1.7E+02    +1.5E-01    +3.9E+01  +1.7E-01, +3.4E-01, -5.2E+00, +1.6E+00, +4.2E+00\n",
            " 1     00:00:13         30           43          7664         24000        0     +1.7E+02    +2.4E-01    +3.3E+01  +1.5E-01, +3.8E-01, -5.3E+00, +1.6E+00, +4.2E+00\n",
            " 1     00:00:13         31           44          7778         24442        0     +1.7E+02    +2.7E-01    +6.0E+01  +1.4E-01, +4.5E-01, -5.4E+00, +1.6E+00, +4.2E+00\n",
            " 1     00:00:14         32           45          7851         24690        0     +1.7E+02    +1.6E-01    +2.3E+01  +1.2E-01, +4.8E-01, -5.5E+00, +1.6E+00, +4.2E+00\n",
            " 1     00:00:13         33           46          7977         25199        0     +1.7E+02    +2.0E-01    +4.0E+01  +1.1E-01, +5.3E-01, -5.6E+00, +1.6E+00, +4.2E+00\n",
            " 1     00:00:13         34           47          8019         25362        0     +1.7E+02    +2.4E-01    +4.9E+01  +1.3E-01, +5.5E-01, -5.6E+00, +1.6E+00, +4.2E+00\n",
            " 1     00:00:13         35           48          8075         25646        0     +1.7E+02    +3.6E-01    +4.4E+01  +8.5E-02, +5.7E-01, -5.7E+00, +1.6E+00, +4.2E+00\n",
            " 1     00:00:14         36           49          8385         26914        0     +1.7E+02    +1.2E-01    +9.5E+01  +2.3E-01, +6.6E-01, -5.9E+00, +1.7E+00, +4.2E+00\n",
            " 1     00:00:14         36           50          8214         26266        0     +1.7E+02    +1.1E-01    +6.2E+01  +1.6E-01, +6.2E-01, -5.8E+00, +1.6E+00, +4.2E+00\n",
            "\n",
            "GMM   Computation  Optimization   Objective   Fixed Point  Contraction  Clipped  Objective   Objective   Gradient                                                  \n",
            "Step     Time       Iterations   Evaluations  Iterations   Evaluations  Shares     Value    Improvement    Norm                         Theta                      \n",
            "----  -----------  ------------  -----------  -----------  -----------  -------  ---------  -----------  --------  ------------------------------------------------\n",
            " 1     00:00:14         37           51          8302         26608        0     +1.7E+02    +1.6E-01    +1.1E+01  +1.9E-01, +6.4E-01, -5.9E+00, +1.7E+00, +4.2E+00\n",
            " 1     00:00:14         38           52          8478         27224        0     +1.7E+02    +2.6E-01    +2.6E+01  +1.3E-01, +6.9E-01, -6.0E+00, +1.7E+00, +4.2E+00\n",
            " 1     00:00:14         39           53          8807         28301        0     +1.7E+02    +2.7E-01    +8.5E+01  +7.1E-02, +7.6E-01, -6.2E+00, +1.7E+00, +4.2E+00\n",
            " 1     00:00:14         40           54          8832         28362        0     +1.7E+02    +3.3E-01    +4.2E+01  +2.1E-02, +7.7E-01, -6.3E+00, +1.7E+00, +4.2E+00\n",
            " 1     00:00:14         41           55          9064         29089        0     +1.7E+02    +3.0E-01    +3.4E+01  +7.7E-02, +8.2E-01, -6.4E+00, +1.7E+00, +4.2E+00\n",
            " 1     00:00:14         42           56          9430         30281        0     +1.7E+02    +3.1E-01    +3.9E+01  +7.1E-02, +9.0E-01, -6.7E+00, +1.7E+00, +4.2E+00\n",
            " 1     00:00:14         43           57          9748         31260        0     +1.7E+02    +2.4E-01    +1.2E+01  +7.8E-02, +9.8E-01, -6.9E+00, +1.7E+00, +4.2E+00\n",
            " 1     00:00:14         44           58          10125        32419        0     +1.7E+02    +2.6E-02    +3.5E+01  +2.2E-02, +1.1E+00, -7.2E+00, +1.7E+00, +4.2E+00\n",
            " 1     00:00:14         45           59          10051        32192        0     +1.7E+02    +3.6E-02    +1.4E+01  +3.0E-02, +1.1E+00, -7.2E+00, +1.7E+00, +4.2E+00\n",
            " 1     00:00:14         46           60          10057        32192        0     +1.7E+02    +7.9E-03    +1.4E+00  +4.0E-02, +1.1E+00, -7.2E+00, +1.7E+00, +4.2E+00\n",
            " 1     00:00:14         47           61          10060        32211        0     +1.7E+02    +3.3E-04    +3.1E-01  +3.7E-02, +1.1E+00, -7.2E+00, +1.7E+00, +4.2E+00\n",
            " 1     00:00:14         48           62          10072        32242        0     +1.7E+02    +5.1E-05    +1.1E-01  +3.8E-02, +1.1E+00, -7.2E+00, +1.7E+00, +4.2E+00\n",
            " 1     00:00:14         49           63          10069        32246        0     +1.7E+02    +1.1E-06    +1.5E-03  +3.8E-02, +1.1E+00, -7.2E+00, +1.7E+00, +4.2E+00\n",
            " 1     00:00:14         50           64          10075        32248        0     +1.7E+02    +6.7E-10    +5.1E-04  +3.8E-02, +1.1E+00, -7.2E+00, +1.7E+00, +4.2E+00\n",
            " 1     00:00:14         51           65          10077        32252        0     +1.7E+02    +3.8E-11    +1.7E-05  +3.8E-02, +1.1E+00, -7.2E+00, +1.7E+00, +4.2E+00\n",
            "\n",
            "Optimization completed after 00:14:36.\n",
            "Computing the Hessian and and updating the weighting matrix ...\n",
            "Computed results after 00:02:35.\n",
            "\n",
            "Problem Results Summary:\n",
            "====================================================================================\n",
            "GMM   Objective  Gradient      Hessian         Hessian     Clipped  Weighting Matrix\n",
            "Step    Value      Norm    Min Eigenvalue  Max Eigenvalue  Shares   Condition Number\n",
            "----  ---------  --------  --------------  --------------  -------  ----------------\n",
            " 1    +1.7E+02   +1.7E-05     +1.4E+00        +3.0E+04        0         +3.0E+02    \n",
            "====================================================================================\n",
            "\n",
            "Starting optimization ...\n",
            "\n",
            "GMM   Computation  Optimization   Objective   Fixed Point  Contraction  Clipped  Objective   Objective   Gradient                                                  \n",
            "Step     Time       Iterations   Evaluations  Iterations   Evaluations  Shares     Value    Improvement    Norm                         Theta                      \n",
            "----  -----------  ------------  -----------  -----------  -----------  -------  ---------  -----------  --------  ------------------------------------------------\n",
            " 2     00:00:11         0             1            0          4019         0     +1.1E+03                +9.3E+02  +3.8E-02, +1.1E+00, -7.2E+00, +1.7E+00, +4.2E+00\n",
            " 2     00:00:13         0             2          7469         23637        0     +1.8E+03                +2.6E+03  +2.7E-02, +8.7E-02, -7.5E+00, +1.7E+00, +4.2E+00\n",
            " 2     00:00:14         0             3          8717         27901        0     +1.0E+03    +9.5E+01    +5.6E+02  +3.6E-02, +8.9E-01, -7.3E+00, +1.7E+00, +4.2E+00\n",
            " 2     00:00:13         1             4          8249         26306        0     +8.5E+02    +1.7E+02    +3.4E+02  +3.0E-02, +6.8E-01, -7.3E+00, +2.0E+00, +4.2E+00\n",
            " 2     00:00:14         2             5          11109        35520        0     +7.2E+02    +1.3E+02    +3.3E+02  -1.1E-01, +1.6E+00, -1.2E+01, +2.9E+00, +2.6E+00\n",
            " 2     00:00:15         3             6          14324        45638        0     +6.5E+02    +6.7E+01    +3.6E+02  +1.5E-01, +2.6E+00, -1.6E+01, +3.5E+00, +4.5E+00\n",
            " 2     00:00:15         4             7          14347        45613        0     +7.4E+02                +7.2E+02  -2.8E+00, +2.1E+00, -1.5E+01, +3.4E+00, +4.0E+00\n",
            " 2     00:00:16         4             8          14053        44728        0     +6.4E+02    +1.4E+01    +3.0E+02  -6.7E-01, +2.4E+00, -1.6E+01, +3.5E+00, +4.3E+00\n",
            " 2     00:00:15         5             9          13497        43042        0     +6.2E+02    +2.2E+01    +1.5E+02  -4.5E-01, +2.3E+00, -1.5E+01, +3.5E+00, +4.1E+00\n",
            " 2     00:00:15         6            10          12679        40498        0     +6.1E+02    +1.1E+01    +1.3E+01  -3.3E-01, +2.0E+00, -1.5E+01, +3.5E+00, +3.7E+00\n",
            " 2     00:00:15         7            11          12147        38821        0     +6.0E+02    +1.7E+00    +3.6E+01  -2.5E-01, +1.9E+00, -1.4E+01, +3.4E+00, +3.6E+00\n",
            " 2     00:00:14         7            12          9622         30742        0     +6.0E+02    +5.6E+00    +9.2E+01  +5.0E-02, +1.2E+00, -1.2E+01, +3.3E+00, +3.5E+00\n",
            " 2     00:00:13         8            13          7804         24629        0     +1.8E+03                +2.4E+03  +7.2E-01, -3.1E-01, -6.5E+00, +2.9E+00, +3.5E+00\n",
            " 2     00:00:14         8            14          8605         27554        0     +6.0E+02    +8.4E-01    +9.7E+01  +2.1E-01, +8.2E-01, -1.0E+01, +3.2E+00, +3.5E+00\n",
            " 2     00:00:14         8            15          8768         27986        0     +6.0E+02    +3.2E-01    +8.6E+01  +1.4E-01, +1.0E+00, -1.1E+01, +3.2E+00, +3.5E+00\n",
            " 2     00:00:14         9            16          8760         28024        0     +6.0E+02    +1.8E+00    +6.5E+01  +1.9E-01, +9.1E-01, -1.1E+01, +3.2E+00, +3.6E+00\n",
            " 2     00:00:13         10           17          8750         27999        0     +6.0E+02    +1.0E+00    +1.8E+00  +1.8E-01, +9.0E-01, -1.1E+01, +3.2E+00, +3.8E+00\n",
            " 2     00:00:13         11           18          8607         27571        0     +6.0E+02    +1.4E-01    +6.7E+00  +1.6E-01, +8.3E-01, -1.0E+01, +3.2E+00, +3.8E+00\n",
            " 2     00:00:14         12           19          8578         27472        0     +5.9E+02    +4.1E-02    +2.2E+00  +1.2E-01, +8.2E-01, -1.0E+01, +3.2E+00, +3.8E+00\n",
            " 2     00:00:14         13           20          8569         27460        0     +5.9E+02    +1.9E-02    +2.2E+00  +7.1E-02, +8.2E-01, -1.0E+01, +3.2E+00, +3.8E+00\n",
            " 2     00:00:13         14           21          8572         27471        0     +5.9E+02    +1.9E-03    +9.4E-01  +5.9E-02, +8.2E-01, -1.0E+01, +3.2E+00, +3.8E+00\n",
            " 2     00:00:13         15           22          8579         27501        0     +5.9E+02    +2.9E-04    +6.6E-02  +5.6E-02, +8.3E-01, -1.0E+01, +3.2E+00, +3.8E+00\n",
            " 2     00:00:13         16           23          8579         27507        0     +5.9E+02    +2.4E-06    +2.6E-03  +5.7E-02, +8.3E-01, -1.0E+01, +3.2E+00, +3.8E+00\n",
            " 2     00:00:14         17           24          8576         27496        0     +5.9E+02    +1.7E-08    +4.8E-05  +5.7E-02, +8.3E-01, -1.0E+01, +3.2E+00, +3.8E+00\n",
            "\n",
            "Optimization completed after 00:05:32.\n",
            "Computing the Hessian and estimating standard errors ...\n",
            "Computed results after 00:02:28.\n",
            "\n",
            "Problem Results Summary:\n",
            "=======================================================================================================\n",
            "GMM   Objective  Gradient      Hessian         Hessian     Clipped  Weighting Matrix  Covariance Matrix\n",
            "Step    Value      Norm    Min Eigenvalue  Max Eigenvalue  Shares   Condition Number  Condition Number \n",
            "----  ---------  --------  --------------  --------------  -------  ----------------  -----------------\n",
            " 2    +5.9E+02   +4.8E-05     +2.8E+00        +6.8E+03        0         +1.5E+04          +1.6E+12     \n",
            "=======================================================================================================\n",
            "\n",
            "Cumulative Statistics:\n",
            "===========================================================================\n",
            "Computation  Optimizer  Optimization   Objective   Fixed Point  Contraction\n",
            "   Time      Converged   Iterations   Evaluations  Iterations   Evaluations\n",
            "-----------  ---------  ------------  -----------  -----------  -----------\n",
            " 00:25:12       Yes          70           91         770613       2468433  \n",
            "===========================================================================\n",
            "\n",
            "Nonlinear Coefficient Estimates (Robust SEs in Parentheses):\n",
            "==============================\n",
            "Sigma:      1         prices  \n",
            "------  ----------  ----------\n",
            "  1      +5.7E-02             \n",
            "        (+2.1E+03)            \n",
            "                              \n",
            "prices   +0.0E+00    +8.3E-01 \n",
            "                    (+3.4E+02)\n",
            "==============================\n",
            "\n",
            "Beta Estimates (Robust SEs in Parentheses):\n",
            "=======================================================\n",
            "  prices    marketdistanceticket  AirlineOriginPresence\n",
            "----------  --------------------  ---------------------\n",
            " -1.0E+01         +3.2E+00              +3.8E+00       \n",
            "(+9.8E+02)       (+4.1E+01)            (+1.3E+01)      \n",
            "=======================================================\n",
            "\n",
            "Gamma Estimates (Robust SEs in Parentheses):\n",
            "=======================================================================\n",
            "marketdistanceticket  AirlineOriginPresence  AirlineDestinationPresence\n",
            "--------------------  ---------------------  --------------------------\n",
            "      +3.6E-01              -2.0E-01                  -2.4E-01         \n",
            "     (+7.2E-01)            (+1.8E+00)                (+1.2E+00)        \n",
            "=======================================================================\n"
          ]
        }
      ]
    },
    {
      "cell_type": "markdown",
      "source": [
        "## Nevo demand only"
      ],
      "metadata": {
        "id": "8ruyuu-3wBi3"
      }
    },
    {
      "cell_type": "code",
      "source": [
        "# Rename variables\n",
        "product_data = product_data.rename(columns={'averageprice': 'prices'})\n",
        "product_data = product_data.rename(columns={'market': 'market_ids'})\n",
        "product_data = product_data.rename(columns={'airline_market_share': 'shares'})\n",
        "product_data = product_data.rename(columns={'tkcarrier': 'firm_ids'})\n",
        "# Rename IV's\n",
        "product_data = product_data.rename(columns={'IV_BR1': 'demand_instruments0'})\n",
        "product_data = product_data.rename(columns={'IV_BR2': 'demand_instruments1'})\n",
        "product_data = product_data.rename(columns={'IV': 'demand_instruments2'})\n",
        "# product_data = product_data.rename(columns={'IV_BR2': 'demand_instruments1'})"
      ],
      "metadata": {
        "id": "0bpJjM9BbiyW"
      },
      "execution_count": null,
      "outputs": []
    },
    {
      "cell_type": "code",
      "source": [
        "product_formulations = (\n",
        "   pyblp.Formulation('prices + marketdistanceticket + AirlineOriginPresence', absorb='C(firm_ids)'),\n",
        "   pyblp.Formulation('1 + prices')\n",
        ")\n",
        "product_formulations"
      ],
      "metadata": {
        "colab": {
          "base_uri": "https://localhost:8080/"
        },
        "outputId": "93ebddf9-9529-46ea-d618-737a63bfb7f8",
        "id": "uLno6JoSwETl"
      },
      "execution_count": null,
      "outputs": [
        {
          "output_type": "execute_result",
          "data": {
            "text/plain": [
              "(prices + marketdistanceticket + AirlineOriginPresence + Absorb[C(firm_ids)],\n",
              " 1 + prices)"
            ]
          },
          "metadata": {},
          "execution_count": 6
        }
      ]
    },
    {
      "cell_type": "code",
      "source": [
        "# use halton integration\n",
        "problem_rc_d = pyblp.Problem(product_formulations, product_data, integration=pyblp.Integration('halton', size=500))\n",
        "problem_rc_d"
      ],
      "metadata": {
        "colab": {
          "base_uri": "https://localhost:8080/"
        },
        "outputId": "4b7ac77d-1e96-4b61-a2cd-47fe68974d50",
        "id": "zDqxMSU_wETm"
      },
      "execution_count": null,
      "outputs": [
        {
          "output_type": "stream",
          "name": "stdout",
          "text": [
            "Initializing the problem ...\n",
            "Absorbing demand-side fixed effects ...\n",
            "Initialized the problem after 00:00:11.\n",
            "\n",
            "Dimensions:\n",
            "=================================================\n",
            " T      N     F      I      K1    K2    MD    ED \n",
            "----  -----  ---  -------  ----  ----  ----  ----\n",
            "4019  14315   8   2009500   3     2     5     1  \n",
            "=================================================\n",
            "\n",
            "Formulations:\n",
            "==================================================================================\n",
            "       Column Indices:           0              1                      2          \n",
            "-----------------------------  ------  --------------------  ---------------------\n",
            " X1: Linear Characteristics    prices  marketdistanceticket  AirlineOriginPresence\n",
            "X2: Nonlinear Characteristics    1            prices                              \n",
            "==================================================================================\n"
          ]
        },
        {
          "output_type": "execute_result",
          "data": {
            "text/plain": [
              "Dimensions:\n",
              "=================================================\n",
              " T      N     F      I      K1    K2    MD    ED \n",
              "----  -----  ---  -------  ----  ----  ----  ----\n",
              "4019  14315   8   2009500   3     2     5     1  \n",
              "=================================================\n",
              "\n",
              "Formulations:\n",
              "==================================================================================\n",
              "       Column Indices:           0              1                      2          \n",
              "-----------------------------  ------  --------------------  ---------------------\n",
              " X1: Linear Characteristics    prices  marketdistanceticket  AirlineOriginPresence\n",
              "X2: Nonlinear Characteristics    1            prices                              \n",
              "=================================================================================="
            ]
          },
          "metadata": {},
          "execution_count": 9
        }
      ]
    },
    {
      "cell_type": "code",
      "source": [
        "beta_init = np.array([-10, 2, 3])\n",
        "sigma_init =np.array([[-3, 0.0],  # Random coefficient on constant\n",
        "                [0.0, 3]])  # Random coefficient on price\n",
        "pyblp.options.verbose = True\n",
        "bfgs = pyblp.Optimization('bfgs', {'gtol': 1e-4})\n",
        "# with pyblp.parallel(3):\n",
        "# beta_bounds = ((-10, 0,0), (0, 5,5)),\n",
        "# Optimization('l-bfgs-b', {'ftol': 0, 'gtol': 1e-4})\n",
        "results_rc_d = problem_rc_d.solve(beta=beta_init, sigma=sigma_init, optimization = bfgs)"
      ],
      "metadata": {
        "colab": {
          "base_uri": "https://localhost:8080/"
        },
        "outputId": "1a1c833d-e217-4abd-a5f3-9dd645c9c1bf",
        "id": "FeqdEd5ZwETm"
      },
      "execution_count": null,
      "outputs": [
        {
          "output_type": "stream",
          "name": "stdout",
          "text": [
            "Solving the problem ...\n",
            "\n",
            "Nonlinear Coefficient Initial Values:\n",
            "==========================\n",
            "Sigma:     1       prices \n",
            "------  --------  --------\n",
            "  1     -3.0E+00          \n",
            "prices  +0.0E+00  +3.0E+00\n",
            "==========================\n",
            "\n",
            "Beta Initial Values:\n",
            "=====================================================\n",
            " prices   marketdistanceticket  AirlineOriginPresence\n",
            "--------  --------------------  ---------------------\n",
            "-1.0E+01        +2.0E+00              +3.0E+00       \n",
            "=====================================================\n",
            "\n",
            "Nonlinear Coefficient Lower Bounds:\n",
            "==========================\n",
            "Sigma:     1       prices \n",
            "------  --------  --------\n",
            "  1       -INF            \n",
            "prices  +0.0E+00    -INF  \n",
            "==========================\n",
            "\n",
            "Beta Lower Bounds:\n",
            "=====================================================\n",
            " prices   marketdistanceticket  AirlineOriginPresence\n",
            "--------  --------------------  ---------------------\n",
            "  -INF            -INF                  -INF         \n",
            "=====================================================\n",
            "\n",
            "Nonlinear Coefficient Upper Bounds:\n",
            "==========================\n",
            "Sigma:     1       prices \n",
            "------  --------  --------\n",
            "  1       +INF            \n",
            "prices  +0.0E+00    +INF  \n",
            "==========================\n",
            "\n",
            "Beta Upper Bounds:\n",
            "=====================================================\n",
            " prices   marketdistanceticket  AirlineOriginPresence\n",
            "--------  --------------------  ---------------------\n",
            "  +INF            +INF                  +INF         \n",
            "=====================================================\n",
            "\n",
            "Starting optimization ...\n",
            "\n",
            "GMM   Computation  Optimization   Objective   Fixed Point  Contraction  Clipped  Objective   Objective   Gradient                                                  \n",
            "Step     Time       Iterations   Evaluations  Iterations   Evaluations  Shares     Value    Improvement    Norm                         Theta                      \n",
            "----  -----------  ------------  -----------  -----------  -----------  -------  ---------  -----------  --------  ------------------------------------------------\n",
            " 1     00:00:15         0             1          24622        77381        0     +4.0E+04                +4.4E+04  -3.0E+00, +3.0E+00, -1.0E+01, +2.0E+00, +3.0E+00\n",
            " 1     00:00:14         0             2          21418        67498        0     +1.2E+04    +2.8E+04    +8.9E+03  -3.0E+00, +2.1E+00, -1.0E+01, +1.6E+00, +3.0E+00\n",
            " 1     00:00:13         1             3          17529        55863        0     +2.9E+05                +1.1E+05  +1.3E-01, -2.0E+00, -9.5E+00, +8.0E+00, +3.8E+00\n",
            " 1     00:00:13         1             4          16719        53175        0     +5.9E+03    +6.3E+03    +7.2E+03  -2.4E+00, +1.3E+00, -1.0E+01, +2.8E+00, +3.2E+00\n",
            "\n",
            "At least one error was encountered. As long as the optimization routine does not get stuck at values of theta that give rise to errors, this is not necessarily a problem. If the errors persist or seem to be impacting the optimization results, consider setting an error punishment or following any of the other suggestions below:\n",
            "The fixed point computation of delta failed to converge. This problem can sometimes be mitigated by increasing the maximum number of fixed point iterations, increasing the fixed point tolerance, choosing more reasonable initial parameter values, setting more conservative parameter or share bounds, or using different iteration or optimization configurations.\n",
            "\n",
            " 1     00:00:20         2             5          44354       136742        0     +1.2E+05                +3.7E+04  +1.1E+01, +3.4E+00, -1.3E+01, -4.6E-01, +8.0E+00\n",
            " 1     00:00:12         2             6          15796        50364        0     +5.4E+03    +5.2E+02    +6.5E+03  -1.6E+00, +1.4E+00, -1.0E+01, +2.6E+00, +3.5E+00\n",
            " 1     00:00:16         3             7          24946        78273        0     +1.8E+04                +7.0E+03  -5.1E+00, +2.2E+00, -1.7E+01, +4.8E+00, +1.2E+01\n",
            " 1     00:00:13         3             8          16206        51666        0     +5.4E+03    +1.9E+01    +6.5E+03  -1.7E+00, +1.5E+00, -1.1E+01, +2.7E+00, +3.8E+00\n",
            " 1     00:00:13         4             9          16519        52570        0     +5.3E+03    +3.6E+01    +6.5E+03  -1.8E+00, +1.5E+00, -1.1E+01, +2.8E+00, +3.8E+00\n",
            " 1     00:00:12         5            10          16375        52130        0     +5.3E+03    +7.0E+01    +6.2E+03  -1.7E+00, +1.5E+00, -1.1E+01, +2.8E+00, +3.8E+00\n",
            " 1     00:00:12         5            11          15773        50348        0     +5.0E+03    +2.5E+02    +5.2E+03  -1.6E+00, +1.4E+00, -1.1E+01, +2.8E+00, +3.8E+00\n",
            " 1     00:00:12         6            12          14994        48046        0     +4.5E+03    +4.9E+02    +2.6E+03  -1.4E+00, +1.4E+00, -1.1E+01, +3.0E+00, +3.8E+00\n",
            " 1     00:00:12         7            13          13668        44029        0     +4.3E+03    +1.9E+02    +1.0E+02  -1.1E+00, +1.3E+00, -1.2E+01, +3.1E+00, +3.8E+00\n",
            " 1     00:00:11         8            14          13020        42128        0     +4.3E+03    +7.6E+00    +1.3E+02  -9.5E-01, +1.2E+00, -1.1E+01, +3.0E+00, +3.8E+00\n",
            " 1     00:00:11         9            15          12260        39672        0     +4.3E+03    +5.2E+00    +4.2E+01  -7.6E-01, +1.1E+00, -1.1E+01, +2.9E+00, +3.8E+00\n",
            " 1     00:00:11         10           16          12069        39049        0     +4.3E+03    +6.1E-01    +1.9E+01  -6.9E-01, +1.1E+00, -1.1E+01, +2.9E+00, +3.8E+00\n",
            " 1     00:00:11         11           17          11994        38805        0     +4.3E+03    +2.2E-01    +1.9E+01  -6.4E-01, +1.1E+00, -1.1E+01, +2.9E+00, +3.8E+00\n",
            " 1     00:00:11         12           18          12005        38868        0     +4.3E+03    +1.9E-01    +1.8E+01  -5.9E-01, +1.1E+00, -1.1E+01, +2.9E+00, +3.8E+00\n",
            " 1     00:00:11         13           19          12106        39174        0     +4.3E+03    +1.6E-01    +8.5E+00  -5.5E-01, +1.1E+00, -1.1E+01, +2.9E+00, +3.8E+00\n",
            " 1     00:00:12         14           20          12200        39500        0     +4.3E+03    +5.6E-02    +4.4E+00  -5.5E-01, +1.2E+00, -1.1E+01, +2.9E+00, +3.8E+00\n",
            " 1     00:00:11         15           21          12241        39617        0     +4.3E+03    +9.3E-03    +7.8E-01  -5.6E-01, +1.2E+00, -1.1E+01, +2.9E+00, +3.8E+00\n",
            " 1     00:00:11         16           22          12234        39615        0     +4.3E+03    +7.1E-04    +9.3E-02  -5.6E-01, +1.2E+00, -1.1E+01, +2.9E+00, +3.8E+00\n",
            " 1     00:00:11         17           23          12249        39623        0     +4.3E+03    +9.5E-06    +7.8E-02  -5.6E-01, +1.2E+00, -1.1E+01, +2.9E+00, +3.8E+00\n",
            " 1     00:00:11         18           24          12241        39647        0     +4.3E+03    +4.8E-07    +6.1E-03  -5.6E-01, +1.2E+00, -1.1E+01, +2.9E+00, +3.8E+00\n",
            " 1     00:00:11         19           25          12232        39611        0     +4.3E+03    +1.1E-09    +6.0E-04  -5.6E-01, +1.2E+00, -1.1E+01, +2.9E+00, +3.8E+00\n",
            " 1     00:00:12         20           26          12237        39623        0     +4.3E+03                +6.4E-06  -5.6E-01, +1.2E+00, -1.1E+01, +2.9E+00, +3.8E+00\n",
            " 1     00:00:11         20           27          12241        39636        0     +4.3E+03                +5.5E-04  -5.6E-01, +1.2E+00, -1.1E+01, +2.9E+00, +3.8E+00\n",
            " 1     00:00:11         20           28          12238        39630        0     +4.3E+03                +6.0E-04  -5.6E-01, +1.2E+00, -1.1E+01, +2.9E+00, +3.8E+00\n",
            " 1     00:00:11         20           29          12240        39617        0     +4.3E+03    +1.4E-11    +6.0E-04  -5.6E-01, +1.2E+00, -1.1E+01, +2.9E+00, +3.8E+00\n",
            " 1     00:00:11         20           30          12233        39618        0     +4.3E+03                +6.0E-04  -5.6E-01, +1.2E+00, -1.1E+01, +2.9E+00, +3.8E+00\n",
            " 1     00:00:11         20           31          12239        39637        0     +4.3E+03    +8.2E-12    +6.0E-04  -5.6E-01, +1.2E+00, -1.1E+01, +2.9E+00, +3.8E+00\n",
            " 1     00:00:11         20           32          12239        39619        0     +4.3E+03                +6.0E-04  -5.6E-01, +1.2E+00, -1.1E+01, +2.9E+00, +3.8E+00\n",
            " 1     00:00:11         20           33          12239        39637        0     +4.3E+03                +6.0E-04  -5.6E-01, +1.2E+00, -1.1E+01, +2.9E+00, +3.8E+00\n",
            " 1     00:00:11         20           34          12237        39630        0     +4.3E+03                +6.0E-04  -5.6E-01, +1.2E+00, -1.1E+01, +2.9E+00, +3.8E+00\n",
            " 1     00:00:11         20           35          12239        39637        0     +4.3E+03                +6.0E-04  -5.6E-01, +1.2E+00, -1.1E+01, +2.9E+00, +3.8E+00\n",
            " 1     00:00:11         20           36          12236        39626        0     +4.3E+03    +2.7E-12    +6.0E-04  -5.6E-01, +1.2E+00, -1.1E+01, +2.9E+00, +3.8E+00\n",
            " 1     00:00:11         20           37          12237        39641        0     +4.3E+03                +6.0E-04  -5.6E-01, +1.2E+00, -1.1E+01, +2.9E+00, +3.8E+00\n",
            " 1     00:00:11         20           38          12236        39626        0     +4.3E+03                +6.0E-04  -5.6E-01, +1.2E+00, -1.1E+01, +2.9E+00, +3.8E+00\n",
            " 1     00:00:11         20           39          12237        39641        0     +4.3E+03                +6.0E-04  -5.6E-01, +1.2E+00, -1.1E+01, +2.9E+00, +3.8E+00\n",
            " 1     00:00:11         20           40          12236        39626        0     +4.3E+03                +6.0E-04  -5.6E-01, +1.2E+00, -1.1E+01, +2.9E+00, +3.8E+00\n",
            " 1     00:00:11         20           41          12236        39626        0     +4.3E+03                +6.0E-04  -5.6E-01, +1.2E+00, -1.1E+01, +2.9E+00, +3.8E+00\n",
            " 1     00:00:11         20           42          12236        39626        0     +4.3E+03                +6.0E-04  -5.6E-01, +1.2E+00, -1.1E+01, +2.9E+00, +3.8E+00\n",
            " 1     00:00:11         20           43          12236        39626        0     +4.3E+03                +6.0E-04  -5.6E-01, +1.2E+00, -1.1E+01, +2.9E+00, +3.8E+00\n",
            " 1     00:00:11         20           44          12236        39626        0     +4.3E+03                +6.0E-04  -5.6E-01, +1.2E+00, -1.1E+01, +2.9E+00, +3.8E+00\n",
            " 1     00:00:11         20           45          12236        39626        0     +4.3E+03                +6.0E-04  -5.6E-01, +1.2E+00, -1.1E+01, +2.9E+00, +3.8E+00\n",
            " 1     00:00:11         20           46          12236        39626        0     +4.3E+03                +6.0E-04  -5.6E-01, +1.2E+00, -1.1E+01, +2.9E+00, +3.8E+00\n",
            " 1     00:00:11         20           47          12236        39626        0     +4.3E+03                +6.0E-04  -5.6E-01, +1.2E+00, -1.1E+01, +2.9E+00, +3.8E+00\n",
            " 1     00:00:11         20           48          12236        39626        0     +4.3E+03                +6.0E-04  -5.6E-01, +1.2E+00, -1.1E+01, +2.9E+00, +3.8E+00\n",
            " 1     00:00:11         20           49          12236        39626        0     +4.3E+03                +6.0E-04  -5.6E-01, +1.2E+00, -1.1E+01, +2.9E+00, +3.8E+00\n",
            " 1     00:00:11         20           50          12236        39626        0     +4.3E+03                +6.0E-04  -5.6E-01, +1.2E+00, -1.1E+01, +2.9E+00, +3.8E+00\n",
            "\n",
            "GMM   Computation  Optimization   Objective   Fixed Point  Contraction  Clipped  Objective   Objective   Gradient                                                  \n",
            "Step     Time       Iterations   Evaluations  Iterations   Evaluations  Shares     Value    Improvement    Norm                         Theta                      \n",
            "----  -----------  ------------  -----------  -----------  -----------  -------  ---------  -----------  --------  ------------------------------------------------\n",
            " 1     00:00:11         20           51          12237        39623        0     +4.3E+03                +6.4E-06  -5.6E-01, +1.2E+00, -1.1E+01, +2.9E+00, +3.8E+00\n",
            " 1     00:00:11         20           52          12241        39645        0     +4.3E+03                +4.9E-04  -5.6E-01, +1.2E+00, -1.1E+01, +2.9E+00, +3.8E+00\n",
            " 1     00:00:11         20           53          12237        39601        0     +4.3E+03                +5.4E-04  -5.6E-01, +1.2E+00, -1.1E+01, +2.9E+00, +3.8E+00\n",
            " 1     00:00:11         20           54          12232        39605        0     +4.3E+03                +5.7E-04  -5.6E-01, +1.2E+00, -1.1E+01, +2.9E+00, +3.8E+00\n",
            " 1     00:00:11         20           55          12242        39630        0     +4.3E+03                +5.9E-04  -5.6E-01, +1.2E+00, -1.1E+01, +2.9E+00, +3.8E+00\n",
            " 1     00:00:11         20           56          12239        39623        0     +4.3E+03                +6.0E-04  -5.6E-01, +1.2E+00, -1.1E+01, +2.9E+00, +3.8E+00\n",
            " 1     00:00:12         20           57          12232        39618        0     +4.3E+03                +6.0E-04  -5.6E-01, +1.2E+00, -1.1E+01, +2.9E+00, +3.8E+00\n",
            " 1     00:00:11         20           58          12236        39618        0     +4.3E+03                +6.0E-04  -5.6E-01, +1.2E+00, -1.1E+01, +2.9E+00, +3.8E+00\n",
            " 1     00:00:11         20           59          12235        39624        0     +4.3E+03                +6.0E-04  -5.6E-01, +1.2E+00, -1.1E+01, +2.9E+00, +3.8E+00\n",
            " 1     00:00:11         20           60          12247        39627        0     +4.3E+03                +6.0E-04  -5.6E-01, +1.2E+00, -1.1E+01, +2.9E+00, +3.8E+00\n",
            " 1     00:00:11         20           61          12230        39606        0     +4.3E+03                +6.0E-04  -5.6E-01, +1.2E+00, -1.1E+01, +2.9E+00, +3.8E+00\n",
            " 1     00:00:11         20           62          12247        39636        0     +4.3E+03                +6.0E-04  -5.6E-01, +1.2E+00, -1.1E+01, +2.9E+00, +3.8E+00\n",
            "\n",
            "The optimization routine failed to converge. This problem can sometimes be mitigated by choosing more reasonable initial parameter values, setting more conservative bounds, or configuring other optimization settings.\n",
            "\n",
            "\n",
            "Optimization failed after 00:12:11.\n",
            "Computing the Hessian and and updating the weighting matrix ...\n",
            "Computed results after 00:02:02.\n",
            "\n",
            "Problem Results Summary:\n",
            "====================================================================================\n",
            "GMM   Objective  Gradient      Hessian         Hessian     Clipped  Weighting Matrix\n",
            "Step    Value      Norm    Min Eigenvalue  Max Eigenvalue  Shares   Condition Number\n",
            "----  ---------  --------  --------------  --------------  -------  ----------------\n",
            " 1    +4.3E+03   +6.0E-04     +7.9E+00        +3.8E+04        0         +3.0E+02    \n",
            "====================================================================================\n",
            "\n",
            "Starting optimization ...\n",
            "\n",
            "GMM   Computation  Optimization   Objective   Fixed Point  Contraction  Clipped  Objective   Objective   Gradient                                                  \n",
            "Step     Time       Iterations   Evaluations  Iterations   Evaluations  Shares     Value    Improvement    Norm                         Theta                      \n",
            "----  -----------  ------------  -----------  -----------  -----------  -------  ---------  -----------  --------  ------------------------------------------------\n",
            " 2     00:00:07         0             1            0          4019         0     +4.6E+02                +6.6E+01  -5.6E-01, +1.2E+00, -1.1E+01, +2.9E+00, +3.8E+00\n",
            " 2     00:00:13         0             2          17812        56664        0     +1.8E+03                +3.0E+03  -6.1E-01, +2.2E+00, -1.1E+01, +2.7E+00, +3.8E+00\n",
            " 2     00:00:11         0             3          10590        33939        0     +4.6E+02    +9.5E-01    +5.3E+01  -5.6E-01, +1.2E+00, -1.1E+01, +2.9E+00, +3.8E+00\n",
            " 2     00:00:11         1             4          10932        35117        0     +4.6E+02    +1.7E+00    +3.8E+01  -5.7E-01, +1.2E+00, -1.1E+01, +2.9E+00, +3.8E+00\n",
            " 2     00:00:11         2             5          10906        35084        0     +4.6E+02                +2.9E+01  -4.2E-01, +1.2E+00, -1.0E+01, +2.7E+00, +4.6E+00\n",
            " 2     00:00:11         2             6          10922        35102        0     +4.6E+02    +2.3E-01    +3.5E+01  -5.5E-01, +1.2E+00, -1.1E+01, +2.8E+00, +3.9E+00\n",
            " 2     00:00:11         3             7          10783        34619        0     +4.6E+02    +4.4E-01    +3.1E+01  -5.1E-01, +1.2E+00, -1.1E+01, +2.8E+00, +3.9E+00\n",
            " 2     00:00:10         4             8          10097        32291        0     +4.5E+02    +7.8E-01    +2.2E+01  -5.2E-01, +1.2E+00, -1.0E+01, +2.7E+00, +3.9E+00\n",
            " 2     00:00:11         5             9          10520        33752        0     +4.5E+02    +8.7E-01    +4.8E+00  -6.0E-01, +1.1E+00, -9.7E+00, +2.6E+00, +3.9E+00\n",
            " 2     00:00:11         6            10          10484        33613        0     +4.5E+02                +3.7E+00  -2.8E-01, +1.1E+00, -9.6E+00, +2.5E+00, +3.9E+00\n",
            " 2     00:00:11         6            11          10515        33733        0     +4.5E+02    +1.7E-02    +3.5E+00  -5.2E-01, +1.1E+00, -9.7E+00, +2.6E+00, +3.9E+00\n",
            " 2     00:00:11         7            12          10517        33736        0     +4.5E+02    +1.2E-02    +5.9E-01  -5.4E-01, +1.1E+00, -9.7E+00, +2.6E+00, +3.9E+00\n",
            " 2     00:00:11         8            13          10512        33735        0     +4.5E+02    +3.6E-04    +1.4E-01  -5.4E-01, +1.1E+00, -9.7E+00, +2.6E+00, +3.9E+00\n",
            " 2     00:00:11         9            14          10511        33719        0     +4.5E+02    +3.8E-06    +2.0E-03  -5.4E-01, +1.1E+00, -9.7E+00, +2.6E+00, +3.9E+00\n",
            " 2     00:00:11         10           15          10508        33722        0     +4.5E+02    +4.2E-09    +2.7E-05  -5.4E-01, +1.1E+00, -9.7E+00, +2.6E+00, +3.9E+00\n",
            "\n",
            "Optimization completed after 00:02:40.\n",
            "Computing the Hessian and estimating standard errors ...\n",
            "Computed results after 00:02:00.\n",
            "\n",
            "Problem Results Summary:\n",
            "=======================================================================================================\n",
            "GMM   Objective  Gradient      Hessian         Hessian     Clipped  Weighting Matrix  Covariance Matrix\n",
            "Step    Value      Norm    Min Eigenvalue  Max Eigenvalue  Shares   Condition Number  Condition Number \n",
            "----  ---------  --------  --------------  --------------  -------  ----------------  -----------------\n",
            " 2    +4.5E+02   +2.7E-05     +8.8E-01        +4.4E+03        0         +2.7E+02          +6.0E+16     \n",
            "=======================================================================================================\n",
            "\n",
            "Cumulative Statistics:\n",
            "===========================================================================\n",
            "Computation  Optimizer  Optimization   Objective   Fixed Point  Contraction\n",
            "   Time      Converged   Iterations   Evaluations  Iterations   Evaluations\n",
            "-----------  ---------  ------------  -----------  -----------  -----------\n",
            " 00:18:54       No           31           79         1036898      3335732  \n",
            "===========================================================================\n",
            "\n",
            "Nonlinear Coefficient Estimates (Robust SEs in Parentheses):\n",
            "==============================\n",
            "Sigma:      1         prices  \n",
            "------  ----------  ----------\n",
            "  1      -5.4E-01             \n",
            "        (+8.6E-01)            \n",
            "                              \n",
            "prices   +0.0E+00    +1.1E+00 \n",
            "                    (+2.4E-01)\n",
            "==============================\n",
            "\n",
            "Beta Estimates (Robust SEs in Parentheses):\n",
            "=======================================================\n",
            "  prices    marketdistanceticket  AirlineOriginPresence\n",
            "----------  --------------------  ---------------------\n",
            " -9.7E+00         +2.6E+00              +3.9E+00       \n",
            "(+1.6E+00)       (+3.5E-01)            (+2.1E-01)      \n",
            "=======================================================\n"
          ]
        }
      ]
    },
    {
      "cell_type": "code",
      "source": [
        "# results_rc_d.to_pickle(\"results_rc_3iv.pkl\")"
      ],
      "metadata": {
        "id": "ZOR8sRTxBd6T"
      },
      "execution_count": null,
      "outputs": []
    },
    {
      "cell_type": "markdown",
      "source": [
        "##merger RC\n"
      ],
      "metadata": {
        "id": "rrrXBIVFhaeu"
      }
    },
    {
      "cell_type": "code",
      "source": [
        "results = results_rc_d\n"
      ],
      "metadata": {
        "id": "UvCiYbq7hczZ"
      },
      "execution_count": null,
      "outputs": []
    },
    {
      "cell_type": "code",
      "source": [
        "results"
      ],
      "metadata": {
        "colab": {
          "base_uri": "https://localhost:8080/"
        },
        "id": "tgEWH6spEJlp",
        "outputId": "a6255cbd-af8e-46a0-946f-435e474ce704"
      },
      "execution_count": null,
      "outputs": [
        {
          "output_type": "execute_result",
          "data": {
            "text/plain": [
              "Problem Results Summary:\n",
              "=======================================================================================================\n",
              "GMM   Objective  Gradient      Hessian         Hessian     Clipped  Weighting Matrix  Covariance Matrix\n",
              "Step    Value      Norm    Min Eigenvalue  Max Eigenvalue  Shares   Condition Number  Condition Number \n",
              "----  ---------  --------  --------------  --------------  -------  ----------------  -----------------\n",
              " 2    +4.5E+02   +2.7E-05     +8.8E-01        +4.4E+03        0         +2.7E+02          +6.0E+16     \n",
              "=======================================================================================================\n",
              "\n",
              "Cumulative Statistics:\n",
              "===========================================================================\n",
              "Computation  Optimizer  Optimization   Objective   Fixed Point  Contraction\n",
              "   Time      Converged   Iterations   Evaluations  Iterations   Evaluations\n",
              "-----------  ---------  ------------  -----------  -----------  -----------\n",
              " 00:18:54       No           31           79         1036898      3335732  \n",
              "===========================================================================\n",
              "\n",
              "Nonlinear Coefficient Estimates (Robust SEs in Parentheses):\n",
              "==============================\n",
              "Sigma:      1         prices  \n",
              "------  ----------  ----------\n",
              "  1      -5.4E-01             \n",
              "        (+8.6E-01)            \n",
              "                              \n",
              "prices   +0.0E+00    +1.1E+00 \n",
              "                    (+2.4E-01)\n",
              "==============================\n",
              "\n",
              "Beta Estimates (Robust SEs in Parentheses):\n",
              "=======================================================\n",
              "  prices    marketdistanceticket  AirlineOriginPresence\n",
              "----------  --------------------  ---------------------\n",
              " -9.7E+00         +2.6E+00              +3.9E+00       \n",
              "(+1.6E+00)       (+3.5E-01)            (+2.1E-01)      \n",
              "======================================================="
            ]
          },
          "metadata": {},
          "execution_count": 13
        }
      ]
    },
    {
      "cell_type": "code",
      "source": [
        "costs = results.compute_costs()\n",
        "markups = results.compute_markups(costs=costs)\n",
        "hhi = results.compute_hhi()\n",
        "profits = results.compute_profits(costs=costs)\n",
        "cs = results.compute_consumer_surpluses()"
      ],
      "metadata": {
        "colab": {
          "base_uri": "https://localhost:8080/"
        },
        "id": "QsQHlRnWBknp",
        "outputId": "fdb93a47-d919-40ff-a199-631bc7f0ab4d"
      },
      "execution_count": null,
      "outputs": [
        {
          "output_type": "stream",
          "name": "stdout",
          "text": [
            "Computing marginal costs ...\n",
            "Finished after 00:00:03.\n",
            "\n",
            "Computing markups ...\n",
            "Finished after 00:00:01.\n",
            "\n",
            "Computing HHI ...\n",
            "Finished after 00:00:02.\n",
            "\n",
            "Computing profits ...\n",
            "Finished after 00:00:01.\n",
            "\n",
            "Computing consumer surpluses with the equation that assumes away nonlinear income effects ...\n",
            "Finished after 00:00:02.\n",
            "\n"
          ]
        }
      ]
    },
    {
      "cell_type": "code",
      "source": [
        "# merge between B6, NK\n",
        "# Identify markets where both NK and B6 are present\n",
        "shared_markets = product_data.groupby(\"market_ids\")[\"firm_ids\"].unique()\n",
        "shared_markets = shared_markets[shared_markets.apply(lambda firms: \"B6\" in firms and \"NK\" in firms)].index"
      ],
      "metadata": {
        "id": "XAb6tJB7797x"
      },
      "execution_count": null,
      "outputs": []
    },
    {
      "cell_type": "code",
      "source": [
        "# Simulate the merger: assign NK the same firm ID as B6\n",
        "product_data[\"merger_ids\"] = product_data[\"firm_ids\"].replace('B6', 'NK')"
      ],
      "metadata": {
        "id": "XPTU2VHD797y"
      },
      "execution_count": null,
      "outputs": []
    },
    {
      "cell_type": "code",
      "source": [
        "# Compute new equilibrium prices, shares, HHI, and markups for all markets\n",
        "changed_prices = results.compute_prices(firm_ids=product_data['merger_ids'], costs=costs)\n",
        "changed_shares = results.compute_shares(changed_prices)\n",
        "changed_hhi = results.compute_hhi(firm_ids=product_data['merger_ids'], shares=changed_shares)\n",
        "changed_markups = results.compute_markups(changed_prices, costs)\n",
        "changed_cs = results.compute_consumer_surpluses(changed_prices)"
      ],
      "metadata": {
        "colab": {
          "base_uri": "https://localhost:8080/"
        },
        "outputId": "c2b17384-3522-4fce-f2c3-358b75f6372a",
        "id": "efzGPnXJ797z"
      },
      "execution_count": null,
      "outputs": [
        {
          "output_type": "stream",
          "name": "stdout",
          "text": [
            "Solving for equilibrium prices ...\n",
            "Finished after 00:00:03.\n",
            "\n",
            "Computing shares ...\n",
            "Finished after 00:00:02.\n",
            "\n",
            "Computing HHI ...\n",
            "Finished after 00:00:02.\n",
            "\n",
            "Computing markups ...\n",
            "Finished after 00:00:01.\n",
            "\n",
            "Computing consumer surpluses with the equation that assumes away nonlinear income effects ...\n",
            "Finished after 00:00:03.\n",
            "\n"
          ]
        }
      ]
    },
    {
      "cell_type": "code",
      "source": [
        "plt.hist(changed_cs, bins=50);\n",
        "plt.legend([\"CS\"]);"
      ],
      "metadata": {
        "colab": {
          "base_uri": "https://localhost:8080/",
          "height": 435
        },
        "id": "wUjkmTYjF-99",
        "outputId": "c04a7adf-712c-402e-9fe3-c7ffe9ba6a6c"
      },
      "execution_count": null,
      "outputs": [
        {
          "output_type": "display_data",
          "data": {
            "text/plain": [
              "<Figure size 640x480 with 1 Axes>"
            ],
            "image/png": "[encoded data removed]"
          },
          "metadata": {}
        }
      ]
    },
    {
      "cell_type": "code",
      "source": [
        "plt.hist(markups, bins=50);\n",
        "plt.legend([\"markups\"]);"
      ],
      "metadata": {
        "colab": {
          "base_uri": "https://localhost:8080/",
          "height": 430
        },
        "id": "t1NT3n5iHR11",
        "outputId": "ca72ace9-0093-4497-f631-2ecddca0263c"
      },
      "execution_count": null,
      "outputs": [
        {
          "output_type": "display_data",
          "data": {
            "text/plain": [
              "<Figure size 640x480 with 1 Axes>"
            ],
            "image/png": "[encoded data removed]"
          },
          "metadata": {}
        }
      ]
    },
    {
      "cell_type": "code",
      "source": [
        "plt.hist(changed_markups, bins=50);\n",
        "plt.legend([\"changed_markups\"]);"
      ],
      "metadata": {
        "colab": {
          "base_uri": "https://localhost:8080/",
          "height": 430
        },
        "id": "UKaG_7A7HMYl",
        "outputId": "4af3f56b-b11d-42ad-9113-cc62f0786b47"
      },
      "execution_count": null,
      "outputs": [
        {
          "output_type": "display_data",
          "data": {
            "text/plain": [
              "<Figure size 640x480 with 1 Axes>"
            ],
            "image/png": "[encoded data removed]"
          },
          "metadata": {}
        }
      ]
    },
    {
      "cell_type": "code",
      "source": [
        "# Convert NumPy arrays to Pandas Series with market IDs as index (flattening the arrays)\n",
        "changed_markups = pd.Series(changed_markups.flatten(), index=product_data[\"market_ids\"])\n",
        "markups = pd.Series(markups.flatten(), index=product_data[\"market_ids\"])\n",
        "\n",
        "changed_cs = pd.Series(changed_cs.flatten(), index=product_data[\"market_ids\"].unique())\n",
        "cs = pd.Series(cs.flatten(), index=product_data[\"market_ids\"].unique())"
      ],
      "metadata": {
        "id": "7wC4j4z_7970"
      },
      "execution_count": null,
      "outputs": []
    },
    {
      "cell_type": "code",
      "source": [
        "# changed_markups = results.compute_markups(changed_prices, costs)\n",
        "# markups = results.compute_markups(costs=costs)\n",
        "filtered_markups = changed_markups.loc[shared_markets] - markups.loc[shared_markets]\n",
        "per_change_markups = filtered_markups / markups.loc[shared_markets]\n",
        "plt.hist(per_change_markups, bins=50);\n",
        "plt.legend([\"Markup Changes\"]);"
      ],
      "metadata": {
        "colab": {
          "base_uri": "https://localhost:8080/",
          "height": 430
        },
        "outputId": "cef9e95f-5096-4328-b8dd-a4d86923b5d9",
        "id": "wrpCRjQA7970"
      },
      "execution_count": null,
      "outputs": [
        {
          "output_type": "display_data",
          "data": {
            "text/plain": [
              "<Figure size 640x480 with 1 Axes>"
            ],
            "image/png": "[encoded data removed]"
          },
          "metadata": {}
        }
      ]
    },
    {
      "cell_type": "code",
      "source": [
        "# CS\n",
        "filtered_cs = changed_cs.loc[shared_markets] - cs.loc[shared_markets]\n",
        "per_change_cs = filtered_cs / cs.loc[shared_markets]"
      ],
      "metadata": {
        "id": "FSCtyP5N7971"
      },
      "execution_count": null,
      "outputs": []
    },
    {
      "cell_type": "code",
      "source": [
        "plt.hist(per_change_cs, bins=50);\n",
        "plt.legend([\"Consumer Surplus Changes\"]);"
      ],
      "metadata": {
        "colab": {
          "base_uri": "https://localhost:8080/",
          "height": 430
        },
        "id": "4BRjch1N_krJ",
        "outputId": "03ff4867-ea15-46b0-9c19-b04e1e2af66f"
      },
      "execution_count": null,
      "outputs": [
        {
          "output_type": "display_data",
          "data": {
            "text/plain": [
              "<Figure size 640x480 with 1 Axes>"
            ],
            "image/png": "[encoded data removed]"
          },
          "metadata": {}
        }
      ]
    },
    {
      "cell_type": "markdown",
      "source": [
        "### merger big"
      ],
      "metadata": {
        "id": "2Nv0M8MCIAcu"
      }
    },
    {
      "cell_type": "code",
      "source": [
        "# merge between DL, AA\n",
        "shared_markets = product_data.groupby(\"market_ids\")[\"firm_ids\"].unique()\n",
        "shared_markets = shared_markets[shared_markets.apply(lambda firms: \"DL\" in firms and \"AA\" in firms)].index"
      ],
      "metadata": {
        "id": "_sdkYZY1ICSB"
      },
      "execution_count": null,
      "outputs": []
    },
    {
      "cell_type": "code",
      "source": [
        "# Simulate the merger: assign NK the same firm ID as B6\n",
        "product_data[\"merger_ids\"] = product_data[\"firm_ids\"].replace('DL', 'AA')"
      ],
      "metadata": {
        "id": "jCea4-qCICSB"
      },
      "execution_count": null,
      "outputs": []
    },
    {
      "cell_type": "code",
      "source": [
        "# Compute new equilibrium prices, shares, HHI, and markups for all markets\n",
        "changed_pricesb = results.compute_prices(firm_ids=product_data['merger_ids'], costs=costs)\n",
        "changed_sharesb = results.compute_shares(changed_pricesb)\n",
        "changed_hhib = results.compute_hhi(firm_ids=product_data['merger_ids'], shares=changed_sharesb)\n",
        "changed_markupsb = results.compute_markups(changed_pricesb, costs)\n",
        "changed_csb = results.compute_consumer_surpluses(changed_pricesb)"
      ],
      "metadata": {
        "colab": {
          "base_uri": "https://localhost:8080/"
        },
        "outputId": "a433a576-4597-4cfe-d3f9-225112d69643",
        "id": "qn6PqewWICSB"
      },
      "execution_count": null,
      "outputs": [
        {
          "output_type": "stream",
          "name": "stdout",
          "text": [
            "Solving for equilibrium prices ...\n",
            "Finished after 00:00:07.\n",
            "\n",
            "Computing shares ...\n",
            "Finished after 00:00:02.\n",
            "\n",
            "Computing HHI ...\n",
            "Finished after 00:00:02.\n",
            "\n",
            "Computing markups ...\n",
            "Finished after 00:00:01.\n",
            "\n",
            "Computing consumer surpluses with the equation that assumes away nonlinear income effects ...\n",
            "Finished after 00:00:03.\n",
            "\n"
          ]
        }
      ]
    },
    {
      "cell_type": "code",
      "source": [
        "plt.hist(changed_markupsb, bins=50);\n",
        "plt.legend([\"changed_markups (big)\"]);"
      ],
      "metadata": {
        "colab": {
          "base_uri": "https://localhost:8080/",
          "height": 430
        },
        "outputId": "568b7b87-c934-464f-b551-3c0eaa8b802c",
        "id": "CF2dUGLmICSC"
      },
      "execution_count": null,
      "outputs": [
        {
          "output_type": "display_data",
          "data": {
            "text/plain": [
              "<Figure size 640x480 with 1 Axes>"
            ],
            "image/png": "[encoded data removed]"
          },
          "metadata": {}
        }
      ]
    },
    {
      "cell_type": "code",
      "source": [
        "# Convert NumPy arrays to Pandas Series with market IDs as index (flattening the arrays)\n",
        "changed_markupsb = pd.Series(changed_markupsb.flatten(), index=product_data[\"market_ids\"])\n",
        "# markups = pd.Series(markups.flatten(), index=product_data[\"market_ids\"])\n",
        "\n",
        "changed_csb = pd.Series(changed_csb.flatten(), index=product_data[\"market_ids\"].unique())\n",
        "# cs = pd.Series(cs.flatten(), index=product_data[\"market_ids\"].unique())"
      ],
      "metadata": {
        "id": "WbELDOljICSC"
      },
      "execution_count": null,
      "outputs": []
    },
    {
      "cell_type": "code",
      "source": [
        "# changed_markups = results.compute_markups(changed_prices, costs)\n",
        "# markups = results.compute_markups(costs=costs)\n",
        "filtered_markupsb = changed_markupsb.loc[shared_markets] - markups.loc[shared_markets]\n",
        "per_change_markupsb = filtered_markupsb / markups.loc[shared_markets]\n",
        "plt.hist(per_change_markupsb, bins=50);\n",
        "plt.ylabel(\"Frequency\")\n",
        "plt.title(\"Markup Changes RC\")\n",
        "plt.legend([\"Markup Changes\"]);"
      ],
      "metadata": {
        "colab": {
          "base_uri": "https://localhost:8080/",
          "height": 452
        },
        "outputId": "d7f455d8-70b8-4135-c898-a0816aa3d671",
        "id": "tiB4BoYvICSC"
      },
      "execution_count": null,
      "outputs": [
        {
          "output_type": "display_data",
          "data": {
            "text/plain": [
              "<Figure size 640x480 with 1 Axes>"
            ],
            "image/png": "[encoded data removed]"
          },
          "metadata": {}
        }
      ]
    },
    {
      "cell_type": "code",
      "source": [
        "# CS\n",
        "filtered_csb = changed_csb.loc[shared_markets] - cs.loc[shared_markets]\n",
        "per_change_csb = filtered_csb / cs.loc[shared_markets]"
      ],
      "metadata": {
        "id": "Oac_OCIzICSC"
      },
      "execution_count": null,
      "outputs": []
    },
    {
      "cell_type": "code",
      "source": [
        "plt.hist(per_change_csb, bins=50);\n",
        "plt.ylabel(\"Frequency\")\n",
        "plt.title(\"Consumer Surplus Changes RC\")\n",
        "plt.legend([\"Consumer Surplus Changes\"]);"
      ],
      "metadata": {
        "colab": {
          "base_uri": "https://localhost:8080/",
          "height": 452
        },
        "outputId": "8407093b-17b0-4e75-b920-d891f56943d9",
        "id": "J1T2vzYfICSC"
      },
      "execution_count": null,
      "outputs": [
        {
          "output_type": "display_data",
          "data": {
            "text/plain": [
              "<Figure size 640x480 with 1 Axes>"
            ],
            "image/png": "[encoded data removed]"
          },
          "metadata": {}
        }
      ]
    },
    {
      "cell_type": "code",
      "source": [
        "# Plot both histograms in one figure\n",
        "plt.hist([per_change_cs, per_change_csb], bins=50, alpha=0.6, label=[\"Small merger\", \"Large merger\"])\n",
        "\n",
        "# Add legend and labels\n",
        "plt.legend()\n",
        "plt.xlabel(\"Change in Consumer Surplus\")\n",
        "plt.ylabel(\"Frequency\")\n",
        "plt.title(\"Comparison of Consumer Surplus Changes (NK&B6 vs DL&AA)\")\n",
        "\n",
        "# Show the plot\n",
        "plt.show()\n"
      ],
      "metadata": {
        "colab": {
          "base_uri": "https://localhost:8080/",
          "height": 472
        },
        "id": "oZVRd2BbQxcR",
        "outputId": "18b508f2-f905-4989-81dd-4f55f7ec9888"
      },
      "execution_count": null,
      "outputs": [
        {
          "output_type": "display_data",
          "data": {
            "text/plain": [
              "<Figure size 640x480 with 1 Axes>"
            ],
            "image/png": "[encoded data removed]"
          },
          "metadata": {}
        }
      ]
    },
    {
      "cell_type": "markdown",
      "source": [
        "## merger simple logit (Q 1.4) (Run 1.2 (BR) but with 3 IV's, for comparison)"
      ],
      "metadata": {
        "id": "dWvZiNQQ9VOg"
      }
    },
    {
      "cell_type": "code",
      "source": [
        "# set up problem\n",
        "logit_formulation = pyblp.Formulation('prices + marketdistanceticket + AirlineOriginPresence', absorb='C(firm_ids)')\n",
        "logit_formulation"
      ],
      "metadata": {
        "colab": {
          "base_uri": "https://localhost:8080/"
        },
        "outputId": "fb37ffb5-c9a3-40b7-d559-3b856049009f",
        "id": "RRgYUiEMbvCw"
      },
      "execution_count": null,
      "outputs": [
        {
          "output_type": "execute_result",
          "data": {
            "text/plain": [
              "prices + marketdistanceticket + AirlineOriginPresence + Absorb[C(firm_ids)]"
            ]
          },
          "metadata": {},
          "execution_count": 36
        }
      ]
    },
    {
      "cell_type": "code",
      "source": [
        "# display problem\n",
        "problem = pyblp.Problem(logit_formulation, product_data)\n",
        "problem"
      ],
      "metadata": {
        "colab": {
          "base_uri": "https://localhost:8080/"
        },
        "outputId": "643d5547-b0ea-4d03-8645-c736a48460f2",
        "id": "aq5VbG9KbvCw"
      },
      "execution_count": null,
      "outputs": [
        {
          "output_type": "stream",
          "name": "stdout",
          "text": [
            "Initializing the problem ...\n",
            "Absorbing demand-side fixed effects ...\n",
            "Initialized the problem after 00:00:00.\n",
            "\n",
            "Dimensions:\n",
            "==================================\n",
            " T      N     F    K1    MD    ED \n",
            "----  -----  ---  ----  ----  ----\n",
            "4019  14315   8    3     5     1  \n",
            "==================================\n",
            "\n",
            "Formulations:\n",
            "===============================================================================\n",
            "     Column Indices:          0              1                      2          \n",
            "--------------------------  ------  --------------------  ---------------------\n",
            "X1: Linear Characteristics  prices  marketdistanceticket  AirlineOriginPresence\n",
            "===============================================================================\n"
          ]
        },
        {
          "output_type": "execute_result",
          "data": {
            "text/plain": [
              "Dimensions:\n",
              "==================================\n",
              " T      N     F    K1    MD    ED \n",
              "----  -----  ---  ----  ----  ----\n",
              "4019  14315   8    3     5     1  \n",
              "==================================\n",
              "\n",
              "Formulations:\n",
              "===============================================================================\n",
              "     Column Indices:          0              1                      2          \n",
              "--------------------------  ------  --------------------  ---------------------\n",
              "X1: Linear Characteristics  prices  marketdistanceticket  AirlineOriginPresence\n",
              "==============================================================================="
            ]
          },
          "metadata": {},
          "execution_count": 37
        }
      ]
    },
    {
      "cell_type": "code",
      "source": [
        "#solve problem\n",
        "logit_results = problem.solve()\n",
        "logit_results"
      ],
      "metadata": {
        "colab": {
          "base_uri": "https://localhost:8080/"
        },
        "outputId": "11d311fb-6563-4771-a865-5361c0f66972",
        "id": "GOo-XCATbvCx"
      },
      "execution_count": null,
      "outputs": [
        {
          "output_type": "stream",
          "name": "stdout",
          "text": [
            "Solving the problem ...\n",
            "Updating the weighting matrix ...\n",
            "Computed results after 00:00:00.\n",
            "\n",
            "Problem Results Summary:\n",
            "==========================================\n",
            "GMM   Objective  Clipped  Weighting Matrix\n",
            "Step    Value    Shares   Condition Number\n",
            "----  ---------  -------  ----------------\n",
            " 1    +4.4E+03      0         +3.0E+02    \n",
            "==========================================\n",
            "\n",
            "Estimating standard errors ...\n",
            "Computed results after 00:00:00.\n",
            "\n",
            "Problem Results Summary:\n",
            "=============================================================\n",
            "GMM   Objective  Clipped  Weighting Matrix  Covariance Matrix\n",
            "Step    Value    Shares   Condition Number  Condition Number \n",
            "----  ---------  -------  ----------------  -----------------\n",
            " 2    +5.8E+02      0         +2.6E+02          +1.1E+02     \n",
            "=============================================================\n",
            "\n",
            "Cumulative Statistics:\n",
            "========================\n",
            "Computation   Objective \n",
            "   Time      Evaluations\n",
            "-----------  -----------\n",
            " 00:00:00         2     \n",
            "========================\n",
            "\n",
            "Beta Estimates (Robust SEs in Parentheses):\n",
            "=======================================================\n",
            "  prices    marketdistanceticket  AirlineOriginPresence\n",
            "----------  --------------------  ---------------------\n",
            " -6.4E+00         +2.2E+00              +4.0E+00       \n",
            "(+2.6E-01)       (+1.0E-01)            (+1.9E-01)      \n",
            "=======================================================\n"
          ]
        },
        {
          "output_type": "execute_result",
          "data": {
            "text/plain": [
              "Problem Results Summary:\n",
              "=============================================================\n",
              "GMM   Objective  Clipped  Weighting Matrix  Covariance Matrix\n",
              "Step    Value    Shares   Condition Number  Condition Number \n",
              "----  ---------  -------  ----------------  -----------------\n",
              " 2    +5.8E+02      0         +2.6E+02          +1.1E+02     \n",
              "=============================================================\n",
              "\n",
              "Cumulative Statistics:\n",
              "========================\n",
              "Computation   Objective \n",
              "   Time      Evaluations\n",
              "-----------  -----------\n",
              " 00:00:00         2     \n",
              "========================\n",
              "\n",
              "Beta Estimates (Robust SEs in Parentheses):\n",
              "=======================================================\n",
              "  prices    marketdistanceticket  AirlineOriginPresence\n",
              "----------  --------------------  ---------------------\n",
              " -6.4E+00         +2.2E+00              +4.0E+00       \n",
              "(+2.6E-01)       (+1.0E-01)            (+1.9E-01)      \n",
              "======================================================="
            ]
          },
          "metadata": {},
          "execution_count": 38
        }
      ]
    },
    {
      "cell_type": "code",
      "source": [
        "costs13 = results_l.compute_costs()\n",
        "markups13 = results_l.compute_markups(costs=costs13)\n",
        "hhi13 = results_l.compute_hhi()\n",
        "profits13 = results_l.compute_profits(costs=costs13)\n",
        "cs13 = results_l.compute_consumer_surpluses()\n",
        "prices13 = results_l.compute_prices(costs=costs13)"
      ],
      "metadata": {
        "colab": {
          "base_uri": "https://localhost:8080/"
        },
        "outputId": "0722b0b7-873d-4d51-8e1f-b9fa78605cc1",
        "id": "s60_eo1yCM3H"
      },
      "execution_count": null,
      "outputs": [
        {
          "output_type": "stream",
          "name": "stdout",
          "text": [
            "Computing marginal costs ...\n",
            "Finished after 00:00:02.\n",
            "\n",
            "Computing markups ...\n",
            "Finished after 00:00:01.\n",
            "\n",
            "Computing HHI ...\n",
            "Finished after 00:00:01.\n",
            "\n",
            "Computing profits ...\n",
            "Finished after 00:00:01.\n",
            "\n",
            "Computing consumer surpluses with the equation that assumes away nonlinear income effects ...\n",
            "Finished after 00:00:02.\n",
            "\n",
            "Solving for equilibrium prices ...\n",
            "Finished after 00:00:02.\n",
            "\n"
          ]
        }
      ]
    },
    {
      "cell_type": "code",
      "source": [
        "\n",
        "results_l = logit_results"
      ],
      "metadata": {
        "id": "Ub7wR5Z-9fgs"
      },
      "execution_count": null,
      "outputs": []
    },
    {
      "cell_type": "code",
      "source": [
        "# merge between B6, NK\n",
        "# Identify markets where both NK and B6 are present\n",
        "shared_markets = product_data.groupby(\"market_ids\")[\"firm_ids\"].unique()\n",
        "shared_markets = shared_markets[shared_markets.apply(lambda firms: \"B6\" in firms and \"NK\" in firms)].index\n",
        "\n",
        "# Keep only these markets in the dataset\n",
        "# product_data_filtered = product_data[product_data[\"market_ids\"].isin(shared_markets)]\n",
        "\n",
        "# product_data_filtered"
      ],
      "metadata": {
        "id": "vJz50kw-9YWR"
      },
      "execution_count": null,
      "outputs": []
    },
    {
      "cell_type": "code",
      "source": [
        "# Simulate the merger: assign NK the same firm ID as B6\n",
        "product_data[\"merger_ids\"] = product_data[\"firm_ids\"].replace({\"B6\": \"NK\"})\n"
      ],
      "metadata": {
        "id": "uaQDKOOb9YWS"
      },
      "execution_count": null,
      "outputs": []
    },
    {
      "cell_type": "code",
      "source": [
        "# Compute new equilibrium prices, shares, HHI, and markups for all markets\n",
        "changed_prices13 = results_l.compute_prices(firm_ids=product_data['merger_ids'], costs=costs13)\n",
        "changed_shares13 = results_l.compute_shares(changed_prices13)\n",
        "changed_hhi13 = results_l.compute_hhi(firm_ids=product_data['merger_ids'], shares=changed_shares13)\n",
        "changed_markups13 = results_l.compute_markups(changed_prices13, costs13)\n",
        "changed_cs13 = results_l.compute_consumer_surpluses(changed_prices13)"
      ],
      "metadata": {
        "colab": {
          "base_uri": "https://localhost:8080/"
        },
        "outputId": "242ccf2e-cfaf-48de-de23-bbe1b11766a8",
        "id": "r5Dr1ylc9YWS"
      },
      "execution_count": null,
      "outputs": [
        {
          "output_type": "stream",
          "name": "stdout",
          "text": [
            "Solving for equilibrium prices ...\n",
            "Finished after 00:00:02.\n",
            "\n",
            "Computing shares ...\n",
            "Finished after 00:00:01.\n",
            "\n",
            "Computing HHI ...\n",
            "Finished after 00:00:01.\n",
            "\n",
            "Computing markups ...\n",
            "Finished after 00:00:01.\n",
            "\n",
            "Computing consumer surpluses with the equation that assumes away nonlinear income effects ...\n",
            "Finished after 00:00:02.\n",
            "\n"
          ]
        }
      ]
    },
    {
      "cell_type": "code",
      "source": [
        "# Convert NumPy arrays to Pandas Series with market IDs as index (flattening the arrays)\n",
        "changed_markups13 = pd.Series(changed_markups13.flatten(), index=product_data[\"market_ids\"])\n",
        "markups13 = pd.Series(markups13.flatten(), index=product_data[\"market_ids\"])\n",
        "\n",
        "changed_cs13 = pd.Series(changed_cs13.flatten(), index=product_data[\"market_ids\"].unique())\n",
        "cs13 = pd.Series(cs13.flatten(), index=product_data[\"market_ids\"].unique())"
      ],
      "metadata": {
        "id": "Mg1jBusm9YWS"
      },
      "execution_count": null,
      "outputs": []
    },
    {
      "cell_type": "code",
      "source": [
        "# changed_markups = results.compute_markups(changed_prices, costs)\n",
        "# markups = results.compute_markups(costs=costs)\n",
        "filtered_markups13 = changed_markups13.loc[shared_markets] - markups13.loc[shared_markets]\n",
        "per_change_markups13 = filtered_markups13 / markups13.loc[shared_markets]\n",
        "plt.hist(per_change_markups13, bins=50);\n",
        "plt.ylabel(\"Frequency\")\n",
        "plt.title(\"Markup Changes Simple Logit\")\n",
        "plt.legend([\"Markup Changes\"]);"
      ],
      "metadata": {
        "colab": {
          "base_uri": "https://localhost:8080/",
          "height": 452
        },
        "outputId": "6afda0ea-a48c-4c00-d90d-ddeaf80183ac",
        "id": "zVhcIUNh9YWT"
      },
      "execution_count": null,
      "outputs": [
        {
          "output_type": "display_data",
          "data": {
            "text/plain": [
              "<Figure size 640x480 with 1 Axes>"
            ],
            "image/png": "[encoded data removed]"
          },
          "metadata": {}
        }
      ]
    },
    {
      "cell_type": "code",
      "source": [
        "# Now filtering works correctly\n",
        "filtered_cs13 = changed_cs13.loc[shared_markets] - cs13.loc[shared_markets]\n",
        "per_change_cs13 = filtered_cs13 / cs13.loc[shared_markets]"
      ],
      "metadata": {
        "id": "_0Tx4tCT9YWT"
      },
      "execution_count": null,
      "outputs": []
    },
    {
      "cell_type": "code",
      "source": [
        "plt.hist(per_change_cs13, bins=50);\n",
        "plt.ylabel(\"Frequency\")\n",
        "plt.title(\"Consumer Surplus Simple Logit\")\n",
        "plt.legend([\"Consumer Surplus Changes\"]);"
      ],
      "metadata": {
        "colab": {
          "base_uri": "https://localhost:8080/",
          "height": 452
        },
        "id": "LUJc1VMk-UjS",
        "outputId": "5d08943f-373a-4ffd-fdcd-616697adc0c9"
      },
      "execution_count": null,
      "outputs": [
        {
          "output_type": "display_data",
          "data": {
            "text/plain": [
              "<Figure size 640x480 with 1 Axes>"
            ],
            "image/png": "[encoded data removed]"
          },
          "metadata": {}
        }
      ]
    },
    {
      "cell_type": "markdown",
      "source": [
        "### merger big simple logit"
      ],
      "metadata": {
        "id": "17NXLlcqNed8"
      }
    },
    {
      "cell_type": "code",
      "source": [
        "# merge between B6, NK\n",
        "# Identify markets where both NK and B6 are present\n",
        "shared_markets = product_data.groupby(\"market_ids\")[\"firm_ids\"].unique()\n",
        "shared_markets = shared_markets[shared_markets.apply(lambda firms: \"DL\" in firms and \"AA\" in firms)].index\n",
        "\n",
        "# Keep only these markets in the dataset\n",
        "# product_data_filtered = product_data[product_data[\"market_ids\"].isin(shared_markets)]\n",
        "\n",
        "# product_data_filtered"
      ],
      "metadata": {
        "id": "k6p7Q2e0NwWm"
      },
      "execution_count": null,
      "outputs": []
    },
    {
      "cell_type": "code",
      "source": [
        "# Simulate the merger: assign NK the same firm ID as B6\n",
        "product_data[\"merger_ids\"] = product_data[\"firm_ids\"].replace({\"DL\": \"AA\"})\n"
      ],
      "metadata": {
        "id": "-oPHwjeNNwWn"
      },
      "execution_count": null,
      "outputs": []
    },
    {
      "cell_type": "code",
      "source": [
        "# Compute new equilibrium prices, shares, HHI, and markups for all markets\n",
        "changed_prices13b = results_l.compute_prices(firm_ids=product_data['merger_ids'], costs=costs13)\n",
        "changed_shares13b = results_l.compute_shares(changed_prices13b)\n",
        "changed_hhi13b = results_l.compute_hhi(firm_ids=product_data['merger_ids'], shares=changed_shares13b)\n",
        "changed_markups13b = results_l.compute_markups(changed_prices13b, costs13)\n",
        "changed_cs13b = results_l.compute_consumer_surpluses(changed_prices13b)"
      ],
      "metadata": {
        "colab": {
          "base_uri": "https://localhost:8080/"
        },
        "outputId": "b07ebcdd-c1aa-4ad2-f17c-f396e11ae415",
        "id": "iqlwqxCcNwWn"
      },
      "execution_count": null,
      "outputs": [
        {
          "output_type": "stream",
          "name": "stdout",
          "text": [
            "Solving for equilibrium prices ...\n",
            "Finished after 00:00:03.\n",
            "\n",
            "Computing shares ...\n",
            "Finished after 00:00:01.\n",
            "\n",
            "Computing HHI ...\n",
            "Finished after 00:00:01.\n",
            "\n",
            "Computing markups ...\n",
            "Finished after 00:00:01.\n",
            "\n",
            "Computing consumer surpluses with the equation that assumes away nonlinear income effects ...\n",
            "Finished after 00:00:02.\n",
            "\n"
          ]
        }
      ]
    },
    {
      "cell_type": "code",
      "source": [
        "# Convert NumPy arrays to Pandas Series with market IDs as index (flattening the arrays)\n",
        "changed_markups13b = pd.Series(changed_markups13b.flatten(), index=product_data[\"market_ids\"])\n",
        "# markups13b = pd.Series(markups13.flatten(), index=product_data[\"market_ids\"])\n",
        "\n",
        "changed_cs13b = pd.Series(changed_cs13b.flatten(), index=product_data[\"market_ids\"].unique())\n",
        "# cs13b = pd.Series(cs13.flatten(), index=product_data[\"market_ids\"].unique())"
      ],
      "metadata": {
        "id": "X3e42mZuNwWo"
      },
      "execution_count": null,
      "outputs": []
    },
    {
      "cell_type": "code",
      "source": [
        "# changed_markups = results.compute_markups(changed_prices, costs)\n",
        "# markups = results.compute_markups(costs=costs)\n",
        "filtered_markups13b = changed_markups13b.loc[shared_markets] - markups13.loc[shared_markets]\n",
        "per_change_markups13b = filtered_markups13b / markups13.loc[shared_markets]\n",
        "plt.hist(per_change_markups13b, bins=50);\n",
        "plt.legend([\"Markup Changes (big)\"]);"
      ],
      "metadata": {
        "colab": {
          "base_uri": "https://localhost:8080/",
          "height": 430
        },
        "outputId": "7d535bfc-cabc-4992-fe7e-513cf3ad4fcb",
        "id": "z1xWuWKvNwWo"
      },
      "execution_count": null,
      "outputs": [
        {
          "output_type": "display_data",
          "data": {
            "text/plain": [
              "<Figure size 640x480 with 1 Axes>"
            ],
            "image/png": "[encoded data removed]"
          },
          "metadata": {}
        }
      ]
    },
    {
      "cell_type": "code",
      "source": [
        "# Now filtering works correctly\n",
        "filtered_cs13b = changed_cs13b.loc[shared_markets] - cs13.loc[shared_markets]\n",
        "per_change_cs13b = filtered_cs13b / cs13.loc[shared_markets]"
      ],
      "metadata": {
        "id": "Nmx3dISfNwWo"
      },
      "execution_count": null,
      "outputs": []
    },
    {
      "cell_type": "code",
      "source": [
        "plt.hist(per_change_cs13b, bins=50);\n",
        "plt.legend([\"Consumer Surplus Changes (big)\"]);"
      ],
      "metadata": {
        "colab": {
          "base_uri": "https://localhost:8080/",
          "height": 430
        },
        "outputId": "0d6641a4-ba67-4dba-d9d2-985f05cc6665",
        "id": "H6S9kxR3NwWo"
      },
      "execution_count": null,
      "outputs": [
        {
          "output_type": "display_data",
          "data": {
            "text/plain": [
              "<Figure size 640x480 with 1 Axes>"
            ],
            "image/png": "[encoded data removed]"
          },
          "metadata": {}
        }
      ]
    },
    {
      "cell_type": "code",
      "source": [
        "# Plot both histograms in one figure\n",
        "plt.hist([per_change_cs13, per_change_cs13b], bins=50, alpha=0.6, label=[\"Small merger\", \"Big merger\"])\n",
        "\n",
        "# Add legend and labels\n",
        "plt.legend()\n",
        "plt.xlabel(\"Change in Consumer Surplus\")\n",
        "plt.ylabel(\"Frequency\")\n",
        "plt.title(\"Comparison of Consumer Surplus Changes (NK&B6 vs DL&AA)\")\n",
        "\n",
        "# Show the plot\n",
        "plt.show()\n"
      ],
      "metadata": {
        "colab": {
          "base_uri": "https://localhost:8080/",
          "height": 472
        },
        "id": "xdFEV4jP9xyY",
        "outputId": "46ff33e1-bb98-41e2-8a99-12e545931f99"
      },
      "execution_count": null,
      "outputs": [
        {
          "output_type": "display_data",
          "data": {
            "text/plain": [
              "<Figure size 640x480 with 1 Axes>"
            ],
            "image/png": "[encoded data removed]"
          },
          "metadata": {}
        }
      ]
    },
    {
      "cell_type": "code",
      "source": [
        "# Plot both histograms in one figure\n",
        "plt.hist([per_change_cs13, per_change_cs], bins=50, alpha=0.6, label=[\"Consumer Surplus Change\", \"Consumer Surplus Change RC\"])\n",
        "\n",
        "# Add legend and labels\n",
        "plt.legend()\n",
        "plt.xlabel(\"Change in Consumer Surplus\")\n",
        "plt.ylabel(\"Frequency\")\n",
        "plt.title(\"Comparison of Consumer Surplus Changes (w/ and w/o RC)\")\n",
        "\n",
        "# Show the plot\n",
        "plt.show()\n"
      ],
      "metadata": {
        "colab": {
          "base_uri": "https://localhost:8080/",
          "height": 472
        },
        "id": "62Ghu6eANGOd",
        "outputId": "f9719f6f-3597-4b35-dd22-5af515b3f2df"
      },
      "execution_count": null,
      "outputs": [
        {
          "output_type": "display_data",
          "data": {
            "text/plain": [
              "<Figure size 640x480 with 1 Axes>"
            ],
            "image/png": "[encoded data removed]"
          },
          "metadata": {}
        }
      ]
    },
    {
      "cell_type": "code",
      "source": [
        "# Plot both histograms in one figure\n",
        "plt.hist([per_change_cs13b, per_change_csb], bins=50, alpha=0.6, label=[\"Consumer Surplus Change\", \"Consumer Surplus Change RC\"])\n",
        "\n",
        "# Add legend and labels\n",
        "plt.legend()\n",
        "plt.xlabel(\"Change in Consumer Surplus\")\n",
        "plt.ylabel(\"Frequency\")\n",
        "plt.title(\"Comparison of Consumer Surplus Changes (w/ and w/o RC) for Big merger\")\n",
        "\n",
        "# Show the plot\n",
        "plt.show()"
      ],
      "metadata": {
        "colab": {
          "base_uri": "https://localhost:8080/",
          "height": 472
        },
        "id": "wTA9P390F5kN",
        "outputId": "d5b54f48-ebfc-4e30-ae30-3ceccd4e8a56"
      },
      "execution_count": null,
      "outputs": [
        {
          "output_type": "display_data",
          "data": {
            "text/plain": [
              "<Figure size 640x480 with 1 Axes>"
            ],
            "image/png": "[encoded data removed]"
          },
          "metadata": {}
        }
      ]
    },
    {
      "cell_type": "markdown",
      "source": [
        "# Save data"
      ],
      "metadata": {
        "id": "EPEoOv7cD3cK"
      }
    },
    {
      "cell_type": "code",
      "source": [
        "# Save linear model results\n",
        "#results_l.to_pickle(\"results_l.pkl\")\n",
        "\n",
        "# Save RC model results\n",
        "#results_rc_d.to_pickle(\"results_rc_d.pkl\")\n",
        "\n",
        "results_s.to_pickle(\"results.pkl\")\n"
      ],
      "metadata": {
        "id": "pzpmOEsIRDtk"
      },
      "execution_count": null,
      "outputs": []
    },
    {
      "cell_type": "code",
      "source": [
        "\n",
        "results_l_loaded = pd.read_pickle(\"results_l.pkl\")\n",
        "results_rc_d_loaded = pd.read_pickle(\"results_rc_d.pkl\")\n"
      ],
      "metadata": {
        "id": "BsyOQUzgSTgn"
      },
      "execution_count": null,
      "outputs": []
    },
    {
      "cell_type": "code",
      "source": [
        "results_l_loaded"
      ],
      "metadata": {
        "colab": {
          "base_uri": "https://localhost:8080/"
        },
        "id": "lWJOVj3FT4tN",
        "outputId": "b285145a-f79d-4d00-f8b5-be59ae3e2ce6"
      },
      "execution_count": null,
      "outputs": [
        {
          "output_type": "execute_result",
          "data": {
            "text/plain": [
              "Problem Results Summary:\n",
              "=======================================================================================================\n",
              "GMM   Objective  Gradient      Hessian         Hessian     Clipped  Weighting Matrix  Covariance Matrix\n",
              "Step    Value      Norm    Min Eigenvalue  Max Eigenvalue  Shares   Condition Number  Condition Number \n",
              "----  ---------  --------  --------------  --------------  -------  ----------------  -----------------\n",
              " 2    +3.0E+02   +1.3E-05     +7.2E+01        +4.1E+03        0         +4.7E+04          +6.1E+04     \n",
              "=======================================================================================================\n",
              "\n",
              "Cumulative Statistics:\n",
              "=================================================\n",
              "Computation  Optimizer  Optimization   Objective \n",
              "   Time      Converged   Iterations   Evaluations\n",
              "-----------  ---------  ------------  -----------\n",
              " 00:07:16       Yes          17           24     \n",
              "=================================================\n",
              "\n",
              "Beta Estimates (Robust SEs in Parentheses):\n",
              "=======================================================\n",
              "  prices    marketdistanceticket  AirlineOriginPresence\n",
              "----------  --------------------  ---------------------\n",
              " -7.5E+00         +2.6E+00              +3.9E+00       \n",
              "(+1.8E-01)       (+7.5E-02)            (+2.1E-01)      \n",
              "=======================================================\n",
              "\n",
              "Gamma Estimates (Robust SEs in Parentheses):\n",
              "===================================================================================\n",
              "marketdistanceticket  AirlineOriginPresence  AirlineDestinationPresence  log(sales)\n",
              "--------------------  ---------------------  --------------------------  ----------\n",
              "      +2.1E-01              +1.5E-01                  +1.4E-01            -4.2E-02 \n",
              "     (+2.4E-03)            (+1.8E-02)                (+1.9E-02)          (+1.4E-03)\n",
              "==================================================================================="
            ]
          },
          "metadata": {},
          "execution_count": 419
        }
      ]
    },
    {
      "cell_type": "code",
      "source": [],
      "metadata": {
        "id": "jYaALwwVUW0J"
      },
      "execution_count": null,
      "outputs": []
    }
  ]
}