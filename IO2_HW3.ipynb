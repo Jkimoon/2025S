{
  "nbformat": 4,
  "nbformat_minor": 0,
  "metadata": {
    "colab": {
      "provenance": [],
      "collapsed_sections": [
        "UgeDwWCXvGMy"
      ],
      "include_colab_link": true
    },
    "kernelspec": {
      "name": "python3",
      "display_name": "Python 3"
    },
    "language_info": {
      "name": "python"
    }
  },
  "cells": [
    {
      "cell_type": "markdown",
      "metadata": {
        "id": "view-in-github",
        "colab_type": "text"
      },
      "source": [
        "<a href=\"https://colab.research.google.com/github/Jkimoon/2025S/blob/main/IO2_HW3.ipynb\" target=\"_parent\"><img src=\"https://colab.research.google.com/assets/colab-badge.svg\" alt=\"Open In Colab\"/></a>"
      ]
    },
    {
      "cell_type": "code",
      "source": [
        "!pip install pyblp"
      ],
      "metadata": {
        "colab": {
          "base_uri": "https://localhost:8080/"
        },
        "id": "Mn_76AVAg-PS",
        "outputId": "d94ad836-6385-4c99-efa5-147a953368a7"
      },
      "execution_count": null,
      "outputs": [
        {
          "output_type": "stream",
          "name": "stdout",
          "text": [
            "Requirement already satisfied: pyblp in /usr/local/lib/python3.11/dist-packages (1.1.0)\n",
            "Requirement already satisfied: numpy>=1.17.0 in /usr/local/lib/python3.11/dist-packages (from pyblp) (1.26.4)\n",
            "Requirement already satisfied: patsy>=0.5.1 in /usr/local/lib/python3.11/dist-packages (from pyblp) (1.0.1)\n",
            "Requirement already satisfied: pyhdfe>=0.1.0 in /usr/local/lib/python3.11/dist-packages (from pyblp) (0.2.0)\n",
            "Requirement already satisfied: scipy>=1.2.0 in /usr/local/lib/python3.11/dist-packages (from pyblp) (1.13.1)\n",
            "Requirement already satisfied: sympy>=1.1.0 in /usr/local/lib/python3.11/dist-packages (from pyblp) (1.13.1)\n",
            "Requirement already satisfied: mpmath<1.4,>=1.1.0 in /usr/local/lib/python3.11/dist-packages (from sympy>=1.1.0->pyblp) (1.3.0)\n"
          ]
        }
      ]
    },
    {
      "cell_type": "code",
      "execution_count": null,
      "metadata": {
        "colab": {
          "base_uri": "https://localhost:8080/",
          "height": 35
        },
        "id": "B138HVBlgP6c",
        "outputId": "5d294f7f-7f20-401e-cf8d-ea1216932822"
      },
      "outputs": [
        {
          "output_type": "execute_result",
          "data": {
            "text/plain": [
              "'1.1.0'"
            ],
            "application/vnd.google.colaboratory.intrinsic+json": {
              "type": "string"
            }
          },
          "metadata": {},
          "execution_count": 10
        }
      ],
      "source": [
        "import pyblp\n",
        "import numpy as np\n",
        "import pandas as pd\n",
        "import matplotlib.pyplot as plt\n",
        "\n",
        "pyblp.options.digits = 2\n",
        "pyblp.options.verbose = False\n",
        "pyblp.__version__"
      ]
    },
    {
      "cell_type": "markdown",
      "source": [
        "#Load Data"
      ],
      "metadata": {
        "id": "IAFatHhRvDJy"
      }
    },
    {
      "cell_type": "code",
      "source": [
        "# load data\n",
        "os.chdir(\"C:\\Users\\jkm\\OneDrive - University of Virginia\\5. 2025_Spring\\1. Industrial Organization\\Homework\\Homework3\")\n",
        "product_data = pd.read_csv(\"airline_data_prepared.csv\")\n",
        "# Adjust 'simpleshare' based on the given conditions\n",
        "# product_data['simpleshare'] = -0.000001\n",
        "# If value is greater than or equal to 1, set it to 0.999999\n",
        "# product_data.loc[product_data['simpleshare'] >= 1, 'simpleshare'] = 0.999999\n",
        "# If value is 0, set it to 0.000001\n",
        "# product_data.loc[product_data['simpleshare'] <= 0, 'simpleshare'] = 0.000001"
      ],
      "metadata": {
        "id": "cUFF85_yg0VJ",
        "colab": {
          "base_uri": "https://localhost:8080/",
          "height": 107
        },
        "outputId": "c194c1f8-b2a9-4cae-b1a4-ca84e050ec90"
      },
      "execution_count": null,
      "outputs": [
        {
          "output_type": "error",
          "ename": "SyntaxError",
          "evalue": "(unicode error) 'unicodeescape' codec can't decode bytes in position 2-3: truncated \\UXXXXXXXX escape (<ipython-input-9-60d716df3697>, line 2)",
          "traceback": [
            "\u001b[0;36m  File \u001b[0;32m\"<ipython-input-9-60d716df3697>\"\u001b[0;36m, line \u001b[0;32m2\u001b[0m\n\u001b[0;31m    os.chdir(\"C:\\Users\\jkm\\OneDrive - University of Virginia\\5. 2025_Spring\\1. Industrial Organization\\Homework\\Homework3\")\u001b[0m\n\u001b[0m                                                                                                                          ^\u001b[0m\n\u001b[0;31mSyntaxError\u001b[0m\u001b[0;31m:\u001b[0m (unicode error) 'unicodeescape' codec can't decode bytes in position 2-3: truncated \\UXXXXXXXX escape\n"
          ]
        }
      ]
    },
    {
      "cell_type": "code",
      "source": [
        "# Rename variables\n",
        "product_data = product_data.rename(columns={'averageprice': 'prices'})\n",
        "product_data = product_data.rename(columns={'market': 'market_ids'})\n",
        "product_data = product_data.rename(columns={'airline_market_share': 'shares'})\n",
        "product_data = product_data.rename(columns={'tkcarrier': 'firm_ids'})\n",
        "# Rename IV's\n",
        "product_data = product_data.rename(columns={'AirlineDestinationPresence': 'demand_instruments0'})\n",
        "product_data.head()"
      ],
      "metadata": {
        "colab": {
          "base_uri": "https://localhost:8080/",
          "height": 256
        },
        "id": "5ewCgc2emPm_",
        "outputId": "7625ec8f-1761-440a-ab5e-6816c59db298"
      },
      "execution_count": null,
      "outputs": [
        {
          "output_type": "execute_result",
          "data": {
            "text/plain": [
              "  market_ids firm_ids  marketdistanceticket  OAGnonstop origin dest  \\\n",
              "0     ACYATL       NK              0.677444    1.000000    ACY  ATL   \n",
              "1     ACYDFW       NK              1.326746    0.000000    ACY  DFW   \n",
              "2     ACYFLL       NK              0.978535    0.974646    ACY  FLL   \n",
              "3     ACYIAH       NK              1.342880    0.000000    ACY  IAH   \n",
              "4     ACYLAS       NK              2.208158    0.000000    ACY  LAS   \n",
              "\n",
              "   airportmarketsize    prices  totalpassengers market_nodirection  ...  \\\n",
              "0          6146834.5  0.773634             2200             ACYATL  ...   \n",
              "1          6883516.5  1.360923              140             ACYDFW  ...   \n",
              "2          6248623.5  0.757178            13410             ACYFLL  ...   \n",
              "3          6658437.5  1.381371              130             ACYIAH  ...   \n",
              "4          3761303.0  1.124277              190             ACYLAS  ...   \n",
              "\n",
              "   AirportNetwork_dest  AirlineOriginPresence  demand_instruments0  \\\n",
              "0                   66                    1.0             0.348485   \n",
              "1                   65                    1.0             0.400000   \n",
              "2                   64                    1.0             0.453125   \n",
              "3                   64                    1.0             0.390625   \n",
              "4                   66                    1.0             0.424242   \n",
              "\n",
              "   total_market_passengers  simpleshare  market_total_passengers  marketsize  \\\n",
              "0                     2200          1.0                     2200   6146834.5   \n",
              "1                      140          1.0                      140   6883516.5   \n",
              "2                    13410          1.0                    13410   6248623.5   \n",
              "3                      130          1.0                      130   6658437.5   \n",
              "4                      190          1.0                      190   3761303.0   \n",
              "\n",
              "   inside_share  outside_share    shares  \n",
              "0      0.000358       0.999642  0.000358  \n",
              "1      0.000020       0.999980  0.000020  \n",
              "2      0.002146       0.997854  0.002146  \n",
              "3      0.000020       0.999980  0.000020  \n",
              "4      0.000051       0.999950  0.000051  \n",
              "\n",
              "[5 rows x 27 columns]"
            ],
            "text/html": [
              "\n",
              "  <div id=\"df-0ee08b27-3fa4-41a0-a564-cf71e04f12d4\" class=\"colab-df-container\">\n",
              "    <div>\n",
              "<style scoped>\n",
              "    .dataframe tbody tr th:only-of-type {\n",
              "        vertical-align: middle;\n",
              "    }\n",
              "\n",
              "    .dataframe tbody tr th {\n",
              "        vertical-align: top;\n",
              "    }\n",
              "\n",
              "    .dataframe thead th {\n",
              "        text-align: right;\n",
              "    }\n",
              "</style>\n",
              "<table border=\"1\" class=\"dataframe\">\n",
              "  <thead>\n",
              "    <tr style=\"text-align: right;\">\n",
              "      <th></th>\n",
              "      <th>market_ids</th>\n",
              "      <th>firm_ids</th>\n",
              "      <th>marketdistanceticket</th>\n",
              "      <th>OAGnonstop</th>\n",
              "      <th>origin</th>\n",
              "      <th>dest</th>\n",
              "      <th>airportmarketsize</th>\n",
              "      <th>prices</th>\n",
              "      <th>totalpassengers</th>\n",
              "      <th>market_nodirection</th>\n",
              "      <th>...</th>\n",
              "      <th>AirportNetwork_dest</th>\n",
              "      <th>AirlineOriginPresence</th>\n",
              "      <th>demand_instruments0</th>\n",
              "      <th>total_market_passengers</th>\n",
              "      <th>simpleshare</th>\n",
              "      <th>market_total_passengers</th>\n",
              "      <th>marketsize</th>\n",
              "      <th>inside_share</th>\n",
              "      <th>outside_share</th>\n",
              "      <th>shares</th>\n",
              "    </tr>\n",
              "  </thead>\n",
              "  <tbody>\n",
              "    <tr>\n",
              "      <th>0</th>\n",
              "      <td>ACYATL</td>\n",
              "      <td>NK</td>\n",
              "      <td>0.677444</td>\n",
              "      <td>1.000000</td>\n",
              "      <td>ACY</td>\n",
              "      <td>ATL</td>\n",
              "      <td>6146834.5</td>\n",
              "      <td>0.773634</td>\n",
              "      <td>2200</td>\n",
              "      <td>ACYATL</td>\n",
              "      <td>...</td>\n",
              "      <td>66</td>\n",
              "      <td>1.0</td>\n",
              "      <td>0.348485</td>\n",
              "      <td>2200</td>\n",
              "      <td>1.0</td>\n",
              "      <td>2200</td>\n",
              "      <td>6146834.5</td>\n",
              "      <td>0.000358</td>\n",
              "      <td>0.999642</td>\n",
              "      <td>0.000358</td>\n",
              "    </tr>\n",
              "    <tr>\n",
              "      <th>1</th>\n",
              "      <td>ACYDFW</td>\n",
              "      <td>NK</td>\n",
              "      <td>1.326746</td>\n",
              "      <td>0.000000</td>\n",
              "      <td>ACY</td>\n",
              "      <td>DFW</td>\n",
              "      <td>6883516.5</td>\n",
              "      <td>1.360923</td>\n",
              "      <td>140</td>\n",
              "      <td>ACYDFW</td>\n",
              "      <td>...</td>\n",
              "      <td>65</td>\n",
              "      <td>1.0</td>\n",
              "      <td>0.400000</td>\n",
              "      <td>140</td>\n",
              "      <td>1.0</td>\n",
              "      <td>140</td>\n",
              "      <td>6883516.5</td>\n",
              "      <td>0.000020</td>\n",
              "      <td>0.999980</td>\n",
              "      <td>0.000020</td>\n",
              "    </tr>\n",
              "    <tr>\n",
              "      <th>2</th>\n",
              "      <td>ACYFLL</td>\n",
              "      <td>NK</td>\n",
              "      <td>0.978535</td>\n",
              "      <td>0.974646</td>\n",
              "      <td>ACY</td>\n",
              "      <td>FLL</td>\n",
              "      <td>6248623.5</td>\n",
              "      <td>0.757178</td>\n",
              "      <td>13410</td>\n",
              "      <td>ACYFLL</td>\n",
              "      <td>...</td>\n",
              "      <td>64</td>\n",
              "      <td>1.0</td>\n",
              "      <td>0.453125</td>\n",
              "      <td>13410</td>\n",
              "      <td>1.0</td>\n",
              "      <td>13410</td>\n",
              "      <td>6248623.5</td>\n",
              "      <td>0.002146</td>\n",
              "      <td>0.997854</td>\n",
              "      <td>0.002146</td>\n",
              "    </tr>\n",
              "    <tr>\n",
              "      <th>3</th>\n",
              "      <td>ACYIAH</td>\n",
              "      <td>NK</td>\n",
              "      <td>1.342880</td>\n",
              "      <td>0.000000</td>\n",
              "      <td>ACY</td>\n",
              "      <td>IAH</td>\n",
              "      <td>6658437.5</td>\n",
              "      <td>1.381371</td>\n",
              "      <td>130</td>\n",
              "      <td>ACYIAH</td>\n",
              "      <td>...</td>\n",
              "      <td>64</td>\n",
              "      <td>1.0</td>\n",
              "      <td>0.390625</td>\n",
              "      <td>130</td>\n",
              "      <td>1.0</td>\n",
              "      <td>130</td>\n",
              "      <td>6658437.5</td>\n",
              "      <td>0.000020</td>\n",
              "      <td>0.999980</td>\n",
              "      <td>0.000020</td>\n",
              "    </tr>\n",
              "    <tr>\n",
              "      <th>4</th>\n",
              "      <td>ACYLAS</td>\n",
              "      <td>NK</td>\n",
              "      <td>2.208158</td>\n",
              "      <td>0.000000</td>\n",
              "      <td>ACY</td>\n",
              "      <td>LAS</td>\n",
              "      <td>3761303.0</td>\n",
              "      <td>1.124277</td>\n",
              "      <td>190</td>\n",
              "      <td>ACYLAS</td>\n",
              "      <td>...</td>\n",
              "      <td>66</td>\n",
              "      <td>1.0</td>\n",
              "      <td>0.424242</td>\n",
              "      <td>190</td>\n",
              "      <td>1.0</td>\n",
              "      <td>190</td>\n",
              "      <td>3761303.0</td>\n",
              "      <td>0.000051</td>\n",
              "      <td>0.999950</td>\n",
              "      <td>0.000051</td>\n",
              "    </tr>\n",
              "  </tbody>\n",
              "</table>\n",
              "<p>5 rows × 27 columns</p>\n",
              "</div>\n",
              "    <div class=\"colab-df-buttons\">\n",
              "\n",
              "  <div class=\"colab-df-container\">\n",
              "    <button class=\"colab-df-convert\" onclick=\"convertToInteractive('df-0ee08b27-3fa4-41a0-a564-cf71e04f12d4')\"\n",
              "            title=\"Convert this dataframe to an interactive table.\"\n",
              "            style=\"display:none;\">\n",
              "\n",
              "  <svg xmlns=\"http://www.w3.org/2000/svg\" height=\"24px\" viewBox=\"0 -960 960 960\">\n",
              "    <path d=\"M120-120v-720h720v720H120Zm60-500h600v-160H180v160Zm220 220h160v-160H400v160Zm0 220h160v-160H400v160ZM180-400h160v-160H180v160Zm440 0h160v-160H620v160ZM180-180h160v-160H180v160Zm440 0h160v-160H620v160Z\"/>\n",
              "  </svg>\n",
              "    </button>\n",
              "\n",
              "  <style>\n",
              "    .colab-df-container {\n",
              "      display:flex;\n",
              "      gap: 12px;\n",
              "    }\n",
              "\n",
              "    .colab-df-convert {\n",
              "      background-color: #E8F0FE;\n",
              "      border: none;\n",
              "      border-radius: 50%;\n",
              "      cursor: pointer;\n",
              "      display: none;\n",
              "      fill: #1967D2;\n",
              "      height: 32px;\n",
              "      padding: 0 0 0 0;\n",
              "      width: 32px;\n",
              "    }\n",
              "\n",
              "    .colab-df-convert:hover {\n",
              "      background-color: #E2EBFA;\n",
              "      box-shadow: 0px 1px 2px rgba(60, 64, 67, 0.3), 0px 1px 3px 1px rgba(60, 64, 67, 0.15);\n",
              "      fill: #174EA6;\n",
              "    }\n",
              "\n",
              "    .colab-df-buttons div {\n",
              "      margin-bottom: 4px;\n",
              "    }\n",
              "\n",
              "    [theme=dark] .colab-df-convert {\n",
              "      background-color: #3B4455;\n",
              "      fill: #D2E3FC;\n",
              "    }\n",
              "\n",
              "    [theme=dark] .colab-df-convert:hover {\n",
              "      background-color: #434B5C;\n",
              "      box-shadow: 0px 1px 3px 1px rgba(0, 0, 0, 0.15);\n",
              "      filter: drop-shadow(0px 1px 2px rgba(0, 0, 0, 0.3));\n",
              "      fill: #FFFFFF;\n",
              "    }\n",
              "  </style>\n",
              "\n",
              "    <script>\n",
              "      const buttonEl =\n",
              "        document.querySelector('#df-0ee08b27-3fa4-41a0-a564-cf71e04f12d4 button.colab-df-convert');\n",
              "      buttonEl.style.display =\n",
              "        google.colab.kernel.accessAllowed ? 'block' : 'none';\n",
              "\n",
              "      async function convertToInteractive(key) {\n",
              "        const element = document.querySelector('#df-0ee08b27-3fa4-41a0-a564-cf71e04f12d4');\n",
              "        const dataTable =\n",
              "          await google.colab.kernel.invokeFunction('convertToInteractive',\n",
              "                                                    [key], {});\n",
              "        if (!dataTable) return;\n",
              "\n",
              "        const docLinkHtml = 'Like what you see? Visit the ' +\n",
              "          '<a target=\"_blank\" href=https://colab.research.google.com/notebooks/data_table.ipynb>data table notebook</a>'\n",
              "          + ' to learn more about interactive tables.';\n",
              "        element.innerHTML = '';\n",
              "        dataTable['output_type'] = 'display_data';\n",
              "        await google.colab.output.renderOutput(dataTable, element);\n",
              "        const docLink = document.createElement('div');\n",
              "        docLink.innerHTML = docLinkHtml;\n",
              "        element.appendChild(docLink);\n",
              "      }\n",
              "    </script>\n",
              "  </div>\n",
              "\n",
              "\n",
              "<div id=\"df-9acc16bf-e7dc-406f-b788-7c0c2b0b3ad2\">\n",
              "  <button class=\"colab-df-quickchart\" onclick=\"quickchart('df-9acc16bf-e7dc-406f-b788-7c0c2b0b3ad2')\"\n",
              "            title=\"Suggest charts\"\n",
              "            style=\"display:none;\">\n",
              "\n",
              "<svg xmlns=\"http://www.w3.org/2000/svg\" height=\"24px\"viewBox=\"0 0 24 24\"\n",
              "     width=\"24px\">\n",
              "    <g>\n",
              "        <path d=\"M19 3H5c-1.1 0-2 .9-2 2v14c0 1.1.9 2 2 2h14c1.1 0 2-.9 2-2V5c0-1.1-.9-2-2-2zM9 17H7v-7h2v7zm4 0h-2V7h2v10zm4 0h-2v-4h2v4z\"/>\n",
              "    </g>\n",
              "</svg>\n",
              "  </button>\n",
              "\n",
              "<style>\n",
              "  .colab-df-quickchart {\n",
              "      --bg-color: #E8F0FE;\n",
              "      --fill-color: #1967D2;\n",
              "      --hover-bg-color: #E2EBFA;\n",
              "      --hover-fill-color: #174EA6;\n",
              "      --disabled-fill-color: #AAA;\n",
              "      --disabled-bg-color: #DDD;\n",
              "  }\n",
              "\n",
              "  [theme=dark] .colab-df-quickchart {\n",
              "      --bg-color: #3B4455;\n",
              "      --fill-color: #D2E3FC;\n",
              "      --hover-bg-color: #434B5C;\n",
              "      --hover-fill-color: #FFFFFF;\n",
              "      --disabled-bg-color: #3B4455;\n",
              "      --disabled-fill-color: #666;\n",
              "  }\n",
              "\n",
              "  .colab-df-quickchart {\n",
              "    background-color: var(--bg-color);\n",
              "    border: none;\n",
              "    border-radius: 50%;\n",
              "    cursor: pointer;\n",
              "    display: none;\n",
              "    fill: var(--fill-color);\n",
              "    height: 32px;\n",
              "    padding: 0;\n",
              "    width: 32px;\n",
              "  }\n",
              "\n",
              "  .colab-df-quickchart:hover {\n",
              "    background-color: var(--hover-bg-color);\n",
              "    box-shadow: 0 1px 2px rgba(60, 64, 67, 0.3), 0 1px 3px 1px rgba(60, 64, 67, 0.15);\n",
              "    fill: var(--button-hover-fill-color);\n",
              "  }\n",
              "\n",
              "  .colab-df-quickchart-complete:disabled,\n",
              "  .colab-df-quickchart-complete:disabled:hover {\n",
              "    background-color: var(--disabled-bg-color);\n",
              "    fill: var(--disabled-fill-color);\n",
              "    box-shadow: none;\n",
              "  }\n",
              "\n",
              "  .colab-df-spinner {\n",
              "    border: 2px solid var(--fill-color);\n",
              "    border-color: transparent;\n",
              "    border-bottom-color: var(--fill-color);\n",
              "    animation:\n",
              "      spin 1s steps(1) infinite;\n",
              "  }\n",
              "\n",
              "  @keyframes spin {\n",
              "    0% {\n",
              "      border-color: transparent;\n",
              "      border-bottom-color: var(--fill-color);\n",
              "      border-left-color: var(--fill-color);\n",
              "    }\n",
              "    20% {\n",
              "      border-color: transparent;\n",
              "      border-left-color: var(--fill-color);\n",
              "      border-top-color: var(--fill-color);\n",
              "    }\n",
              "    30% {\n",
              "      border-color: transparent;\n",
              "      border-left-color: var(--fill-color);\n",
              "      border-top-color: var(--fill-color);\n",
              "      border-right-color: var(--fill-color);\n",
              "    }\n",
              "    40% {\n",
              "      border-color: transparent;\n",
              "      border-right-color: var(--fill-color);\n",
              "      border-top-color: var(--fill-color);\n",
              "    }\n",
              "    60% {\n",
              "      border-color: transparent;\n",
              "      border-right-color: var(--fill-color);\n",
              "    }\n",
              "    80% {\n",
              "      border-color: transparent;\n",
              "      border-right-color: var(--fill-color);\n",
              "      border-bottom-color: var(--fill-color);\n",
              "    }\n",
              "    90% {\n",
              "      border-color: transparent;\n",
              "      border-bottom-color: var(--fill-color);\n",
              "    }\n",
              "  }\n",
              "</style>\n",
              "\n",
              "  <script>\n",
              "    async function quickchart(key) {\n",
              "      const quickchartButtonEl =\n",
              "        document.querySelector('#' + key + ' button');\n",
              "      quickchartButtonEl.disabled = true;  // To prevent multiple clicks.\n",
              "      quickchartButtonEl.classList.add('colab-df-spinner');\n",
              "      try {\n",
              "        const charts = await google.colab.kernel.invokeFunction(\n",
              "            'suggestCharts', [key], {});\n",
              "      } catch (error) {\n",
              "        console.error('Error during call to suggestCharts:', error);\n",
              "      }\n",
              "      quickchartButtonEl.classList.remove('colab-df-spinner');\n",
              "      quickchartButtonEl.classList.add('colab-df-quickchart-complete');\n",
              "    }\n",
              "    (() => {\n",
              "      let quickchartButtonEl =\n",
              "        document.querySelector('#df-9acc16bf-e7dc-406f-b788-7c0c2b0b3ad2 button');\n",
              "      quickchartButtonEl.style.display =\n",
              "        google.colab.kernel.accessAllowed ? 'block' : 'none';\n",
              "    })();\n",
              "  </script>\n",
              "</div>\n",
              "\n",
              "    </div>\n",
              "  </div>\n"
            ],
            "application/vnd.google.colaboratory.intrinsic+json": {
              "type": "dataframe",
              "variable_name": "product_data"
            }
          },
          "metadata": {},
          "execution_count": 39
        }
      ]
    },
    {
      "cell_type": "markdown",
      "source": [
        "# 1.2"
      ],
      "metadata": {
        "id": "UgeDwWCXvGMy"
      }
    },
    {
      "cell_type": "code",
      "source": [
        "# set up problem\n",
        "logit_formulation = pyblp.Formulation('prices + marketdistanceticket + AirlineOriginPresence', absorb='C(firm_ids)')\n",
        "logit_formulation"
      ],
      "metadata": {
        "colab": {
          "base_uri": "https://localhost:8080/"
        },
        "id": "JTGDwPLRhdIk",
        "outputId": "ae74d201-43e4-4c70-d2f0-d456dac4c961"
      },
      "execution_count": null,
      "outputs": [
        {
          "output_type": "execute_result",
          "data": {
            "text/plain": [
              "prices + marketdistanceticket + AirlineOriginPresence + Absorb[C(firm_ids)]"
            ]
          },
          "metadata": {},
          "execution_count": 40
        }
      ]
    },
    {
      "cell_type": "code",
      "source": [
        "# display problem\n",
        "problem = pyblp.Problem(logit_formulation, product_data)\n",
        "problem"
      ],
      "metadata": {
        "colab": {
          "base_uri": "https://localhost:8080/"
        },
        "id": "8u3LpeyBjAUP",
        "outputId": "49988d18-c074-4eeb-d2a4-042429fde7a5"
      },
      "execution_count": null,
      "outputs": [
        {
          "output_type": "execute_result",
          "data": {
            "text/plain": [
              "Dimensions:\n",
              "==================================\n",
              " T      N     F    K1    MD    ED \n",
              "----  -----  ---  ----  ----  ----\n",
              "4019  14315   8    3     3     1  \n",
              "==================================\n",
              "\n",
              "Formulations:\n",
              "===============================================================================\n",
              "     Column Indices:          0              1                      2          \n",
              "--------------------------  ------  --------------------  ---------------------\n",
              "X1: Linear Characteristics  prices  marketdistanceticket  AirlineOriginPresence\n",
              "==============================================================================="
            ]
          },
          "metadata": {},
          "execution_count": 41
        }
      ]
    },
    {
      "cell_type": "code",
      "source": [
        "#solve problem\n",
        "logit_results = problem.solve()\n",
        "logit_results"
      ],
      "metadata": {
        "colab": {
          "base_uri": "https://localhost:8080/"
        },
        "id": "Nzq54ceqjOtn",
        "outputId": "aebfd2e2-5419-478b-ef37-80e0f7bf560a"
      },
      "execution_count": null,
      "outputs": [
        {
          "output_type": "execute_result",
          "data": {
            "text/plain": [
              "Problem Results Summary:\n",
              "=============================================================\n",
              "GMM   Objective  Clipped  Weighting Matrix  Covariance Matrix\n",
              "Step    Value    Shares   Condition Number  Condition Number \n",
              "----  ---------  -------  ----------------  -----------------\n",
              " 2    +4.2E-27      0         +5.0E+01          +7.3E+02     \n",
              "=============================================================\n",
              "\n",
              "Cumulative Statistics:\n",
              "========================\n",
              "Computation   Objective \n",
              "   Time      Evaluations\n",
              "-----------  -----------\n",
              " 00:00:00         2     \n",
              "========================\n",
              "\n",
              "Beta Estimates (Robust SEs in Parentheses):\n",
              "=======================================================\n",
              "  prices    marketdistanceticket  AirlineOriginPresence\n",
              "----------  --------------------  ---------------------\n",
              " -2.4E+01         +8.6E+00              +1.3E+00       \n",
              "(+2.4E+00)       (+9.1E-01)            (+7.4E-01)      \n",
              "======================================================="
            ]
          },
          "metadata": {},
          "execution_count": 42
        }
      ]
    },
    {
      "cell_type": "code",
      "source": [
        "#elasticities\n",
        "elasticities = logit_results.compute_elasticities()\n",
        "means = logit_results.extract_diagonal_means(elasticities)\n",
        "\n",
        "plt.hist(\n",
        "    [means.flatten()],\n",
        "    color=['red'],\n",
        "    bins=50\n",
        ");\n",
        "plt.legend(['Mean Own Elasticities']);"
      ],
      "metadata": {
        "colab": {
          "base_uri": "https://localhost:8080/",
          "height": 430
        },
        "id": "m3liajtMmv_n",
        "outputId": "e62bd1df-746f-4bc8-b44a-0f7e288900d2"
      },
      "execution_count": null,
      "outputs": [
        {
          "output_type": "display_data",
          "data": {
            "text/plain": [
              "<Figure size 640x480 with 1 Axes>"
            ],
            "image/png": "[encoded data removed]"
          },
          "metadata": {}
        }
      ]
    },
    {
      "cell_type": "code",
      "source": [
        "# MC\n",
        "costs = logit_results.compute_costs()\n",
        "plt.hist(costs, bins=50);\n",
        "plt.legend([\"Marginal Costs\"]);"
      ],
      "metadata": {
        "colab": {
          "base_uri": "https://localhost:8080/",
          "height": 430
        },
        "id": "hkUAfLrSrevC",
        "outputId": "b4e7c27f-2da4-43d6-b656-9bec47130560"
      },
      "execution_count": null,
      "outputs": [
        {
          "output_type": "display_data",
          "data": {
            "text/plain": [
              "<Figure size 640x480 with 1 Axes>"
            ],
            "image/png": "[encoded data removed]"
          },
          "metadata": {}
        }
      ]
    },
    {
      "cell_type": "code",
      "source": [
        "markups = logit_results.compute_markups(costs=costs)\n",
        "plt.hist(markups, bins=50);\n",
        "plt.legend([\"Markups\"]);"
      ],
      "metadata": {
        "colab": {
          "base_uri": "https://localhost:8080/",
          "height": 430
        },
        "id": "SoDmftlBtqSe",
        "outputId": "7b34e119-bbce-468e-8cca-03be876d2fdf"
      },
      "execution_count": null,
      "outputs": [
        {
          "output_type": "display_data",
          "data": {
            "text/plain": [
              "<Figure size 640x480 with 1 Axes>"
            ],
            "image/png": "[encoded data removed]"
          },
          "metadata": {}
        }
      ]
    },
    {
      "cell_type": "code",
      "source": [],
      "metadata": {
        "id": "HzLUrm_Pt0jW"
      },
      "execution_count": null,
      "outputs": []
    },
    {
      "cell_type": "markdown",
      "source": [
        "# 1.3"
      ],
      "metadata": {
        "id": "7DLETbVUvJp6"
      }
    },
    {
      "cell_type": "code",
      "source": [],
      "metadata": {
        "id": "PuvL72UkvPE7"
      },
      "execution_count": null,
      "outputs": []
    }
  ]
}